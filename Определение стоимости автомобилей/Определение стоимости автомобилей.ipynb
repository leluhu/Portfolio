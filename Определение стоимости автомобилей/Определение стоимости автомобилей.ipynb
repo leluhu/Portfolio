{
 "cells": [
  {
   "cell_type": "markdown",
   "metadata": {},
   "source": [
    "# Определение стоимости автомобилей"
   ]
  },
  {
   "cell_type": "markdown",
   "metadata": {},
   "source": [
    "Сервис по продаже автомобилей с пробегом «Не бит, не крашен» разрабатывает приложение для привлечения новых клиентов. В нём можно быстро узнать рыночную стоимость своего автомобиля. В вашем распоряжении исторические данные: технические характеристики, комплектации и цены автомобилей. Вам нужно построить модель для определения стоимости. \n",
    "\n",
    "Заказчику важны:\n",
    "\n",
    "- качество предсказания;\n",
    "- скорость предсказания;\n",
    "- время обучения."
   ]
  },
  {
   "cell_type": "markdown",
   "metadata": {},
   "source": [
    "## Подготовка данных"
   ]
  },
  {
   "cell_type": "code",
   "execution_count": 2,
   "metadata": {
    "scrolled": true
   },
   "outputs": [],
   "source": [
    "import pandas as pd\n",
    "\n",
    "import numpy as np\n",
    "\n",
    "import seaborn as sns\n",
    "\n",
    "import matplotlib.pyplot as plt\n",
    "\n",
    "import re\n",
    "\n",
    "import scipy.stats as stats\n",
    "\n",
    "from scipy import stats as st\n",
    "\n",
    "from sklearn.metrics import mean_squared_error\n",
    "\n",
    "from sklearn.model_selection import cross_val_score\n",
    "from sklearn.model_selection import train_test_split\n",
    "from sklearn.model_selection import GridSearchCV\n",
    "\n",
    "from sklearn.compose import make_column_transformer\n",
    "\n",
    "from sklearn.metrics import mean_squared_error\n",
    "\n",
    "from sklearn.preprocessing import StandardScaler\n",
    "from sklearn. preprocessing import OneHotEncoder\n",
    "from sklearn.preprocessing import OrdinalEncoder\n",
    "\n",
    "from sklearn.neighbors import KNeighborsRegressor\n",
    "\n",
    "from lightgbm import LGBMRegressor\n",
    "\n",
    "from catboost import CatBoostRegressor"
   ]
  },
  {
   "cell_type": "code",
   "execution_count": 3,
   "metadata": {},
   "outputs": [],
   "source": [
    "try:\n",
    "    df = pd.read_csv('/Users/admin/Downloads/autos.csv')\n",
    "    \n",
    "except:\n",
    "    df = pd.read_csv('https://code.s3.yandex.net//datasets/autos.csv')   "
   ]
  },
  {
   "cell_type": "code",
   "execution_count": 4,
   "metadata": {
    "scrolled": false
   },
   "outputs": [
    {
     "name": "stdout",
     "output_type": "stream",
     "text": [
      "<class 'pandas.core.frame.DataFrame'>\n",
      "RangeIndex: 354369 entries, 0 to 354368\n",
      "Data columns (total 16 columns):\n",
      " #   Column             Non-Null Count   Dtype \n",
      "---  ------             --------------   ----- \n",
      " 0   DateCrawled        354369 non-null  object\n",
      " 1   Price              354369 non-null  int64 \n",
      " 2   VehicleType        316879 non-null  object\n",
      " 3   RegistrationYear   354369 non-null  int64 \n",
      " 4   Gearbox            334536 non-null  object\n",
      " 5   Power              354369 non-null  int64 \n",
      " 6   Model              334664 non-null  object\n",
      " 7   Kilometer          354369 non-null  int64 \n",
      " 8   RegistrationMonth  354369 non-null  int64 \n",
      " 9   FuelType           321474 non-null  object\n",
      " 10  Brand              354369 non-null  object\n",
      " 11  Repaired           283215 non-null  object\n",
      " 12  DateCreated        354369 non-null  object\n",
      " 13  NumberOfPictures   354369 non-null  int64 \n",
      " 14  PostalCode         354369 non-null  int64 \n",
      " 15  LastSeen           354369 non-null  object\n",
      "dtypes: int64(7), object(9)\n",
      "memory usage: 43.3+ MB\n"
     ]
    }
   ],
   "source": [
    "df.info()"
   ]
  },
  {
   "cell_type": "code",
   "execution_count": 5,
   "metadata": {
    "scrolled": true
   },
   "outputs": [
    {
     "data": {
      "text/html": [
       "<div>\n",
       "<style scoped>\n",
       "    .dataframe tbody tr th:only-of-type {\n",
       "        vertical-align: middle;\n",
       "    }\n",
       "\n",
       "    .dataframe tbody tr th {\n",
       "        vertical-align: top;\n",
       "    }\n",
       "\n",
       "    .dataframe thead th {\n",
       "        text-align: right;\n",
       "    }\n",
       "</style>\n",
       "<table border=\"1\" class=\"dataframe\">\n",
       "  <thead>\n",
       "    <tr style=\"text-align: right;\">\n",
       "      <th></th>\n",
       "      <th>Price</th>\n",
       "      <th>RegistrationYear</th>\n",
       "      <th>Power</th>\n",
       "      <th>Kilometer</th>\n",
       "      <th>RegistrationMonth</th>\n",
       "      <th>NumberOfPictures</th>\n",
       "      <th>PostalCode</th>\n",
       "    </tr>\n",
       "  </thead>\n",
       "  <tbody>\n",
       "    <tr>\n",
       "      <th>count</th>\n",
       "      <td>354369.000000</td>\n",
       "      <td>354369.000000</td>\n",
       "      <td>354369.000000</td>\n",
       "      <td>354369.000000</td>\n",
       "      <td>354369.000000</td>\n",
       "      <td>354369.0</td>\n",
       "      <td>354369.000000</td>\n",
       "    </tr>\n",
       "    <tr>\n",
       "      <th>mean</th>\n",
       "      <td>4416.656776</td>\n",
       "      <td>2004.234448</td>\n",
       "      <td>110.094337</td>\n",
       "      <td>128211.172535</td>\n",
       "      <td>5.714645</td>\n",
       "      <td>0.0</td>\n",
       "      <td>50508.689087</td>\n",
       "    </tr>\n",
       "    <tr>\n",
       "      <th>std</th>\n",
       "      <td>4514.158514</td>\n",
       "      <td>90.227958</td>\n",
       "      <td>189.850405</td>\n",
       "      <td>37905.341530</td>\n",
       "      <td>3.726421</td>\n",
       "      <td>0.0</td>\n",
       "      <td>25783.096248</td>\n",
       "    </tr>\n",
       "    <tr>\n",
       "      <th>min</th>\n",
       "      <td>0.000000</td>\n",
       "      <td>1000.000000</td>\n",
       "      <td>0.000000</td>\n",
       "      <td>5000.000000</td>\n",
       "      <td>0.000000</td>\n",
       "      <td>0.0</td>\n",
       "      <td>1067.000000</td>\n",
       "    </tr>\n",
       "    <tr>\n",
       "      <th>25%</th>\n",
       "      <td>1050.000000</td>\n",
       "      <td>1999.000000</td>\n",
       "      <td>69.000000</td>\n",
       "      <td>125000.000000</td>\n",
       "      <td>3.000000</td>\n",
       "      <td>0.0</td>\n",
       "      <td>30165.000000</td>\n",
       "    </tr>\n",
       "    <tr>\n",
       "      <th>50%</th>\n",
       "      <td>2700.000000</td>\n",
       "      <td>2003.000000</td>\n",
       "      <td>105.000000</td>\n",
       "      <td>150000.000000</td>\n",
       "      <td>6.000000</td>\n",
       "      <td>0.0</td>\n",
       "      <td>49413.000000</td>\n",
       "    </tr>\n",
       "    <tr>\n",
       "      <th>75%</th>\n",
       "      <td>6400.000000</td>\n",
       "      <td>2008.000000</td>\n",
       "      <td>143.000000</td>\n",
       "      <td>150000.000000</td>\n",
       "      <td>9.000000</td>\n",
       "      <td>0.0</td>\n",
       "      <td>71083.000000</td>\n",
       "    </tr>\n",
       "    <tr>\n",
       "      <th>max</th>\n",
       "      <td>20000.000000</td>\n",
       "      <td>9999.000000</td>\n",
       "      <td>20000.000000</td>\n",
       "      <td>150000.000000</td>\n",
       "      <td>12.000000</td>\n",
       "      <td>0.0</td>\n",
       "      <td>99998.000000</td>\n",
       "    </tr>\n",
       "  </tbody>\n",
       "</table>\n",
       "</div>"
      ],
      "text/plain": [
       "               Price  RegistrationYear          Power      Kilometer  \\\n",
       "count  354369.000000     354369.000000  354369.000000  354369.000000   \n",
       "mean     4416.656776       2004.234448     110.094337  128211.172535   \n",
       "std      4514.158514         90.227958     189.850405   37905.341530   \n",
       "min         0.000000       1000.000000       0.000000    5000.000000   \n",
       "25%      1050.000000       1999.000000      69.000000  125000.000000   \n",
       "50%      2700.000000       2003.000000     105.000000  150000.000000   \n",
       "75%      6400.000000       2008.000000     143.000000  150000.000000   \n",
       "max     20000.000000       9999.000000   20000.000000  150000.000000   \n",
       "\n",
       "       RegistrationMonth  NumberOfPictures     PostalCode  \n",
       "count      354369.000000          354369.0  354369.000000  \n",
       "mean            5.714645               0.0   50508.689087  \n",
       "std             3.726421               0.0   25783.096248  \n",
       "min             0.000000               0.0    1067.000000  \n",
       "25%             3.000000               0.0   30165.000000  \n",
       "50%             6.000000               0.0   49413.000000  \n",
       "75%             9.000000               0.0   71083.000000  \n",
       "max            12.000000               0.0   99998.000000  "
      ]
     },
     "execution_count": 5,
     "metadata": {},
     "output_type": "execute_result"
    }
   ],
   "source": [
    "df.describe()"
   ]
  },
  {
   "cell_type": "code",
   "execution_count": 6,
   "metadata": {
    "scrolled": true
   },
   "outputs": [
    {
     "data": {
      "text/html": [
       "<div>\n",
       "<style scoped>\n",
       "    .dataframe tbody tr th:only-of-type {\n",
       "        vertical-align: middle;\n",
       "    }\n",
       "\n",
       "    .dataframe tbody tr th {\n",
       "        vertical-align: top;\n",
       "    }\n",
       "\n",
       "    .dataframe thead th {\n",
       "        text-align: right;\n",
       "    }\n",
       "</style>\n",
       "<table border=\"1\" class=\"dataframe\">\n",
       "  <thead>\n",
       "    <tr style=\"text-align: right;\">\n",
       "      <th></th>\n",
       "      <th>DateCrawled</th>\n",
       "      <th>Price</th>\n",
       "      <th>VehicleType</th>\n",
       "      <th>RegistrationYear</th>\n",
       "      <th>Gearbox</th>\n",
       "      <th>Power</th>\n",
       "      <th>Model</th>\n",
       "      <th>Kilometer</th>\n",
       "      <th>RegistrationMonth</th>\n",
       "      <th>FuelType</th>\n",
       "      <th>Brand</th>\n",
       "      <th>Repaired</th>\n",
       "      <th>DateCreated</th>\n",
       "      <th>NumberOfPictures</th>\n",
       "      <th>PostalCode</th>\n",
       "      <th>LastSeen</th>\n",
       "    </tr>\n",
       "  </thead>\n",
       "  <tbody>\n",
       "    <tr>\n",
       "      <th>0</th>\n",
       "      <td>2016-03-24 11:52:17</td>\n",
       "      <td>480</td>\n",
       "      <td>NaN</td>\n",
       "      <td>1993</td>\n",
       "      <td>manual</td>\n",
       "      <td>0</td>\n",
       "      <td>golf</td>\n",
       "      <td>150000</td>\n",
       "      <td>0</td>\n",
       "      <td>petrol</td>\n",
       "      <td>volkswagen</td>\n",
       "      <td>NaN</td>\n",
       "      <td>2016-03-24 00:00:00</td>\n",
       "      <td>0</td>\n",
       "      <td>70435</td>\n",
       "      <td>2016-04-07 03:16:57</td>\n",
       "    </tr>\n",
       "    <tr>\n",
       "      <th>1</th>\n",
       "      <td>2016-03-24 10:58:45</td>\n",
       "      <td>18300</td>\n",
       "      <td>coupe</td>\n",
       "      <td>2011</td>\n",
       "      <td>manual</td>\n",
       "      <td>190</td>\n",
       "      <td>NaN</td>\n",
       "      <td>125000</td>\n",
       "      <td>5</td>\n",
       "      <td>gasoline</td>\n",
       "      <td>audi</td>\n",
       "      <td>yes</td>\n",
       "      <td>2016-03-24 00:00:00</td>\n",
       "      <td>0</td>\n",
       "      <td>66954</td>\n",
       "      <td>2016-04-07 01:46:50</td>\n",
       "    </tr>\n",
       "    <tr>\n",
       "      <th>2</th>\n",
       "      <td>2016-03-14 12:52:21</td>\n",
       "      <td>9800</td>\n",
       "      <td>suv</td>\n",
       "      <td>2004</td>\n",
       "      <td>auto</td>\n",
       "      <td>163</td>\n",
       "      <td>grand</td>\n",
       "      <td>125000</td>\n",
       "      <td>8</td>\n",
       "      <td>gasoline</td>\n",
       "      <td>jeep</td>\n",
       "      <td>NaN</td>\n",
       "      <td>2016-03-14 00:00:00</td>\n",
       "      <td>0</td>\n",
       "      <td>90480</td>\n",
       "      <td>2016-04-05 12:47:46</td>\n",
       "    </tr>\n",
       "    <tr>\n",
       "      <th>3</th>\n",
       "      <td>2016-03-17 16:54:04</td>\n",
       "      <td>1500</td>\n",
       "      <td>small</td>\n",
       "      <td>2001</td>\n",
       "      <td>manual</td>\n",
       "      <td>75</td>\n",
       "      <td>golf</td>\n",
       "      <td>150000</td>\n",
       "      <td>6</td>\n",
       "      <td>petrol</td>\n",
       "      <td>volkswagen</td>\n",
       "      <td>no</td>\n",
       "      <td>2016-03-17 00:00:00</td>\n",
       "      <td>0</td>\n",
       "      <td>91074</td>\n",
       "      <td>2016-03-17 17:40:17</td>\n",
       "    </tr>\n",
       "    <tr>\n",
       "      <th>4</th>\n",
       "      <td>2016-03-31 17:25:20</td>\n",
       "      <td>3600</td>\n",
       "      <td>small</td>\n",
       "      <td>2008</td>\n",
       "      <td>manual</td>\n",
       "      <td>69</td>\n",
       "      <td>fabia</td>\n",
       "      <td>90000</td>\n",
       "      <td>7</td>\n",
       "      <td>gasoline</td>\n",
       "      <td>skoda</td>\n",
       "      <td>no</td>\n",
       "      <td>2016-03-31 00:00:00</td>\n",
       "      <td>0</td>\n",
       "      <td>60437</td>\n",
       "      <td>2016-04-06 10:17:21</td>\n",
       "    </tr>\n",
       "  </tbody>\n",
       "</table>\n",
       "</div>"
      ],
      "text/plain": [
       "           DateCrawled  Price VehicleType  RegistrationYear Gearbox  Power  \\\n",
       "0  2016-03-24 11:52:17    480         NaN              1993  manual      0   \n",
       "1  2016-03-24 10:58:45  18300       coupe              2011  manual    190   \n",
       "2  2016-03-14 12:52:21   9800         suv              2004    auto    163   \n",
       "3  2016-03-17 16:54:04   1500       small              2001  manual     75   \n",
       "4  2016-03-31 17:25:20   3600       small              2008  manual     69   \n",
       "\n",
       "   Model  Kilometer  RegistrationMonth  FuelType       Brand Repaired  \\\n",
       "0   golf     150000                  0    petrol  volkswagen      NaN   \n",
       "1    NaN     125000                  5  gasoline        audi      yes   \n",
       "2  grand     125000                  8  gasoline        jeep      NaN   \n",
       "3   golf     150000                  6    petrol  volkswagen       no   \n",
       "4  fabia      90000                  7  gasoline       skoda       no   \n",
       "\n",
       "           DateCreated  NumberOfPictures  PostalCode             LastSeen  \n",
       "0  2016-03-24 00:00:00                 0       70435  2016-04-07 03:16:57  \n",
       "1  2016-03-24 00:00:00                 0       66954  2016-04-07 01:46:50  \n",
       "2  2016-03-14 00:00:00                 0       90480  2016-04-05 12:47:46  \n",
       "3  2016-03-17 00:00:00                 0       91074  2016-03-17 17:40:17  \n",
       "4  2016-03-31 00:00:00                 0       60437  2016-04-06 10:17:21  "
      ]
     },
     "execution_count": 6,
     "metadata": {},
     "output_type": "execute_result"
    }
   ],
   "source": [
    "df.head()"
   ]
  },
  {
   "cell_type": "markdown",
   "metadata": {},
   "source": [
    "1. Данные представленные 15 столбцами, 354369 значений, столбцы типа int и object\n",
    "1. В значениях есть выбросы"
   ]
  },
  {
   "cell_type": "code",
   "execution_count": 7,
   "metadata": {},
   "outputs": [],
   "source": [
    "new_columns = [re.sub(r'(?<!^)(?=[A-Z])', '_', col).lower() for col in df.columns]\n",
    "df.columns = new_columns"
   ]
  },
  {
   "cell_type": "markdown",
   "metadata": {},
   "source": [
    "1. Приведем названия столбцов к snake_case"
   ]
  },
  {
   "cell_type": "code",
   "execution_count": 8,
   "metadata": {},
   "outputs": [],
   "source": [
    "def pass_value_barh(df):\n",
    "    try:\n",
    "        (\n",
    "            (df.isna().mean()*100)\n",
    "            .to_frame()\n",
    "            .rename(columns = {0:'space'})\n",
    "            .query('space > 0')\n",
    "            .sort_values(by = 'space', ascending = True)\n",
    "            .plot(kind = 'barh', figsize = (19,6), legend = False, fontsize = 16)\n",
    "            .set_title('Процент пропущенных значений в столбце' + \"\\n\", fontsize = 22)    \n",
    "        );    \n",
    "    except:\n",
    "        print('пропусков не осталось или произошла ошибка в первой части функции ')"
   ]
  },
  {
   "cell_type": "code",
   "execution_count": 9,
   "metadata": {
    "scrolled": false
   },
   "outputs": [
    {
     "data": {
      "image/png": "[encoded data removed]",
      "text/plain": [
       "<Figure size 1368x432 with 1 Axes>"
      ]
     },
     "metadata": {
      "needs_background": "light"
     },
     "output_type": "display_data"
    }
   ],
   "source": [
    "pass_value_barh(df)"
   ]
  },
  {
   "cell_type": "markdown",
   "metadata": {},
   "source": [
    "1. Пропуски имеются в 5 столбцах, больше всего около 20% в столбце repaired - был ли ремонт авто"
   ]
  },
  {
   "cell_type": "code",
   "execution_count": 10,
   "metadata": {},
   "outputs": [
    {
     "data": {
      "text/plain": [
       "[Text(0, 0, 'date_crawled'),\n",
       " Text(1, 0, 'price'),\n",
       " Text(2, 0, 'vehicle_type'),\n",
       " Text(3, 0, 'registration_year'),\n",
       " Text(4, 0, 'gearbox'),\n",
       " Text(5, 0, 'power'),\n",
       " Text(6, 0, 'model'),\n",
       " Text(7, 0, 'kilometer'),\n",
       " Text(8, 0, 'registration_month'),\n",
       " Text(9, 0, 'fuel_type'),\n",
       " Text(10, 0, 'brand'),\n",
       " Text(11, 0, 'repaired'),\n",
       " Text(12, 0, 'date_created'),\n",
       " Text(13, 0, 'number_of_pictures'),\n",
       " Text(14, 0, 'postal_code'),\n",
       " Text(15, 0, 'last_seen')]"
      ]
     },
     "execution_count": 10,
     "metadata": {},
     "output_type": "execute_result"
    },
    {
     "data": {
      "image/png": "[encoded data removed]",
      "text/plain": [
       "<Figure size 1152x360 with 1 Axes>"
      ]
     },
     "metadata": {
      "needs_background": "light"
     },
     "output_type": "display_data"
    }
   ],
   "source": [
    "plt.figure(figsize=(16,5))\n",
    "\n",
    "columns = df.columns\n",
    "uniqs = [len(df[column].unique()) for column in columns]\n",
    "\n",
    "ax = sns.barplot(x=columns, y=uniqs, palette='hls', log=True)\n",
    "ax.set(xlabel='Признаки', ylabel='log уникальных значений', title='Количество уникальных значений в признаке' )\n",
    "\n",
    "for p, uniq in zip(ax.patches, uniqs):\n",
    "    ax.text(p.get_x() + p.get_width()/2,\n",
    "           uniq,\n",
    "           uniq,\n",
    "           ha='center')\n",
    "\n",
    "ax.set_xticklabels(ax.get_xticklabels(), rotation=40)"
   ]
  },
  {
   "cell_type": "markdown",
   "metadata": {},
   "source": [
    "1. Количество уникальных значений в каждом столбце"
   ]
  },
  {
   "cell_type": "code",
   "execution_count": 11,
   "metadata": {
    "scrolled": false
   },
   "outputs": [
    {
     "data": {
      "text/plain": [
       "Text(0.5, 1.0, 'Гистограмма распределения цены')"
      ]
     },
     "execution_count": 11,
     "metadata": {},
     "output_type": "execute_result"
    },
    {
     "data": {
      "image/png": "[encoded data removed]",
      "text/plain": [
       "<Figure size 576x360 with 1 Axes>"
      ]
     },
     "metadata": {
      "needs_background": "light"
     },
     "output_type": "display_data"
    }
   ],
   "source": [
    "plt.figure(figsize=(8,5))\n",
    "\n",
    "ax = sns.histplot(df['price'].values, bins=75, kde=True)\n",
    "ax.set_xlabel('Цена')\n",
    "ax.set_title('Гистограмма распределения цены')"
   ]
  },
  {
   "cell_type": "markdown",
   "metadata": {},
   "source": [
    "1. Цены начинаются от 0 значения и ограничены 20000, наибольшее число объявлений от 0 до 2000, далее число объявлений убывает с ростом цены"
   ]
  },
  {
   "cell_type": "code",
   "execution_count": 12,
   "metadata": {},
   "outputs": [
    {
     "data": {
      "text/plain": [
       "volkswagen        77013\n",
       "opel              39931\n",
       "bmw               36914\n",
       "mercedes_benz     32046\n",
       "audi              29456\n",
       "ford              25179\n",
       "renault           17927\n",
       "peugeot           10998\n",
       "fiat               9643\n",
       "seat               6907\n",
       "mazda              5615\n",
       "skoda              5500\n",
       "smart              5246\n",
       "citroen            5148\n",
       "nissan             4941\n",
       "toyota             4606\n",
       "hyundai            3587\n",
       "sonstige_autos     3374\n",
       "volvo              3210\n",
       "mini               3202\n",
       "mitsubishi         3022\n",
       "honda              2817\n",
       "kia                2465\n",
       "suzuki             2323\n",
       "alfa_romeo         2314\n",
       "chevrolet          1754\n",
       "chrysler           1439\n",
       "dacia               900\n",
       "daihatsu            806\n",
       "subaru              762\n",
       "porsche             758\n",
       "jeep                677\n",
       "trabant             589\n",
       "land_rover          545\n",
       "daewoo              542\n",
       "saab                526\n",
       "jaguar              505\n",
       "rover               486\n",
       "lancia              471\n",
       "lada                225\n",
       "Name: brand, dtype: int64"
      ]
     },
     "execution_count": 12,
     "metadata": {},
     "output_type": "execute_result"
    }
   ],
   "source": [
    "df['brand'].value_counts()"
   ]
  },
  {
   "cell_type": "code",
   "execution_count": 13,
   "metadata": {},
   "outputs": [],
   "source": [
    "date_count = df['brand'].value_counts().head(10)"
   ]
  },
  {
   "cell_type": "code",
   "execution_count": 14,
   "metadata": {
    "scrolled": false
   },
   "outputs": [
    {
     "data": {
      "text/plain": [
       "Text(0.5, 1.0, 'Колчиество объявлений по маркам')"
      ]
     },
     "execution_count": 14,
     "metadata": {},
     "output_type": "execute_result"
    },
    {
     "data": {
      "image/png": "[encoded data removed]",
      "text/plain": [
       "<Figure size 1152x360 with 1 Axes>"
      ]
     },
     "metadata": {
      "needs_background": "light"
     },
     "output_type": "display_data"
    }
   ],
   "source": [
    "plt.figure(figsize=(16,5))\n",
    "\n",
    "ax = sns.barplot(x=date_count.index, y=date_count.values)\n",
    "ax.set_xlabel('Марка', fontsize=12)\n",
    "ax.set_ylabel('Количество объявлений', fontsize=12)\n",
    "ax.set_title('Колчиество объявлений по маркам', fontsize=15)"
   ]
  },
  {
   "cell_type": "markdown",
   "metadata": {},
   "source": [
    "1. Основнаы марка среди объявлений - volkswagen, около 80000 объявлений "
   ]
  },
  {
   "cell_type": "code",
   "execution_count": 15,
   "metadata": {},
   "outputs": [
    {
     "data": {
      "text/html": [
       "<div>\n",
       "<style scoped>\n",
       "    .dataframe tbody tr th:only-of-type {\n",
       "        vertical-align: middle;\n",
       "    }\n",
       "\n",
       "    .dataframe tbody tr th {\n",
       "        vertical-align: top;\n",
       "    }\n",
       "\n",
       "    .dataframe thead th {\n",
       "        text-align: right;\n",
       "    }\n",
       "</style>\n",
       "<table border=\"1\" class=\"dataframe\">\n",
       "  <thead>\n",
       "    <tr style=\"text-align: right;\">\n",
       "      <th></th>\n",
       "      <th>count</th>\n",
       "      <th>brand_model</th>\n",
       "    </tr>\n",
       "  </thead>\n",
       "  <tbody>\n",
       "    <tr>\n",
       "      <th>0</th>\n",
       "      <td>29232</td>\n",
       "      <td>volkswagen golf</td>\n",
       "    </tr>\n",
       "    <tr>\n",
       "      <th>1</th>\n",
       "      <td>19761</td>\n",
       "      <td>bmw 3er</td>\n",
       "    </tr>\n",
       "    <tr>\n",
       "      <th>2</th>\n",
       "      <td>13066</td>\n",
       "      <td>volkswagen polo</td>\n",
       "    </tr>\n",
       "    <tr>\n",
       "      <th>3</th>\n",
       "      <td>12570</td>\n",
       "      <td>opel corsa</td>\n",
       "    </tr>\n",
       "    <tr>\n",
       "      <th>4</th>\n",
       "      <td>10809</td>\n",
       "      <td>opel astra</td>\n",
       "    </tr>\n",
       "    <tr>\n",
       "      <th>5</th>\n",
       "      <td>10146</td>\n",
       "      <td>volkswagen passat</td>\n",
       "    </tr>\n",
       "    <tr>\n",
       "      <th>6</th>\n",
       "      <td>9900</td>\n",
       "      <td>audi a4</td>\n",
       "    </tr>\n",
       "    <tr>\n",
       "      <th>7</th>\n",
       "      <td>8312</td>\n",
       "      <td>mercedes_benz c_klasse</td>\n",
       "    </tr>\n",
       "    <tr>\n",
       "      <th>8</th>\n",
       "      <td>7868</td>\n",
       "      <td>bmw 5er</td>\n",
       "    </tr>\n",
       "    <tr>\n",
       "      <th>9</th>\n",
       "      <td>6785</td>\n",
       "      <td>mercedes_benz e_klasse</td>\n",
       "    </tr>\n",
       "  </tbody>\n",
       "</table>\n",
       "</div>"
      ],
      "text/plain": [
       "   count             brand_model\n",
       "0  29232         volkswagen golf\n",
       "1  19761                 bmw 3er\n",
       "2  13066         volkswagen polo\n",
       "3  12570              opel corsa\n",
       "4  10809              opel astra\n",
       "5  10146       volkswagen passat\n",
       "6   9900                 audi a4\n",
       "7   8312  mercedes_benz c_klasse\n",
       "8   7868                 bmw 5er\n",
       "9   6785  mercedes_benz e_klasse"
      ]
     },
     "execution_count": 15,
     "metadata": {},
     "output_type": "execute_result"
    }
   ],
   "source": [
    "date_count = df.groupby(['brand','model']).count()['price'].reset_index().sort_values(by='price' ,ascending=False).reset_index(drop=True)\n",
    "\n",
    "date_count.rename(columns = {'price':'count'}, inplace = True)\n",
    "\n",
    "date_count['brand_model'] = date_count['brand'] + \" \" + date_count['model']\n",
    "date_count = date_count.drop(['brand', 'model'], axis=1)\n",
    "\n",
    "date_count.head(10)"
   ]
  },
  {
   "cell_type": "code",
   "execution_count": 16,
   "metadata": {
    "scrolled": false
   },
   "outputs": [
    {
     "data": {
      "text/plain": [
       "[Text(0, 0, 'volkswagen golf'),\n",
       " Text(1, 0, 'bmw 3er'),\n",
       " Text(2, 0, 'volkswagen polo'),\n",
       " Text(3, 0, 'opel corsa'),\n",
       " Text(4, 0, 'opel astra'),\n",
       " Text(5, 0, 'volkswagen passat'),\n",
       " Text(6, 0, 'audi a4'),\n",
       " Text(7, 0, 'mercedes_benz c_klasse'),\n",
       " Text(8, 0, 'bmw 5er'),\n",
       " Text(9, 0, 'mercedes_benz e_klasse')]"
      ]
     },
     "execution_count": 16,
     "metadata": {},
     "output_type": "execute_result"
    },
    {
     "data": {
      "image/png": "[encoded data removed]",
      "text/plain": [
       "<Figure size 1152x360 with 1 Axes>"
      ]
     },
     "metadata": {
      "needs_background": "light"
     },
     "output_type": "display_data"
    }
   ],
   "source": [
    "plt.figure(figsize=(16,5))\n",
    "\n",
    "ax = sns.barplot(x=date_count['brand_model'].head(10), y=date_count['count'].head(10).values)\n",
    "ax.set_xlabel('Модель', fontsize=12)\n",
    "ax.set_ylabel('Количество объявлений', fontsize=12)\n",
    "ax.set_title('Колчиество объявлений по моделям', fontsize=15)\n",
    "\n",
    "ax.set_xticklabels(ax.get_xticklabels(), rotation=5)"
   ]
  },
  {
   "cell_type": "markdown",
   "metadata": {},
   "source": [
    "1. Самая популярная модель - volkswagen golf, почти 30000 объявлений\n",
    "1. Первые 10 самых популярных моделей принадлежат первым 5 самым популярным маркам"
   ]
  },
  {
   "cell_type": "code",
   "execution_count": 17,
   "metadata": {
    "scrolled": true
   },
   "outputs": [
    {
     "data": {
      "text/plain": [
       "petrol      216352\n",
       "gasoline     98720\n",
       "lpg           5310\n",
       "cng            565\n",
       "hybrid         233\n",
       "other          204\n",
       "electric        90\n",
       "Name: fuel_type, dtype: int64"
      ]
     },
     "execution_count": 17,
     "metadata": {},
     "output_type": "execute_result"
    }
   ],
   "source": [
    "date_count = df['fuel_type'].value_counts()\n",
    "date_count"
   ]
  },
  {
   "cell_type": "markdown",
   "metadata": {},
   "source": [
    "petrol и gasoline - два названия для бензина, lpg и cng - типы газомоторного топлива для которых требуются различное оборудование"
   ]
  },
  {
   "cell_type": "code",
   "execution_count": 18,
   "metadata": {},
   "outputs": [
    {
     "data": {
      "text/plain": [
       "Text(0.5, 1.0, 'Колчиество объявлений по типу топлива')"
      ]
     },
     "execution_count": 18,
     "metadata": {},
     "output_type": "execute_result"
    },
    {
     "data": {
      "image/png": "[encoded data removed]",
      "text/plain": [
       "<Figure size 1152x360 with 1 Axes>"
      ]
     },
     "metadata": {
      "needs_background": "light"
     },
     "output_type": "display_data"
    }
   ],
   "source": [
    "plt.figure(figsize=(16,5))\n",
    "\n",
    "ax = sns.barplot(x=date_count.index, y=date_count.values)\n",
    "ax.set_xlabel('Тип топлива', fontsize=12)\n",
    "ax.set_ylabel('Количество объявлений', fontsize=12)\n",
    "ax.set_title('Колчиество объявлений по типу топлива', fontsize=15)"
   ]
  },
  {
   "cell_type": "markdown",
   "metadata": {},
   "source": [
    "1. Почти все авто в представденном датасете объявлений имеют один из двух типов топлива petrol и gasoline   \n",
    "1. petrol и gasoline - два названия для бензина, так что почти все авто имеют один тип топлива\n",
    "1. lpg и cng - типы газомоторного топлива для которых требуются различное оборудование"
   ]
  },
  {
   "cell_type": "code",
   "execution_count": 19,
   "metadata": {},
   "outputs": [
    {
     "data": {
      "text/plain": [
       "manual    268251\n",
       "auto       66285\n",
       "Name: gearbox, dtype: int64"
      ]
     },
     "execution_count": 19,
     "metadata": {},
     "output_type": "execute_result"
    }
   ],
   "source": [
    "date_count = df['gearbox'].value_counts()\n",
    "date_count"
   ]
  },
  {
   "cell_type": "code",
   "execution_count": 20,
   "metadata": {},
   "outputs": [
    {
     "data": {
      "text/plain": [
       "Text(0.5, 0, 'Тип коробки передач')"
      ]
     },
     "execution_count": 20,
     "metadata": {},
     "output_type": "execute_result"
    },
    {
     "data": {
      "image/png": "[encoded data removed]",
      "text/plain": [
       "<Figure size 720x360 with 1 Axes>"
      ]
     },
     "metadata": {},
     "output_type": "display_data"
    }
   ],
   "source": [
    "fiq, ax = plt.subplots(figsize=(10,5))\n",
    "\n",
    "ax.pie(date_count.values, labels=date_count.index)\n",
    "\n",
    "ax.set_xlabel('Тип коробки передач', fontsize=15)"
   ]
  },
  {
   "cell_type": "markdown",
   "metadata": {},
   "source": [
    "1. Больше 3/4 машин с коробкой передач типа manual "
   ]
  },
  {
   "cell_type": "code",
   "execution_count": 21,
   "metadata": {
    "scrolled": true
   },
   "outputs": [
    {
     "data": {
      "text/plain": [
       "sedan          91457\n",
       "small          79831\n",
       "wagon          65166\n",
       "bus            28775\n",
       "convertible    20203\n",
       "coupe          16163\n",
       "suv            11996\n",
       "other           3288\n",
       "Name: vehicle_type, dtype: int64"
      ]
     },
     "execution_count": 21,
     "metadata": {},
     "output_type": "execute_result"
    }
   ],
   "source": [
    "date_count = df['vehicle_type'].value_counts()\n",
    "date_count"
   ]
  },
  {
   "cell_type": "code",
   "execution_count": 22,
   "metadata": {
    "scrolled": false
   },
   "outputs": [
    {
     "data": {
      "text/plain": [
       "Text(0.5, 0, 'Тип транспортного средства')"
      ]
     },
     "execution_count": 22,
     "metadata": {},
     "output_type": "execute_result"
    },
    {
     "data": {
      "image/png": "[encoded data removed]",
      "text/plain": [
       "<Figure size 720x360 with 1 Axes>"
      ]
     },
     "metadata": {},
     "output_type": "display_data"
    }
   ],
   "source": [
    "fiq, ax = plt.subplots(figsize=(10,5))\n",
    "\n",
    "ax.pie(date_count.values, labels=date_count.index)\n",
    "\n",
    "ax.set_xlabel('Тип транспортного средства', fontsize=15)"
   ]
  },
  {
   "cell_type": "markdown",
   "metadata": {},
   "source": [
    "1. Типы авто в датасете представленные примерно в равных долях для 3 основных типов авто и группы из 5 отстальных\n",
    "1. Три основных типа авто: sedan, small, wagon"
   ]
  },
  {
   "cell_type": "code",
   "execution_count": 23,
   "metadata": {
    "scrolled": false
   },
   "outputs": [
    {
     "data": {
      "text/plain": [
       "5000        6397\n",
       "10000       1222\n",
       "20000       3975\n",
       "30000       4436\n",
       "40000       4911\n",
       "50000       6232\n",
       "60000       7444\n",
       "70000       8593\n",
       "80000      10047\n",
       "90000      11567\n",
       "100000     14882\n",
       "125000     36454\n",
       "150000    238209\n",
       "Name: kilometer, dtype: int64"
      ]
     },
     "execution_count": 23,
     "metadata": {},
     "output_type": "execute_result"
    }
   ],
   "source": [
    "date_count = df['kilometer'].value_counts().sort_index()\n",
    "date_count"
   ]
  },
  {
   "cell_type": "code",
   "execution_count": 24,
   "metadata": {
    "scrolled": false
   },
   "outputs": [
    {
     "data": {
      "text/plain": [
       "Text(0.5, 1.0, 'Колчиество объявлений по километражу пробега')"
      ]
     },
     "execution_count": 24,
     "metadata": {},
     "output_type": "execute_result"
    },
    {
     "data": {
      "image/png": "[encoded data removed]",
      "text/plain": [
       "<Figure size 1152x360 with 1 Axes>"
      ]
     },
     "metadata": {
      "needs_background": "light"
     },
     "output_type": "display_data"
    }
   ],
   "source": [
    "plt.figure(figsize=(16,5))\n",
    "\n",
    "ax = sns.barplot(x=date_count.index, y=date_count.values)\n",
    "ax.set_xlabel('Километраж пробега', fontsize=12)\n",
    "ax.set_ylabel('Количество объявлений', fontsize=12)\n",
    "ax.set_title('Колчиество объявлений по километражу пробега', fontsize=15)"
   ]
  },
  {
   "cell_type": "markdown",
   "metadata": {},
   "source": [
    "1. Подавляющее большинство представленных авто имее пробег 150000 км"
   ]
  },
  {
   "cell_type": "code",
   "execution_count": 25,
   "metadata": {
    "scrolled": false
   },
   "outputs": [
    {
     "data": {
      "text/plain": [
       "no     0.872697\n",
       "yes    0.127303\n",
       "Name: repaired, dtype: float64"
      ]
     },
     "execution_count": 25,
     "metadata": {},
     "output_type": "execute_result"
    }
   ],
   "source": [
    "date_count = df['repaired'].value_counts(normalize=True)\n",
    "date_count"
   ]
  },
  {
   "cell_type": "code",
   "execution_count": 26,
   "metadata": {
    "scrolled": false
   },
   "outputs": [
    {
     "data": {
      "text/plain": [
       "Text(0.5, 0, 'Была машина в ремонте')"
      ]
     },
     "execution_count": 26,
     "metadata": {},
     "output_type": "execute_result"
    },
    {
     "data": {
      "image/png": "[encoded data removed]",
      "text/plain": [
       "<Figure size 720x360 with 1 Axes>"
      ]
     },
     "metadata": {},
     "output_type": "display_data"
    }
   ],
   "source": [
    "fiq, ax = plt.subplots(figsize=(10,5))\n",
    "\n",
    "ax.pie(date_count.values, labels=date_count.index)\n",
    "\n",
    "ax.set_xlabel('Была машина в ремонте', fontsize=15)"
   ]
  },
  {
   "cell_type": "markdown",
   "metadata": {},
   "source": [
    "Странный показатель - большинство машин с пробегом больш 150000 и не были в ремонте"
   ]
  },
  {
   "cell_type": "markdown",
   "metadata": {},
   "source": [
    "1. 87 % машин из объявлений не были в ремонте\n",
    "1. Странный показатель - большинство машин с пробегом 150000 и не были в ремонте"
   ]
  },
  {
   "cell_type": "code",
   "execution_count": 27,
   "metadata": {},
   "outputs": [
    {
     "data": {
      "text/plain": [
       "count    354369.000000\n",
       "mean       2004.234448\n",
       "std          90.227958\n",
       "min        1000.000000\n",
       "25%        1999.000000\n",
       "50%        2003.000000\n",
       "75%        2008.000000\n",
       "max        9999.000000\n",
       "Name: registration_year, dtype: float64"
      ]
     },
     "execution_count": 27,
     "metadata": {},
     "output_type": "execute_result"
    }
   ],
   "source": [
    "df['registration_year'].describe()"
   ]
  },
  {
   "cell_type": "code",
   "execution_count": 28,
   "metadata": {},
   "outputs": [
    {
     "data": {
      "text/plain": [
       "'2016-04-07 00:00:00'"
      ]
     },
     "execution_count": 28,
     "metadata": {},
     "output_type": "execute_result"
    }
   ],
   "source": [
    "df['date_created'].max()"
   ]
  },
  {
   "cell_type": "markdown",
   "metadata": {},
   "source": [
    "Верхняя граница годов регистрации авто 2016 нижня 1961"
   ]
  },
  {
   "cell_type": "code",
   "execution_count": 29,
   "metadata": {},
   "outputs": [
    {
     "data": {
      "text/plain": [
       "0.9572761725771723"
      ]
     },
     "execution_count": 29,
     "metadata": {},
     "output_type": "execute_result"
    }
   ],
   "source": [
    "(df.loc[(df['registration_year'] <= 2016) & (df['registration_year'] >= 1961), 'registration_year'].shape[0] \n",
    " / df.shape[0])"
   ]
  },
  {
   "cell_type": "markdown",
   "metadata": {},
   "source": [
    "Выбранные данные отражают более 95% объектов, остальные значения неверны"
   ]
  },
  {
   "cell_type": "code",
   "execution_count": 30,
   "metadata": {
    "scrolled": false
   },
   "outputs": [
    {
     "data": {
      "text/plain": [
       "Text(0.5, 1.0, 'Гистограмма годов регистрации')"
      ]
     },
     "execution_count": 30,
     "metadata": {},
     "output_type": "execute_result"
    },
    {
     "data": {
      "image/png": "[encoded data removed]",
      "text/plain": [
       "<Figure size 576x360 with 1 Axes>"
      ]
     },
     "metadata": {
      "needs_background": "light"
     },
     "output_type": "display_data"
    }
   ],
   "source": [
    "plt.figure(figsize=(8,5))\n",
    "\n",
    "ax = sns.histplot(df.loc[(df['registration_year'] <= 2016) & (df['registration_year'] >= 1961), 'registration_year'],\n",
    "                  bins=55,kde=True)\n",
    "ax.set_xlabel('Год')\n",
    "ax.set_title('Гистограмма годов регистрации')"
   ]
  },
  {
   "cell_type": "markdown",
   "metadata": {},
   "source": [
    "1. В данных о годах присутствуют ошибочные значения, вызванные возможно неправильным вводом данных\n",
    "1. В основном машины представленные в датасете имеют год регистрации между 1995 и 2013, а так же много объявлений о машинах зарегестрированных в 2016 году - что для данного датасета год когдаданные были собраны"
   ]
  },
  {
   "cell_type": "code",
   "execution_count": 31,
   "metadata": {
    "scrolled": false
   },
   "outputs": [],
   "source": [
    "date_count = df['registration_month'].value_counts()"
   ]
  },
  {
   "cell_type": "code",
   "execution_count": 32,
   "metadata": {
    "scrolled": false
   },
   "outputs": [
    {
     "data": {
      "text/plain": [
       "Text(0.5, 1.0, 'Колчиество объявлений по месяцам регистрации авто')"
      ]
     },
     "execution_count": 32,
     "metadata": {},
     "output_type": "execute_result"
    },
    {
     "data": {
      "image/png": "[encoded data removed]",
      "text/plain": [
       "<Figure size 1152x360 with 1 Axes>"
      ]
     },
     "metadata": {
      "needs_background": "light"
     },
     "output_type": "display_data"
    }
   ],
   "source": [
    "plt.figure(figsize=(16,5))\n",
    "\n",
    "ax = sns.barplot(x=date_count.index, y=date_count.values)\n",
    "ax.set_xlabel('Месяц', fontsize=12)\n",
    "ax.set_ylabel('Количество объявлений', fontsize=12)\n",
    "ax.set_title('Колчиество объявлений по месяцам регистрации авто', fontsize=15)"
   ]
  },
  {
   "cell_type": "markdown",
   "metadata": {},
   "source": [
    "1. В данных о месяце регистрации присутствует значение 0 - возможно автоматически присваемое при незаполнении этих данных пользователем\n",
    "1. Сами данные о месяце регистрации решено не использовать для обучения и получения предсказаний на модели"
   ]
  },
  {
   "cell_type": "code",
   "execution_count": 33,
   "metadata": {},
   "outputs": [
    {
     "data": {
      "text/plain": [
       "count    354369.000000\n",
       "mean        110.094337\n",
       "std         189.850405\n",
       "min           0.000000\n",
       "25%          69.000000\n",
       "50%         105.000000\n",
       "75%         143.000000\n",
       "max       20000.000000\n",
       "Name: power, dtype: float64"
      ]
     },
     "execution_count": 33,
     "metadata": {},
     "output_type": "execute_result"
    }
   ],
   "source": [
    "df['power'].describe()"
   ]
  },
  {
   "cell_type": "code",
   "execution_count": 34,
   "metadata": {},
   "outputs": [
    {
     "data": {
      "text/plain": [
       "0        40225\n",
       "75       24023\n",
       "60       15897\n",
       "150      14590\n",
       "101      13298\n",
       "         ...  \n",
       "323          1\n",
       "3454         1\n",
       "1056         1\n",
       "13636        1\n",
       "1158         1\n",
       "Name: power, Length: 712, dtype: int64"
      ]
     },
     "execution_count": 34,
     "metadata": {},
     "output_type": "execute_result"
    }
   ],
   "source": [
    "df['power'].value_counts()"
   ]
  },
  {
   "cell_type": "code",
   "execution_count": 35,
   "metadata": {
    "scrolled": false
   },
   "outputs": [
    {
     "data": {
      "text/plain": [
       "Text(0.5, 1.0, 'Гистограмма мощности авто')"
      ]
     },
     "execution_count": 35,
     "metadata": {},
     "output_type": "execute_result"
    },
    {
     "data": {
      "image/png": "[encoded data removed]",
      "text/plain": [
       "<Figure size 576x360 with 1 Axes>"
      ]
     },
     "metadata": {
      "needs_background": "light"
     },
     "output_type": "display_data"
    }
   ],
   "source": [
    "plt.figure(figsize=(8,5))\n",
    "\n",
    "ax = sns.histplot(df.loc[df['power'] < 510, 'power'],  bins=50,kde=True)\n",
    "ax.set_xlabel('Мощность')\n",
    "ax.set_title('Гистограмма мощности авто')"
   ]
  },
  {
   "cell_type": "markdown",
   "metadata": {},
   "source": [
    "1. В данных о мощности авто есть неверные значения\n",
    "1. Верхняя граница мощьности принята 510, поскольку в датасете присутствуют авто с рельной мощностью двигателя 510\n",
    "1. Большинство авто имеют мощьность от 50 до 200"
   ]
  },
  {
   "cell_type": "code",
   "execution_count": 36,
   "metadata": {},
   "outputs": [
    {
     "data": {
      "text/plain": [
       "10115    819\n",
       "65428    613\n",
       "66333    343\n",
       "32257    317\n",
       "44145    317\n",
       "        ... \n",
       "55626      1\n",
       "1778       1\n",
       "82493      1\n",
       "86684      1\n",
       "82404      1\n",
       "Name: postal_code, Length: 8143, dtype: int64"
      ]
     },
     "execution_count": 36,
     "metadata": {},
     "output_type": "execute_result"
    }
   ],
   "source": [
    "data_counts = df['postal_code'].value_counts().sort_values(ascending=False)\n",
    "data_counts"
   ]
  },
  {
   "cell_type": "code",
   "execution_count": 37,
   "metadata": {},
   "outputs": [
    {
     "data": {
      "text/plain": [
       "Text(0.5, 1.0, 'Гистограмма числа объявлений по почтовым зонам')"
      ]
     },
     "execution_count": 37,
     "metadata": {},
     "output_type": "execute_result"
    },
    {
     "data": {
      "image/png": "[encoded data removed]",
      "text/plain": [
       "<Figure size 576x360 with 1 Axes>"
      ]
     },
     "metadata": {
      "needs_background": "light"
     },
     "output_type": "display_data"
    }
   ],
   "source": [
    "plt.figure(figsize=(8,5))\n",
    "\n",
    "ax = sns.histplot(data_counts, bins=120, kde=True)\n",
    "ax.set_xlabel('Количество объявлений')\n",
    "ax.set_title('Гистограмма числа объявлений по почтовым зонам')"
   ]
  },
  {
   "cell_type": "code",
   "execution_count": 38,
   "metadata": {},
   "outputs": [],
   "source": [
    "df.loc[df['postal_code'] < 10000, 'postal_code'] = df.loc[df['postal_code'] < 10000, 'postal_code'] * 10\n",
    "df['postal_code_zone'] = df['postal_code'] // 1000"
   ]
  },
  {
   "cell_type": "code",
   "execution_count": 39,
   "metadata": {},
   "outputs": [
    {
     "data": {
      "text/plain": [
       "45    8676\n",
       "26    8052\n",
       "66    7563\n",
       "65    7382\n",
       "44    6819\n",
       "      ... \n",
       "98     973\n",
       "20     897\n",
       "11     524\n",
       "43     513\n",
       "62     481\n",
       "Name: postal_code_zone, Length: 90, dtype: int64"
      ]
     },
     "execution_count": 39,
     "metadata": {},
     "output_type": "execute_result"
    }
   ],
   "source": [
    "data_counts = df['postal_code_zone'].value_counts().sort_values(ascending=False)\n",
    "data_counts"
   ]
  },
  {
   "cell_type": "code",
   "execution_count": 40,
   "metadata": {
    "scrolled": false
   },
   "outputs": [
    {
     "data": {
      "text/plain": [
       "<bound method _AxesBase.set_xticks of <AxesSubplot:title={'center':'Колчиество объявлений по почтовым зонам'}, xlabel='Почтовая зона', ylabel='Количество объявлений'>>"
      ]
     },
     "execution_count": 40,
     "metadata": {},
     "output_type": "execute_result"
    },
    {
     "data": {
      "image/png": "[encoded data removed]",
      "text/plain": [
       "<Figure size 1152x360 with 1 Axes>"
      ]
     },
     "metadata": {
      "needs_background": "light"
     },
     "output_type": "display_data"
    }
   ],
   "source": [
    "plt.figure(figsize=(16,5))\n",
    "\n",
    "ax = sns.barplot(x=data_counts.index, y=data_counts.values)\n",
    "ax.set_xlabel('Почтовая зона', fontsize=12)\n",
    "ax.set_ylabel('Количество объявлений', fontsize=12)\n",
    "ax.set_title('Колчиество объявлений по почтовым зонам', fontsize=15)\n",
    "\n",
    "ax.set_xticks"
   ]
  },
  {
   "cell_type": "code",
   "execution_count": 41,
   "metadata": {
    "scrolled": false
   },
   "outputs": [
    {
     "data": {
      "text/plain": [
       "Text(0.5, 1.0, 'Гистограмма числа объявлений по почтовым зонам')"
      ]
     },
     "execution_count": 41,
     "metadata": {},
     "output_type": "execute_result"
    },
    {
     "data": {
      "image/png": "[encoded data removed]",
      "text/plain": [
       "<Figure size 576x360 with 1 Axes>"
      ]
     },
     "metadata": {
      "needs_background": "light"
     },
     "output_type": "display_data"
    }
   ],
   "source": [
    "plt.figure(figsize=(8,5))\n",
    "\n",
    "ax = sns.histplot(data_counts, bins=12, kde=True)\n",
    "ax.set_xlabel('Количество объявлений')\n",
    "ax.set_title('Гистограмма числа объявлений по почтовым зонам')"
   ]
  },
  {
   "cell_type": "markdown",
   "metadata": {},
   "source": [
    "1. Почтовые коды решено сократить до первых двух цифр что означает почтовую зону, так для одной почтовой зоны включающей несоколько почтовых кодов будет больше объявлений и при обучении быдут выявленны соответствующие закономерности для каждой зоны"
   ]
  },
  {
   "cell_type": "code",
   "execution_count": 42,
   "metadata": {},
   "outputs": [],
   "source": [
    "del data_counts"
   ]
  },
  {
   "cell_type": "code",
   "execution_count": 43,
   "metadata": {
    "scrolled": false
   },
   "outputs": [
    {
     "data": {
      "text/html": [
       "<div>\n",
       "<style scoped>\n",
       "    .dataframe tbody tr th:only-of-type {\n",
       "        vertical-align: middle;\n",
       "    }\n",
       "\n",
       "    .dataframe tbody tr th {\n",
       "        vertical-align: top;\n",
       "    }\n",
       "\n",
       "    .dataframe thead th {\n",
       "        text-align: right;\n",
       "    }\n",
       "</style>\n",
       "<table border=\"1\" class=\"dataframe\">\n",
       "  <thead>\n",
       "    <tr style=\"text-align: right;\">\n",
       "      <th></th>\n",
       "      <th>brand</th>\n",
       "      <th>model</th>\n",
       "      <th>price</th>\n",
       "    </tr>\n",
       "  </thead>\n",
       "  <tbody>\n",
       "    <tr>\n",
       "      <th>0</th>\n",
       "      <td>mercedes_benz</td>\n",
       "      <td>gl</td>\n",
       "      <td>18999.0</td>\n",
       "    </tr>\n",
       "    <tr>\n",
       "      <th>1</th>\n",
       "      <td>audi</td>\n",
       "      <td>q3</td>\n",
       "      <td>18150.0</td>\n",
       "    </tr>\n",
       "    <tr>\n",
       "      <th>2</th>\n",
       "      <td>mercedes_benz</td>\n",
       "      <td>glk</td>\n",
       "      <td>17850.0</td>\n",
       "    </tr>\n",
       "    <tr>\n",
       "      <th>3</th>\n",
       "      <td>audi</td>\n",
       "      <td>a5</td>\n",
       "      <td>16500.0</td>\n",
       "    </tr>\n",
       "    <tr>\n",
       "      <th>4</th>\n",
       "      <td>audi</td>\n",
       "      <td>q5</td>\n",
       "      <td>16499.0</td>\n",
       "    </tr>\n",
       "    <tr>\n",
       "      <th>...</th>\n",
       "      <td>...</td>\n",
       "      <td>...</td>\n",
       "      <td>...</td>\n",
       "    </tr>\n",
       "    <tr>\n",
       "      <th>292</th>\n",
       "      <td>ford</td>\n",
       "      <td>escort</td>\n",
       "      <td>550.0</td>\n",
       "    </tr>\n",
       "    <tr>\n",
       "      <th>293</th>\n",
       "      <td>rover</td>\n",
       "      <td>defender</td>\n",
       "      <td>550.0</td>\n",
       "    </tr>\n",
       "    <tr>\n",
       "      <th>294</th>\n",
       "      <td>daihatsu</td>\n",
       "      <td>charade</td>\n",
       "      <td>550.0</td>\n",
       "    </tr>\n",
       "    <tr>\n",
       "      <th>295</th>\n",
       "      <td>daihatsu</td>\n",
       "      <td>move</td>\n",
       "      <td>500.0</td>\n",
       "    </tr>\n",
       "    <tr>\n",
       "      <th>296</th>\n",
       "      <td>lada</td>\n",
       "      <td>samara</td>\n",
       "      <td>300.0</td>\n",
       "    </tr>\n",
       "  </tbody>\n",
       "</table>\n",
       "<p>297 rows × 3 columns</p>\n",
       "</div>"
      ],
      "text/plain": [
       "             brand     model    price\n",
       "0    mercedes_benz        gl  18999.0\n",
       "1             audi        q3  18150.0\n",
       "2    mercedes_benz       glk  17850.0\n",
       "3             audi        a5  16500.0\n",
       "4             audi        q5  16499.0\n",
       "..             ...       ...      ...\n",
       "292           ford    escort    550.0\n",
       "293          rover  defender    550.0\n",
       "294       daihatsu   charade    550.0\n",
       "295       daihatsu      move    500.0\n",
       "296           lada    samara    300.0\n",
       "\n",
       "[297 rows x 3 columns]"
      ]
     },
     "execution_count": 43,
     "metadata": {},
     "output_type": "execute_result"
    }
   ],
   "source": [
    "model_price = df.groupby(['brand','model']).agg(\n",
    "{'price':'median'}\n",
    ").reset_index().sort_values(by='price', ascending=False).reset_index(drop=True)\n",
    "model_price"
   ]
  },
  {
   "cell_type": "code",
   "execution_count": 44,
   "metadata": {},
   "outputs": [
    {
     "name": "stdout",
     "output_type": "stream",
     "text": [
      "Всего 297 моделей автомобилей\n",
      "Из них 86 моделей до 2000 евро\n",
      "103 моделей от 2000 до 5000 евро\n",
      "66 моделей от 5000 до 10000 евро \n",
      "42 моделей от 10000 евро\n"
     ]
    }
   ],
   "source": [
    "print(f\"Всего {model_price.shape[0]} моделей автомобилей\")\n",
    "print(f\"Из них {model_price[model_price['price'] < 2000].shape[0]} моделей до 2000 евро\") \n",
    "print(f\"{model_price[(model_price['price'] < 5000) & (model_price['price'] >= 2000)].shape[0]} моделей от 2000 до 5000 евро\") \n",
    "print(f\"{model_price[(model_price['price'] < 10000) & (model_price['price'] >= 5000)].shape[0]} моделей от 5000 до 10000 евро \") \n",
    "print(f\"{model_price[(model_price['price'] >= 10000)].shape[0]} моделей от 10000 евро\") "
   ]
  },
  {
   "cell_type": "code",
   "execution_count": 45,
   "metadata": {
    "scrolled": false
   },
   "outputs": [
    {
     "data": {
      "text/plain": [
       "Text(0.5, 1.0, 'Гистограмма медианной стоимости модели авто')"
      ]
     },
     "execution_count": 45,
     "metadata": {},
     "output_type": "execute_result"
    },
    {
     "data": {
      "image/png": "[encoded data removed]",
      "text/plain": [
       "<Figure size 576x360 with 1 Axes>"
      ]
     },
     "metadata": {
      "needs_background": "light"
     },
     "output_type": "display_data"
    }
   ],
   "source": [
    "plt.figure(figsize=(8,5))\n",
    "\n",
    "ax = sns.histplot(model_price, bins=20, kde=True)\n",
    "ax.set_xlabel('Стоимость')\n",
    "ax.set_title('Гистограмма медианной стоимости модели авто')"
   ]
  },
  {
   "cell_type": "code",
   "execution_count": 46,
   "metadata": {},
   "outputs": [],
   "source": [
    "del model_price"
   ]
  },
  {
   "cell_type": "code",
   "execution_count": 47,
   "metadata": {
    "scrolled": false
   },
   "outputs": [
    {
     "data": {
      "text/plain": [
       "Text(0.5, 1.0, 'Медиана стоимости в зависиомсти от пробега и ремонта')"
      ]
     },
     "execution_count": 47,
     "metadata": {},
     "output_type": "execute_result"
    },
    {
     "data": {
      "image/png": "[encoded data removed]",
      "text/plain": [
       "<Figure size 1152x360 with 1 Axes>"
      ]
     },
     "metadata": {
      "needs_background": "light"
     },
     "output_type": "display_data"
    }
   ],
   "source": [
    "plt.figure(figsize=(16,5))\n",
    "\n",
    "ax = sns.barplot(data=df, x='kilometer', y='price', hue='repaired', estimator=np.median)\n",
    "ax.set_xlabel('Пробег и ремонт авто', fontsize=12)\n",
    "ax.set_ylabel('Цена', fontsize=12)\n",
    "ax.set_title('Медиана стоимости в зависиомсти от пробега и ремонта', fontsize=15)"
   ]
  },
  {
   "cell_type": "markdown",
   "metadata": {},
   "source": [
    "1. Для машин без ремонта и пробегом 5000 видим аномальныо низкие значения - вызваны они тем, что продавци ставят 0 или другю низкую цену для привлечения внимания к объявлению, и выдачи на первых позициях при сортировке по цене объявления"
   ]
  },
  {
   "cell_type": "code",
   "execution_count": 48,
   "metadata": {},
   "outputs": [],
   "source": [
    "df['model'] = df['model'].fillna(value='other')"
   ]
  },
  {
   "cell_type": "markdown",
   "metadata": {},
   "source": [
    "1. Пропуски в значении модели авто заполним значение 'other'"
   ]
  },
  {
   "cell_type": "code",
   "execution_count": 49,
   "metadata": {
    "scrolled": true
   },
   "outputs": [
    {
     "name": "stdout",
     "output_type": "stream",
     "text": [
      "CPU times: user 20 s, sys: 121 ms, total: 20.1 s\n",
      "Wall time: 20.2 s\n"
     ]
    }
   ],
   "source": [
    "%%time\n",
    "\n",
    "for model in df['model'].unique():\n",
    "    if model != 'other': \n",
    "        (df.loc[(df['model'] == model) & \n",
    "        (df['registration_year'] > 2016) | \n",
    "        (df['registration_year'] < 1961), 'registration_year']) = df.loc[df['model'] == model, 'registration_year'].median()\n",
    "        \n",
    "        (df.loc[(df['model'] == model) & \n",
    "        (df['power'] > 510) | \n",
    "        (df['power'] < 50), 'power']) = df.loc[df['model'] == model, 'power'].median()\n",
    "\n",
    "    else:\n",
    "        for brand in df.loc[df['model'] == 'other', 'brand'].unique():\n",
    "            (df.loc[(df['brand'] == brand) & \n",
    "            (df['registration_year'] > 2016) | \n",
    "            (df['registration_year'] < 1961), 'registration_year']) = df.loc[df['brand'] == brand, 'registration_year'].median()\n",
    "            \n",
    "            (df.loc[(df['brand'] == brand) & \n",
    "            (df['power'] > 510) | \n",
    "            (df['power'] < 50), 'power']) = df.loc[df['brand'] == brand, 'power'].median()\n",
    "                "
   ]
  },
  {
   "cell_type": "markdown",
   "metadata": {},
   "source": [
    "1. Выбросы в значениях года регистрации и мощности авто заменим медианным значением для модели авто, для тех авто марка которых имеет значение 'other' - заменим медианным значением для бренда"
   ]
  },
  {
   "cell_type": "code",
   "execution_count": 50,
   "metadata": {
    "scrolled": false
   },
   "outputs": [
    {
     "data": {
      "text/plain": [
       "count    354369.000000\n",
       "mean       2002.572415\n",
       "std           6.541881\n",
       "min        1961.000000\n",
       "25%        1999.000000\n",
       "50%        2003.000000\n",
       "75%        2007.000000\n",
       "max        2016.000000\n",
       "Name: registration_year, dtype: float64"
      ]
     },
     "execution_count": 50,
     "metadata": {},
     "output_type": "execute_result"
    }
   ],
   "source": [
    "df['registration_year'].describe()"
   ]
  },
  {
   "cell_type": "code",
   "execution_count": 51,
   "metadata": {},
   "outputs": [
    {
     "data": {
      "text/plain": [
       "count    354369.000000\n",
       "mean        118.131693\n",
       "std          50.113650\n",
       "min          50.000000\n",
       "25%          88.000000\n",
       "50%         105.000000\n",
       "75%         141.000000\n",
       "max         510.000000\n",
       "Name: power, dtype: float64"
      ]
     },
     "execution_count": 51,
     "metadata": {},
     "output_type": "execute_result"
    }
   ],
   "source": [
    "df['power'].describe()"
   ]
  },
  {
   "cell_type": "markdown",
   "metadata": {},
   "source": [
    "1. Замена значения проведена успешно, выбросов нет"
   ]
  },
  {
   "cell_type": "code",
   "execution_count": 52,
   "metadata": {},
   "outputs": [],
   "source": [
    "df.loc[df['fuel_type'] == 'petrol', 'fuel_type'] = 'gasoline'"
   ]
  },
  {
   "cell_type": "markdown",
   "metadata": {},
   "source": [
    "1. Значение 'petrol'(название бензина в Британии), заменим на 'gasoline' - название бензина в США"
   ]
  },
  {
   "cell_type": "code",
   "execution_count": 53,
   "metadata": {
    "scrolled": false
   },
   "outputs": [
    {
     "name": "stdout",
     "output_type": "stream",
     "text": [
      "CPU times: user 15 s, sys: 105 ms, total: 15.1 s\n",
      "Wall time: 15.2 s\n"
     ]
    }
   ],
   "source": [
    "%%time\n",
    "\n",
    "for model in df['model'].unique():\n",
    "    \n",
    "    if df.loc[df['model'] == model, 'fuel_type'].nunique() == 1:\n",
    "        fuel_type = df.loc[df['model'] == model, 'fuel_type'].dropna().unique()[0]\n",
    "        df.loc[df['model'] == model, 'fuel_type'] = df.loc[df['model'] == model, 'fuel_type'].fillna(value=fuel_type)\n",
    "        \n",
    "    if df.loc[df['model'] == model, 'gearbox'].nunique() == 1:\n",
    "        gearbox = df.loc[df['model'] == model, 'gearbox'].dropna().unique()[0]\n",
    "        df.loc[df['model'] == model, 'gearbox'] = df.loc[df['model'] == model, 'gearbox'].fillna(value=gearbox)\n",
    "        \n",
    "    if df.loc[df['model'] == model, 'vehicle_type'].nunique() == 1:\n",
    "        vehicle_type = df.loc[df['model'] == model, 'gearbox'].dropna().unique()[0]\n",
    "        df.loc[df['model'] == model, 'vehicle_type'] = df.loc[df['model'] == model, 'vehicle_type'].fillna(value=vehicle_type)"
   ]
  },
  {
   "cell_type": "markdown",
   "metadata": {},
   "source": [
    "1. Пропуски в признаках 'fuel_type', 'gearbox', 'vehicle_type' - заполним известным значением для модели авто, если для данной модели есть только одно значение"
   ]
  },
  {
   "cell_type": "code",
   "execution_count": 54,
   "metadata": {},
   "outputs": [],
   "source": [
    "df['fuel_type'] = df['fuel_type'].fillna(value='other')\n",
    "df['gearbox'] = df['gearbox'].fillna(value='other')\n",
    "df['vehicle_type'] = df['vehicle_type'].fillna(value='other')\n",
    "df['repaired'] = df['repaired'].fillna(value='other')"
   ]
  },
  {
   "cell_type": "markdown",
   "metadata": {},
   "source": [
    "1. Остальные пропуски заполним значением 'other'"
   ]
  },
  {
   "cell_type": "code",
   "execution_count": 55,
   "metadata": {},
   "outputs": [],
   "source": [
    "df_good = df.loc[(df['price'] >= 50)].reset_index(drop=True)"
   ]
  },
  {
   "cell_type": "code",
   "execution_count": 56,
   "metadata": {},
   "outputs": [
    {
     "data": {
      "text/plain": [
       "0.9649433217916917"
      ]
     },
     "execution_count": 56,
     "metadata": {},
     "output_type": "execute_result"
    }
   ],
   "source": [
    "df_good.shape[0] / df.shape[0]"
   ]
  },
  {
   "cell_type": "markdown",
   "metadata": {},
   "source": [
    "1. Объявления с ценой меньше 50 удалим, поскольку включение таких объявлений сильно занизит предсказание стоимости авто"
   ]
  },
  {
   "cell_type": "code",
   "execution_count": 57,
   "metadata": {},
   "outputs": [],
   "source": [
    "df_good = df_good.drop(['registration_month', 'date_created', 'number_of_pictures', 'date_crawled', 'postal_code', 'last_seen'], axis=1)"
   ]
  },
  {
   "cell_type": "markdown",
   "metadata": {},
   "source": [
    "1. Удалим признаки которые не информативные и которые не будем использовать для обучения моделей"
   ]
  },
  {
   "cell_type": "code",
   "execution_count": 58,
   "metadata": {},
   "outputs": [
    {
     "data": {
      "text/html": [
       "<div>\n",
       "<style scoped>\n",
       "    .dataframe tbody tr th:only-of-type {\n",
       "        vertical-align: middle;\n",
       "    }\n",
       "\n",
       "    .dataframe tbody tr th {\n",
       "        vertical-align: top;\n",
       "    }\n",
       "\n",
       "    .dataframe thead th {\n",
       "        text-align: right;\n",
       "    }\n",
       "</style>\n",
       "<table border=\"1\" class=\"dataframe\">\n",
       "  <thead>\n",
       "    <tr style=\"text-align: right;\">\n",
       "      <th></th>\n",
       "      <th>price</th>\n",
       "      <th>vehicle_type</th>\n",
       "      <th>registration_year</th>\n",
       "      <th>gearbox</th>\n",
       "      <th>power</th>\n",
       "      <th>model</th>\n",
       "      <th>kilometer</th>\n",
       "      <th>fuel_type</th>\n",
       "      <th>brand</th>\n",
       "      <th>repaired</th>\n",
       "      <th>postal_code_zone</th>\n",
       "    </tr>\n",
       "  </thead>\n",
       "  <tbody>\n",
       "    <tr>\n",
       "      <th>0</th>\n",
       "      <td>480</td>\n",
       "      <td>other</td>\n",
       "      <td>1993.0</td>\n",
       "      <td>manual</td>\n",
       "      <td>95.0</td>\n",
       "      <td>golf</td>\n",
       "      <td>150000</td>\n",
       "      <td>gasoline</td>\n",
       "      <td>volkswagen</td>\n",
       "      <td>other</td>\n",
       "      <td>70</td>\n",
       "    </tr>\n",
       "    <tr>\n",
       "      <th>1</th>\n",
       "      <td>18300</td>\n",
       "      <td>coupe</td>\n",
       "      <td>2011.0</td>\n",
       "      <td>manual</td>\n",
       "      <td>190.0</td>\n",
       "      <td>other</td>\n",
       "      <td>125000</td>\n",
       "      <td>gasoline</td>\n",
       "      <td>audi</td>\n",
       "      <td>yes</td>\n",
       "      <td>66</td>\n",
       "    </tr>\n",
       "    <tr>\n",
       "      <th>2</th>\n",
       "      <td>9800</td>\n",
       "      <td>suv</td>\n",
       "      <td>2004.0</td>\n",
       "      <td>auto</td>\n",
       "      <td>163.0</td>\n",
       "      <td>grand</td>\n",
       "      <td>125000</td>\n",
       "      <td>gasoline</td>\n",
       "      <td>jeep</td>\n",
       "      <td>other</td>\n",
       "      <td>90</td>\n",
       "    </tr>\n",
       "    <tr>\n",
       "      <th>3</th>\n",
       "      <td>1500</td>\n",
       "      <td>small</td>\n",
       "      <td>2001.0</td>\n",
       "      <td>manual</td>\n",
       "      <td>75.0</td>\n",
       "      <td>golf</td>\n",
       "      <td>150000</td>\n",
       "      <td>gasoline</td>\n",
       "      <td>volkswagen</td>\n",
       "      <td>no</td>\n",
       "      <td>91</td>\n",
       "    </tr>\n",
       "    <tr>\n",
       "      <th>4</th>\n",
       "      <td>3600</td>\n",
       "      <td>small</td>\n",
       "      <td>2008.0</td>\n",
       "      <td>manual</td>\n",
       "      <td>69.0</td>\n",
       "      <td>fabia</td>\n",
       "      <td>90000</td>\n",
       "      <td>gasoline</td>\n",
       "      <td>skoda</td>\n",
       "      <td>no</td>\n",
       "      <td>60</td>\n",
       "    </tr>\n",
       "    <tr>\n",
       "      <th>...</th>\n",
       "      <td>...</td>\n",
       "      <td>...</td>\n",
       "      <td>...</td>\n",
       "      <td>...</td>\n",
       "      <td>...</td>\n",
       "      <td>...</td>\n",
       "      <td>...</td>\n",
       "      <td>...</td>\n",
       "      <td>...</td>\n",
       "      <td>...</td>\n",
       "      <td>...</td>\n",
       "    </tr>\n",
       "    <tr>\n",
       "      <th>341941</th>\n",
       "      <td>1150</td>\n",
       "      <td>bus</td>\n",
       "      <td>2000.0</td>\n",
       "      <td>manual</td>\n",
       "      <td>95.0</td>\n",
       "      <td>zafira</td>\n",
       "      <td>150000</td>\n",
       "      <td>gasoline</td>\n",
       "      <td>opel</td>\n",
       "      <td>no</td>\n",
       "      <td>26</td>\n",
       "    </tr>\n",
       "    <tr>\n",
       "      <th>341942</th>\n",
       "      <td>2200</td>\n",
       "      <td>other</td>\n",
       "      <td>2005.0</td>\n",
       "      <td>other</td>\n",
       "      <td>95.0</td>\n",
       "      <td>other</td>\n",
       "      <td>20000</td>\n",
       "      <td>other</td>\n",
       "      <td>sonstige_autos</td>\n",
       "      <td>other</td>\n",
       "      <td>39</td>\n",
       "    </tr>\n",
       "    <tr>\n",
       "      <th>341943</th>\n",
       "      <td>1199</td>\n",
       "      <td>convertible</td>\n",
       "      <td>2000.0</td>\n",
       "      <td>auto</td>\n",
       "      <td>101.0</td>\n",
       "      <td>fortwo</td>\n",
       "      <td>125000</td>\n",
       "      <td>gasoline</td>\n",
       "      <td>smart</td>\n",
       "      <td>no</td>\n",
       "      <td>26</td>\n",
       "    </tr>\n",
       "    <tr>\n",
       "      <th>341944</th>\n",
       "      <td>9200</td>\n",
       "      <td>bus</td>\n",
       "      <td>1996.0</td>\n",
       "      <td>manual</td>\n",
       "      <td>102.0</td>\n",
       "      <td>transporter</td>\n",
       "      <td>150000</td>\n",
       "      <td>gasoline</td>\n",
       "      <td>volkswagen</td>\n",
       "      <td>no</td>\n",
       "      <td>87</td>\n",
       "    </tr>\n",
       "    <tr>\n",
       "      <th>341945</th>\n",
       "      <td>3400</td>\n",
       "      <td>wagon</td>\n",
       "      <td>2002.0</td>\n",
       "      <td>manual</td>\n",
       "      <td>100.0</td>\n",
       "      <td>golf</td>\n",
       "      <td>150000</td>\n",
       "      <td>gasoline</td>\n",
       "      <td>volkswagen</td>\n",
       "      <td>other</td>\n",
       "      <td>40</td>\n",
       "    </tr>\n",
       "  </tbody>\n",
       "</table>\n",
       "<p>341946 rows × 11 columns</p>\n",
       "</div>"
      ],
      "text/plain": [
       "        price vehicle_type  registration_year gearbox  power        model  \\\n",
       "0         480        other             1993.0  manual   95.0         golf   \n",
       "1       18300        coupe             2011.0  manual  190.0        other   \n",
       "2        9800          suv             2004.0    auto  163.0        grand   \n",
       "3        1500        small             2001.0  manual   75.0         golf   \n",
       "4        3600        small             2008.0  manual   69.0        fabia   \n",
       "...       ...          ...                ...     ...    ...          ...   \n",
       "341941   1150          bus             2000.0  manual   95.0       zafira   \n",
       "341942   2200        other             2005.0   other   95.0        other   \n",
       "341943   1199  convertible             2000.0    auto  101.0       fortwo   \n",
       "341944   9200          bus             1996.0  manual  102.0  transporter   \n",
       "341945   3400        wagon             2002.0  manual  100.0         golf   \n",
       "\n",
       "        kilometer fuel_type           brand repaired  postal_code_zone  \n",
       "0          150000  gasoline      volkswagen    other                70  \n",
       "1          125000  gasoline            audi      yes                66  \n",
       "2          125000  gasoline            jeep    other                90  \n",
       "3          150000  gasoline      volkswagen       no                91  \n",
       "4           90000  gasoline           skoda       no                60  \n",
       "...           ...       ...             ...      ...               ...  \n",
       "341941     150000  gasoline            opel       no                26  \n",
       "341942      20000     other  sonstige_autos    other                39  \n",
       "341943     125000  gasoline           smart       no                26  \n",
       "341944     150000  gasoline      volkswagen       no                87  \n",
       "341945     150000  gasoline      volkswagen    other                40  \n",
       "\n",
       "[341946 rows x 11 columns]"
      ]
     },
     "execution_count": 58,
     "metadata": {},
     "output_type": "execute_result"
    }
   ],
   "source": [
    "df_good"
   ]
  },
  {
   "cell_type": "code",
   "execution_count": 59,
   "metadata": {},
   "outputs": [
    {
     "data": {
      "text/plain": [
       "24582"
      ]
     },
     "execution_count": 59,
     "metadata": {},
     "output_type": "execute_result"
    }
   ],
   "source": [
    "df_good.duplicated().sum()"
   ]
  },
  {
   "cell_type": "code",
   "execution_count": 60,
   "metadata": {},
   "outputs": [],
   "source": [
    "df_good = df_good.drop_duplicates()"
   ]
  },
  {
   "cell_type": "markdown",
   "metadata": {},
   "source": [
    "1. Удалим дубликаты\n",
    "2. Итоговый датасет для обучения и проверки моделей"
   ]
  },
  {
   "cell_type": "code",
   "execution_count": 61,
   "metadata": {},
   "outputs": [
    {
     "data": {
      "text/plain": [
       "<AxesSubplot:>"
      ]
     },
     "execution_count": 61,
     "metadata": {},
     "output_type": "execute_result"
    },
    {
     "data": {
      "image/png": "[encoded data removed]",
      "text/plain": [
       "<Figure size 432x288 with 2 Axes>"
      ]
     },
     "metadata": {
      "needs_background": "light"
     },
     "output_type": "display_data"
    }
   ],
   "source": [
    "sns.heatmap(df_good.corr(), annot = True, fmt='.1g')"
   ]
  },
  {
   "cell_type": "markdown",
   "metadata": {},
   "source": [
    "1. Хитмап корреляции значений признаков"
   ]
  },
  {
   "cell_type": "markdown",
   "metadata": {},
   "source": [
    "## Обучение моделей"
   ]
  },
  {
   "cell_type": "code",
   "execution_count": 62,
   "metadata": {},
   "outputs": [],
   "source": [
    "features = df_good.drop('price', axis=1)\n",
    "target = df_good['price']"
   ]
  },
  {
   "cell_type": "code",
   "execution_count": 63,
   "metadata": {},
   "outputs": [
    {
     "name": "stdout",
     "output_type": "stream",
     "text": [
      "features_train (190418, 10)\n",
      "target_train (190418,)\n",
      "features_valid (63473, 10)\n",
      "target_valid (63473,)\n",
      "features_test (63473, 10)\n",
      "target_test (63473,)\n"
     ]
    }
   ],
   "source": [
    "target = df_good['price']\n",
    "features = df_good.drop('price', axis=1)\n",
    "features_train, features_tv, target_train, target_tv = train_test_split(features, target, \n",
    "                                                                        test_size=0.4, random_state=12345)\n",
    "features_valid, features_test, target_valid, target_test = train_test_split(features_tv, target_tv, \n",
    "                                                                        test_size=0.5, random_state=12345)\n",
    "print('features_train', features_train.shape)\n",
    "print('target_train', target_train.shape)\n",
    "print('features_valid', features_valid.shape)\n",
    "print('target_valid', target_valid.shape)\n",
    "print('features_test', features_test.shape)\n",
    "print('target_test', target_test.shape)"
   ]
  },
  {
   "cell_type": "code",
   "execution_count": 64,
   "metadata": {},
   "outputs": [],
   "source": [
    "features_train['less_year'] = np.where(features_train['registration_year'] == features_train['registration_year'].max(), 1, 0)\n",
    "features_valid['less_year'] = np.where(features_valid['registration_year'] == features_valid['registration_year'].max(), 1, 0)\n",
    "features_test['less_year'] = np.where(features_test['registration_year'] == features_test['registration_year'].max(), 1, 0)"
   ]
  },
  {
   "cell_type": "markdown",
   "metadata": {},
   "source": [
    "1. Добавим признак означающий что машина зарегистрирована в текущем году"
   ]
  },
  {
   "cell_type": "code",
   "execution_count": 65,
   "metadata": {},
   "outputs": [],
   "source": [
    "cat_features = ['vehicle_type', 'gearbox', 'model', 'fuel_type', 'brand', 'repaired', 'postal_code_zone', 'less_year']\n",
    "numeric_features = ['registration_year', 'power', 'kilometer']"
   ]
  },
  {
   "cell_type": "markdown",
   "metadata": {},
   "source": [
    "1. Создадим списки численных и категориальных признаков"
   ]
  },
  {
   "cell_type": "code",
   "execution_count": 66,
   "metadata": {},
   "outputs": [
    {
     "data": {
      "text/html": [
       "<style>#sk-container-id-1 {color: black;background-color: white;}#sk-container-id-1 pre{padding: 0;}#sk-container-id-1 div.sk-toggleable {background-color: white;}#sk-container-id-1 label.sk-toggleable__label {cursor: pointer;display: block;width: 100%;margin-bottom: 0;padding: 0.3em;box-sizing: border-box;text-align: center;}#sk-container-id-1 label.sk-toggleable__label-arrow:before {content: \"▸\";float: left;margin-right: 0.25em;color: #696969;}#sk-container-id-1 label.sk-toggleable__label-arrow:hover:before {color: black;}#sk-container-id-1 div.sk-estimator:hover label.sk-toggleable__label-arrow:before {color: black;}#sk-container-id-1 div.sk-toggleable__content {max-height: 0;max-width: 0;overflow: hidden;text-align: left;background-color: #f0f8ff;}#sk-container-id-1 div.sk-toggleable__content pre {margin: 0.2em;color: black;border-radius: 0.25em;background-color: #f0f8ff;}#sk-container-id-1 input.sk-toggleable__control:checked~div.sk-toggleable__content {max-height: 200px;max-width: 100%;overflow: auto;}#sk-container-id-1 input.sk-toggleable__control:checked~label.sk-toggleable__label-arrow:before {content: \"▾\";}#sk-container-id-1 div.sk-estimator input.sk-toggleable__control:checked~label.sk-toggleable__label {background-color: #d4ebff;}#sk-container-id-1 div.sk-label input.sk-toggleable__control:checked~label.sk-toggleable__label {background-color: #d4ebff;}#sk-container-id-1 input.sk-hidden--visually {border: 0;clip: rect(1px 1px 1px 1px);clip: rect(1px, 1px, 1px, 1px);height: 1px;margin: -1px;overflow: hidden;padding: 0;position: absolute;width: 1px;}#sk-container-id-1 div.sk-estimator {font-family: monospace;background-color: #f0f8ff;border: 1px dotted black;border-radius: 0.25em;box-sizing: border-box;margin-bottom: 0.5em;}#sk-container-id-1 div.sk-estimator:hover {background-color: #d4ebff;}#sk-container-id-1 div.sk-parallel-item::after {content: \"\";width: 100%;border-bottom: 1px solid gray;flex-grow: 1;}#sk-container-id-1 div.sk-label:hover label.sk-toggleable__label {background-color: #d4ebff;}#sk-container-id-1 div.sk-serial::before {content: \"\";position: absolute;border-left: 1px solid gray;box-sizing: border-box;top: 0;bottom: 0;left: 50%;z-index: 0;}#sk-container-id-1 div.sk-serial {display: flex;flex-direction: column;align-items: center;background-color: white;padding-right: 0.2em;padding-left: 0.2em;position: relative;}#sk-container-id-1 div.sk-item {position: relative;z-index: 1;}#sk-container-id-1 div.sk-parallel {display: flex;align-items: stretch;justify-content: center;background-color: white;position: relative;}#sk-container-id-1 div.sk-item::before, #sk-container-id-1 div.sk-parallel-item::before {content: \"\";position: absolute;border-left: 1px solid gray;box-sizing: border-box;top: 0;bottom: 0;left: 50%;z-index: -1;}#sk-container-id-1 div.sk-parallel-item {display: flex;flex-direction: column;z-index: 1;position: relative;background-color: white;}#sk-container-id-1 div.sk-parallel-item:first-child::after {align-self: flex-end;width: 50%;}#sk-container-id-1 div.sk-parallel-item:last-child::after {align-self: flex-start;width: 50%;}#sk-container-id-1 div.sk-parallel-item:only-child::after {width: 0;}#sk-container-id-1 div.sk-dashed-wrapped {border: 1px dashed gray;margin: 0 0.4em 0.5em 0.4em;box-sizing: border-box;padding-bottom: 0.4em;background-color: white;}#sk-container-id-1 div.sk-label label {font-family: monospace;font-weight: bold;display: inline-block;line-height: 1.2em;}#sk-container-id-1 div.sk-label-container {text-align: center;}#sk-container-id-1 div.sk-container {/* jupyter's `normalize.less` sets `[hidden] { display: none; }` but bootstrap.min.css set `[hidden] { display: none !important; }` so we also need the `!important` here to be able to override the default hidden behavior on the sphinx rendered scikit-learn.org. See: https://github.com/scikit-learn/scikit-learn/issues/21755 */display: inline-block !important;position: relative;}#sk-container-id-1 div.sk-text-repr-fallback {display: none;}</style><div id=\"sk-container-id-1\" class=\"sk-top-container\"><div class=\"sk-text-repr-fallback\"><pre>StandardScaler()</pre><b>In a Jupyter environment, please rerun this cell to show the HTML representation or trust the notebook. <br />On GitHub, the HTML representation is unable to render, please try loading this page with nbviewer.org.</b></div><div class=\"sk-container\" hidden><div class=\"sk-item\"><div class=\"sk-estimator sk-toggleable\"><input class=\"sk-toggleable__control sk-hidden--visually\" id=\"sk-estimator-id-1\" type=\"checkbox\" checked><label for=\"sk-estimator-id-1\" class=\"sk-toggleable__label sk-toggleable__label-arrow\">StandardScaler</label><div class=\"sk-toggleable__content\"><pre>StandardScaler()</pre></div></div></div></div></div>"
      ],
      "text/plain": [
       "StandardScaler()"
      ]
     },
     "execution_count": 66,
     "metadata": {},
     "output_type": "execute_result"
    }
   ],
   "source": [
    "scaler = StandardScaler()\n",
    "scaler.fit(features_train[numeric_features])"
   ]
  },
  {
   "cell_type": "code",
   "execution_count": 67,
   "metadata": {},
   "outputs": [],
   "source": [
    "def scaler_features(features):\n",
    "    scal_features = pd.DataFrame(scaler.transform(features[numeric_features]), \n",
    "                                 columns= numeric_features, index=features.index)\n",
    "    features = features.drop(numeric_features, axis=1)\n",
    "    return pd.concat([scal_features, features], axis=1)"
   ]
  },
  {
   "cell_type": "code",
   "execution_count": 68,
   "metadata": {
    "scrolled": true
   },
   "outputs": [],
   "source": [
    "features_train_scaled = scaler_features(features_train)\n",
    "features_valid_scaled = scaler_features(features_valid)\n",
    "features_test_scaled = scaler_features(features_test)"
   ]
  },
  {
   "cell_type": "markdown",
   "metadata": {},
   "source": [
    "**Исследование на модели KNeighborsRegressor**"
   ]
  },
  {
   "cell_type": "code",
   "execution_count": 69,
   "metadata": {},
   "outputs": [],
   "source": [
    "encoder = OneHotEncoder(drop='first', handle_unknown='ignore')"
   ]
  },
  {
   "cell_type": "code",
   "execution_count": 70,
   "metadata": {},
   "outputs": [
    {
     "data": {
      "text/html": [
       "<style>#sk-container-id-2 {color: black;background-color: white;}#sk-container-id-2 pre{padding: 0;}#sk-container-id-2 div.sk-toggleable {background-color: white;}#sk-container-id-2 label.sk-toggleable__label {cursor: pointer;display: block;width: 100%;margin-bottom: 0;padding: 0.3em;box-sizing: border-box;text-align: center;}#sk-container-id-2 label.sk-toggleable__label-arrow:before {content: \"▸\";float: left;margin-right: 0.25em;color: #696969;}#sk-container-id-2 label.sk-toggleable__label-arrow:hover:before {color: black;}#sk-container-id-2 div.sk-estimator:hover label.sk-toggleable__label-arrow:before {color: black;}#sk-container-id-2 div.sk-toggleable__content {max-height: 0;max-width: 0;overflow: hidden;text-align: left;background-color: #f0f8ff;}#sk-container-id-2 div.sk-toggleable__content pre {margin: 0.2em;color: black;border-radius: 0.25em;background-color: #f0f8ff;}#sk-container-id-2 input.sk-toggleable__control:checked~div.sk-toggleable__content {max-height: 200px;max-width: 100%;overflow: auto;}#sk-container-id-2 input.sk-toggleable__control:checked~label.sk-toggleable__label-arrow:before {content: \"▾\";}#sk-container-id-2 div.sk-estimator input.sk-toggleable__control:checked~label.sk-toggleable__label {background-color: #d4ebff;}#sk-container-id-2 div.sk-label input.sk-toggleable__control:checked~label.sk-toggleable__label {background-color: #d4ebff;}#sk-container-id-2 input.sk-hidden--visually {border: 0;clip: rect(1px 1px 1px 1px);clip: rect(1px, 1px, 1px, 1px);height: 1px;margin: -1px;overflow: hidden;padding: 0;position: absolute;width: 1px;}#sk-container-id-2 div.sk-estimator {font-family: monospace;background-color: #f0f8ff;border: 1px dotted black;border-radius: 0.25em;box-sizing: border-box;margin-bottom: 0.5em;}#sk-container-id-2 div.sk-estimator:hover {background-color: #d4ebff;}#sk-container-id-2 div.sk-parallel-item::after {content: \"\";width: 100%;border-bottom: 1px solid gray;flex-grow: 1;}#sk-container-id-2 div.sk-label:hover label.sk-toggleable__label {background-color: #d4ebff;}#sk-container-id-2 div.sk-serial::before {content: \"\";position: absolute;border-left: 1px solid gray;box-sizing: border-box;top: 0;bottom: 0;left: 50%;z-index: 0;}#sk-container-id-2 div.sk-serial {display: flex;flex-direction: column;align-items: center;background-color: white;padding-right: 0.2em;padding-left: 0.2em;position: relative;}#sk-container-id-2 div.sk-item {position: relative;z-index: 1;}#sk-container-id-2 div.sk-parallel {display: flex;align-items: stretch;justify-content: center;background-color: white;position: relative;}#sk-container-id-2 div.sk-item::before, #sk-container-id-2 div.sk-parallel-item::before {content: \"\";position: absolute;border-left: 1px solid gray;box-sizing: border-box;top: 0;bottom: 0;left: 50%;z-index: -1;}#sk-container-id-2 div.sk-parallel-item {display: flex;flex-direction: column;z-index: 1;position: relative;background-color: white;}#sk-container-id-2 div.sk-parallel-item:first-child::after {align-self: flex-end;width: 50%;}#sk-container-id-2 div.sk-parallel-item:last-child::after {align-self: flex-start;width: 50%;}#sk-container-id-2 div.sk-parallel-item:only-child::after {width: 0;}#sk-container-id-2 div.sk-dashed-wrapped {border: 1px dashed gray;margin: 0 0.4em 0.5em 0.4em;box-sizing: border-box;padding-bottom: 0.4em;background-color: white;}#sk-container-id-2 div.sk-label label {font-family: monospace;font-weight: bold;display: inline-block;line-height: 1.2em;}#sk-container-id-2 div.sk-label-container {text-align: center;}#sk-container-id-2 div.sk-container {/* jupyter's `normalize.less` sets `[hidden] { display: none; }` but bootstrap.min.css set `[hidden] { display: none !important; }` so we also need the `!important` here to be able to override the default hidden behavior on the sphinx rendered scikit-learn.org. See: https://github.com/scikit-learn/scikit-learn/issues/21755 */display: inline-block !important;position: relative;}#sk-container-id-2 div.sk-text-repr-fallback {display: none;}</style><div id=\"sk-container-id-2\" class=\"sk-top-container\"><div class=\"sk-text-repr-fallback\"><pre>OneHotEncoder(drop=&#x27;first&#x27;, handle_unknown=&#x27;ignore&#x27;)</pre><b>In a Jupyter environment, please rerun this cell to show the HTML representation or trust the notebook. <br />On GitHub, the HTML representation is unable to render, please try loading this page with nbviewer.org.</b></div><div class=\"sk-container\" hidden><div class=\"sk-item\"><div class=\"sk-estimator sk-toggleable\"><input class=\"sk-toggleable__control sk-hidden--visually\" id=\"sk-estimator-id-2\" type=\"checkbox\" checked><label for=\"sk-estimator-id-2\" class=\"sk-toggleable__label sk-toggleable__label-arrow\">OneHotEncoder</label><div class=\"sk-toggleable__content\"><pre>OneHotEncoder(drop=&#x27;first&#x27;, handle_unknown=&#x27;ignore&#x27;)</pre></div></div></div></div></div>"
      ],
      "text/plain": [
       "OneHotEncoder(drop='first', handle_unknown='ignore')"
      ]
     },
     "execution_count": 70,
     "metadata": {},
     "output_type": "execute_result"
    }
   ],
   "source": [
    "encoder.fit(features_train[cat_features])"
   ]
  },
  {
   "cell_type": "code",
   "execution_count": 71,
   "metadata": {},
   "outputs": [],
   "source": [
    "def enc_features(features):\n",
    "    enc_features = pd.DataFrame(encoder.transform(features[cat_features]).toarray(), \n",
    "                                columns=encoder.get_feature_names_out(), index=features.index)\n",
    "    features = features.drop(cat_features, axis=1)\n",
    "    return pd.concat([enc_features, features], axis=1)"
   ]
  },
  {
   "cell_type": "code",
   "execution_count": 72,
   "metadata": {},
   "outputs": [],
   "source": [
    "features_train_transform = enc_features(features_train_scaled)\n",
    "features_valid_transform = enc_features(features_valid_scaled)"
   ]
  },
  {
   "cell_type": "code",
   "execution_count": 73,
   "metadata": {},
   "outputs": [],
   "source": [
    "model = KNeighborsRegressor()"
   ]
  },
  {
   "cell_type": "code",
   "execution_count": 106,
   "metadata": {},
   "outputs": [
    {
     "name": "stdout",
     "output_type": "stream",
     "text": [
      "CPU times: user 761 ms, sys: 484 ms, total: 1.25 s\n",
      "Wall time: 1.25 s\n"
     ]
    },
    {
     "data": {
      "text/html": [
       "<style>#sk-container-id-4 {color: black;background-color: white;}#sk-container-id-4 pre{padding: 0;}#sk-container-id-4 div.sk-toggleable {background-color: white;}#sk-container-id-4 label.sk-toggleable__label {cursor: pointer;display: block;width: 100%;margin-bottom: 0;padding: 0.3em;box-sizing: border-box;text-align: center;}#sk-container-id-4 label.sk-toggleable__label-arrow:before {content: \"▸\";float: left;margin-right: 0.25em;color: #696969;}#sk-container-id-4 label.sk-toggleable__label-arrow:hover:before {color: black;}#sk-container-id-4 div.sk-estimator:hover label.sk-toggleable__label-arrow:before {color: black;}#sk-container-id-4 div.sk-toggleable__content {max-height: 0;max-width: 0;overflow: hidden;text-align: left;background-color: #f0f8ff;}#sk-container-id-4 div.sk-toggleable__content pre {margin: 0.2em;color: black;border-radius: 0.25em;background-color: #f0f8ff;}#sk-container-id-4 input.sk-toggleable__control:checked~div.sk-toggleable__content {max-height: 200px;max-width: 100%;overflow: auto;}#sk-container-id-4 input.sk-toggleable__control:checked~label.sk-toggleable__label-arrow:before {content: \"▾\";}#sk-container-id-4 div.sk-estimator input.sk-toggleable__control:checked~label.sk-toggleable__label {background-color: #d4ebff;}#sk-container-id-4 div.sk-label input.sk-toggleable__control:checked~label.sk-toggleable__label {background-color: #d4ebff;}#sk-container-id-4 input.sk-hidden--visually {border: 0;clip: rect(1px 1px 1px 1px);clip: rect(1px, 1px, 1px, 1px);height: 1px;margin: -1px;overflow: hidden;padding: 0;position: absolute;width: 1px;}#sk-container-id-4 div.sk-estimator {font-family: monospace;background-color: #f0f8ff;border: 1px dotted black;border-radius: 0.25em;box-sizing: border-box;margin-bottom: 0.5em;}#sk-container-id-4 div.sk-estimator:hover {background-color: #d4ebff;}#sk-container-id-4 div.sk-parallel-item::after {content: \"\";width: 100%;border-bottom: 1px solid gray;flex-grow: 1;}#sk-container-id-4 div.sk-label:hover label.sk-toggleable__label {background-color: #d4ebff;}#sk-container-id-4 div.sk-serial::before {content: \"\";position: absolute;border-left: 1px solid gray;box-sizing: border-box;top: 0;bottom: 0;left: 50%;z-index: 0;}#sk-container-id-4 div.sk-serial {display: flex;flex-direction: column;align-items: center;background-color: white;padding-right: 0.2em;padding-left: 0.2em;position: relative;}#sk-container-id-4 div.sk-item {position: relative;z-index: 1;}#sk-container-id-4 div.sk-parallel {display: flex;align-items: stretch;justify-content: center;background-color: white;position: relative;}#sk-container-id-4 div.sk-item::before, #sk-container-id-4 div.sk-parallel-item::before {content: \"\";position: absolute;border-left: 1px solid gray;box-sizing: border-box;top: 0;bottom: 0;left: 50%;z-index: -1;}#sk-container-id-4 div.sk-parallel-item {display: flex;flex-direction: column;z-index: 1;position: relative;background-color: white;}#sk-container-id-4 div.sk-parallel-item:first-child::after {align-self: flex-end;width: 50%;}#sk-container-id-4 div.sk-parallel-item:last-child::after {align-self: flex-start;width: 50%;}#sk-container-id-4 div.sk-parallel-item:only-child::after {width: 0;}#sk-container-id-4 div.sk-dashed-wrapped {border: 1px dashed gray;margin: 0 0.4em 0.5em 0.4em;box-sizing: border-box;padding-bottom: 0.4em;background-color: white;}#sk-container-id-4 div.sk-label label {font-family: monospace;font-weight: bold;display: inline-block;line-height: 1.2em;}#sk-container-id-4 div.sk-label-container {text-align: center;}#sk-container-id-4 div.sk-container {/* jupyter's `normalize.less` sets `[hidden] { display: none; }` but bootstrap.min.css set `[hidden] { display: none !important; }` so we also need the `!important` here to be able to override the default hidden behavior on the sphinx rendered scikit-learn.org. See: https://github.com/scikit-learn/scikit-learn/issues/21755 */display: inline-block !important;position: relative;}#sk-container-id-4 div.sk-text-repr-fallback {display: none;}</style><div id=\"sk-container-id-4\" class=\"sk-top-container\"><div class=\"sk-text-repr-fallback\"><pre>KNeighborsRegressor()</pre><b>In a Jupyter environment, please rerun this cell to show the HTML representation or trust the notebook. <br />On GitHub, the HTML representation is unable to render, please try loading this page with nbviewer.org.</b></div><div class=\"sk-container\" hidden><div class=\"sk-item\"><div class=\"sk-estimator sk-toggleable\"><input class=\"sk-toggleable__control sk-hidden--visually\" id=\"sk-estimator-id-4\" type=\"checkbox\" checked><label for=\"sk-estimator-id-4\" class=\"sk-toggleable__label sk-toggleable__label-arrow\">KNeighborsRegressor</label><div class=\"sk-toggleable__content\"><pre>KNeighborsRegressor()</pre></div></div></div></div></div>"
      ],
      "text/plain": [
       "KNeighborsRegressor()"
      ]
     },
     "execution_count": 106,
     "metadata": {},
     "output_type": "execute_result"
    }
   ],
   "source": [
    "%%time\n",
    "\n",
    "\n",
    "model.fit(features_train_transform, target_train)"
   ]
  },
  {
   "cell_type": "code",
   "execution_count": 107,
   "metadata": {},
   "outputs": [
    {
     "name": "stdout",
     "output_type": "stream",
     "text": [
      "CPU times: user 12min 52s, sys: 3.63 s, total: 12min 56s\n",
      "Wall time: 1min 12s\n"
     ]
    }
   ],
   "source": [
    "%%time\n",
    "\n",
    "\n",
    "predicted_valid = model.predict(features_valid_transform)"
   ]
  },
  {
   "cell_type": "code",
   "execution_count": 108,
   "metadata": {},
   "outputs": [],
   "source": [
    "rmse = mean_squared_error(target_valid, predicted_valid, squared=False)"
   ]
  },
  {
   "cell_type": "code",
   "execution_count": 109,
   "metadata": {},
   "outputs": [
    {
     "name": "stdout",
     "output_type": "stream",
     "text": [
      "RMSE: 2095.469 \n"
     ]
    }
   ],
   "source": [
    "print('RMSE: %.3f ' % (rmse))"
   ]
  },
  {
   "cell_type": "code",
   "execution_count": 110,
   "metadata": {},
   "outputs": [],
   "source": [
    "model = KNeighborsRegressor(n_neighbors=3)"
   ]
  },
  {
   "cell_type": "code",
   "execution_count": 111,
   "metadata": {},
   "outputs": [
    {
     "name": "stdout",
     "output_type": "stream",
     "text": [
      "CPU times: user 1.44 s, sys: 369 ms, total: 1.81 s\n",
      "Wall time: 511 ms\n"
     ]
    },
    {
     "data": {
      "text/html": [
       "<style>#sk-container-id-5 {color: black;background-color: white;}#sk-container-id-5 pre{padding: 0;}#sk-container-id-5 div.sk-toggleable {background-color: white;}#sk-container-id-5 label.sk-toggleable__label {cursor: pointer;display: block;width: 100%;margin-bottom: 0;padding: 0.3em;box-sizing: border-box;text-align: center;}#sk-container-id-5 label.sk-toggleable__label-arrow:before {content: \"▸\";float: left;margin-right: 0.25em;color: #696969;}#sk-container-id-5 label.sk-toggleable__label-arrow:hover:before {color: black;}#sk-container-id-5 div.sk-estimator:hover label.sk-toggleable__label-arrow:before {color: black;}#sk-container-id-5 div.sk-toggleable__content {max-height: 0;max-width: 0;overflow: hidden;text-align: left;background-color: #f0f8ff;}#sk-container-id-5 div.sk-toggleable__content pre {margin: 0.2em;color: black;border-radius: 0.25em;background-color: #f0f8ff;}#sk-container-id-5 input.sk-toggleable__control:checked~div.sk-toggleable__content {max-height: 200px;max-width: 100%;overflow: auto;}#sk-container-id-5 input.sk-toggleable__control:checked~label.sk-toggleable__label-arrow:before {content: \"▾\";}#sk-container-id-5 div.sk-estimator input.sk-toggleable__control:checked~label.sk-toggleable__label {background-color: #d4ebff;}#sk-container-id-5 div.sk-label input.sk-toggleable__control:checked~label.sk-toggleable__label {background-color: #d4ebff;}#sk-container-id-5 input.sk-hidden--visually {border: 0;clip: rect(1px 1px 1px 1px);clip: rect(1px, 1px, 1px, 1px);height: 1px;margin: -1px;overflow: hidden;padding: 0;position: absolute;width: 1px;}#sk-container-id-5 div.sk-estimator {font-family: monospace;background-color: #f0f8ff;border: 1px dotted black;border-radius: 0.25em;box-sizing: border-box;margin-bottom: 0.5em;}#sk-container-id-5 div.sk-estimator:hover {background-color: #d4ebff;}#sk-container-id-5 div.sk-parallel-item::after {content: \"\";width: 100%;border-bottom: 1px solid gray;flex-grow: 1;}#sk-container-id-5 div.sk-label:hover label.sk-toggleable__label {background-color: #d4ebff;}#sk-container-id-5 div.sk-serial::before {content: \"\";position: absolute;border-left: 1px solid gray;box-sizing: border-box;top: 0;bottom: 0;left: 50%;z-index: 0;}#sk-container-id-5 div.sk-serial {display: flex;flex-direction: column;align-items: center;background-color: white;padding-right: 0.2em;padding-left: 0.2em;position: relative;}#sk-container-id-5 div.sk-item {position: relative;z-index: 1;}#sk-container-id-5 div.sk-parallel {display: flex;align-items: stretch;justify-content: center;background-color: white;position: relative;}#sk-container-id-5 div.sk-item::before, #sk-container-id-5 div.sk-parallel-item::before {content: \"\";position: absolute;border-left: 1px solid gray;box-sizing: border-box;top: 0;bottom: 0;left: 50%;z-index: -1;}#sk-container-id-5 div.sk-parallel-item {display: flex;flex-direction: column;z-index: 1;position: relative;background-color: white;}#sk-container-id-5 div.sk-parallel-item:first-child::after {align-self: flex-end;width: 50%;}#sk-container-id-5 div.sk-parallel-item:last-child::after {align-self: flex-start;width: 50%;}#sk-container-id-5 div.sk-parallel-item:only-child::after {width: 0;}#sk-container-id-5 div.sk-dashed-wrapped {border: 1px dashed gray;margin: 0 0.4em 0.5em 0.4em;box-sizing: border-box;padding-bottom: 0.4em;background-color: white;}#sk-container-id-5 div.sk-label label {font-family: monospace;font-weight: bold;display: inline-block;line-height: 1.2em;}#sk-container-id-5 div.sk-label-container {text-align: center;}#sk-container-id-5 div.sk-container {/* jupyter's `normalize.less` sets `[hidden] { display: none; }` but bootstrap.min.css set `[hidden] { display: none !important; }` so we also need the `!important` here to be able to override the default hidden behavior on the sphinx rendered scikit-learn.org. See: https://github.com/scikit-learn/scikit-learn/issues/21755 */display: inline-block !important;position: relative;}#sk-container-id-5 div.sk-text-repr-fallback {display: none;}</style><div id=\"sk-container-id-5\" class=\"sk-top-container\"><div class=\"sk-text-repr-fallback\"><pre>KNeighborsRegressor(n_neighbors=3)</pre><b>In a Jupyter environment, please rerun this cell to show the HTML representation or trust the notebook. <br />On GitHub, the HTML representation is unable to render, please try loading this page with nbviewer.org.</b></div><div class=\"sk-container\" hidden><div class=\"sk-item\"><div class=\"sk-estimator sk-toggleable\"><input class=\"sk-toggleable__control sk-hidden--visually\" id=\"sk-estimator-id-5\" type=\"checkbox\" checked><label for=\"sk-estimator-id-5\" class=\"sk-toggleable__label sk-toggleable__label-arrow\">KNeighborsRegressor</label><div class=\"sk-toggleable__content\"><pre>KNeighborsRegressor(n_neighbors=3)</pre></div></div></div></div></div>"
      ],
      "text/plain": [
       "KNeighborsRegressor(n_neighbors=3)"
      ]
     },
     "execution_count": 111,
     "metadata": {},
     "output_type": "execute_result"
    }
   ],
   "source": [
    "%%time\n",
    "\n",
    "\n",
    "model.fit(features_train_transform, target_train)"
   ]
  },
  {
   "cell_type": "code",
   "execution_count": 112,
   "metadata": {},
   "outputs": [
    {
     "name": "stdout",
     "output_type": "stream",
     "text": [
      "CPU times: user 12min 47s, sys: 3.83 s, total: 12min 51s\n",
      "Wall time: 1min 10s\n"
     ]
    }
   ],
   "source": [
    "%%time\n",
    "\n",
    "\n",
    "predicted_valid = model.predict(features_valid_transform)"
   ]
  },
  {
   "cell_type": "code",
   "execution_count": 113,
   "metadata": {},
   "outputs": [],
   "source": [
    "rmse = mean_squared_error(target_valid, predicted_valid, squared=False)"
   ]
  },
  {
   "cell_type": "code",
   "execution_count": 114,
   "metadata": {},
   "outputs": [
    {
     "name": "stdout",
     "output_type": "stream",
     "text": [
      "RMSE: 2189.883 \n"
     ]
    }
   ],
   "source": [
    "print('RMSE: %.3f ' % (rmse))"
   ]
  },
  {
   "cell_type": "markdown",
   "metadata": {},
   "source": [
    "**Исследование на моедли CatBoostRegressor**"
   ]
  },
  {
   "cell_type": "code",
   "execution_count": 115,
   "metadata": {},
   "outputs": [],
   "source": [
    "model = CatBoostRegressor(cat_features=cat_features, random_state=42, learning_rate=0.5, iterations=300)"
   ]
  },
  {
   "cell_type": "markdown",
   "metadata": {},
   "source": [
    "1. CatBoostRegressor по умолчанию функция потерь RMSE"
   ]
  },
  {
   "cell_type": "code",
   "execution_count": 116,
   "metadata": {},
   "outputs": [
    {
     "name": "stdout",
     "output_type": "stream",
     "text": [
      "0:\tlearn: 3231.4644731\ttotal: 137ms\tremaining: 41s\n",
      "1:\tlearn: 2634.7476216\ttotal: 196ms\tremaining: 29.3s\n",
      "2:\tlearn: 2359.2956669\ttotal: 254ms\tremaining: 25.1s\n",
      "3:\tlearn: 2206.4851429\ttotal: 301ms\tremaining: 22.3s\n",
      "4:\tlearn: 2124.1227266\ttotal: 357ms\tremaining: 21s\n",
      "5:\tlearn: 2063.3013427\ttotal: 418ms\tremaining: 20.5s\n",
      "6:\tlearn: 2035.4405263\ttotal: 468ms\tremaining: 19.6s\n",
      "7:\tlearn: 2009.5371856\ttotal: 511ms\tremaining: 18.6s\n",
      "8:\tlearn: 1995.5448982\ttotal: 557ms\tremaining: 18s\n",
      "9:\tlearn: 1976.6921818\ttotal: 621ms\tremaining: 18s\n",
      "10:\tlearn: 1963.2722837\ttotal: 663ms\tremaining: 17.4s\n",
      "11:\tlearn: 1947.4515634\ttotal: 705ms\tremaining: 16.9s\n",
      "12:\tlearn: 1936.4800618\ttotal: 764ms\tremaining: 16.9s\n",
      "13:\tlearn: 1923.5335109\ttotal: 818ms\tremaining: 16.7s\n",
      "14:\tlearn: 1915.0696067\ttotal: 871ms\tremaining: 16.5s\n",
      "15:\tlearn: 1906.4147718\ttotal: 923ms\tremaining: 16.4s\n",
      "16:\tlearn: 1897.3796651\ttotal: 975ms\tremaining: 16.2s\n",
      "17:\tlearn: 1885.4247099\ttotal: 1.02s\tremaining: 16s\n",
      "18:\tlearn: 1877.7000647\ttotal: 1.06s\tremaining: 15.8s\n",
      "19:\tlearn: 1872.4388215\ttotal: 1.13s\tremaining: 15.8s\n",
      "20:\tlearn: 1867.5307603\ttotal: 1.18s\tremaining: 15.7s\n",
      "21:\tlearn: 1861.8147706\ttotal: 1.23s\tremaining: 15.5s\n",
      "22:\tlearn: 1854.5924910\ttotal: 1.29s\tremaining: 15.6s\n",
      "23:\tlearn: 1851.2136695\ttotal: 1.36s\tremaining: 15.7s\n",
      "24:\tlearn: 1844.4140999\ttotal: 1.42s\tremaining: 15.6s\n",
      "25:\tlearn: 1839.5881696\ttotal: 1.46s\tremaining: 15.4s\n",
      "26:\tlearn: 1836.4252966\ttotal: 1.51s\tremaining: 15.3s\n",
      "27:\tlearn: 1833.7101648\ttotal: 1.56s\tremaining: 15.2s\n",
      "28:\tlearn: 1828.6382975\ttotal: 1.62s\tremaining: 15.1s\n",
      "29:\tlearn: 1825.9983571\ttotal: 1.67s\tremaining: 15s\n",
      "30:\tlearn: 1819.6293361\ttotal: 1.72s\tremaining: 14.9s\n",
      "31:\tlearn: 1817.3268552\ttotal: 1.77s\tremaining: 14.9s\n",
      "32:\tlearn: 1812.2262662\ttotal: 1.83s\tremaining: 14.8s\n",
      "33:\tlearn: 1808.1465762\ttotal: 1.89s\tremaining: 14.7s\n",
      "34:\tlearn: 1804.1748819\ttotal: 1.95s\tremaining: 14.7s\n",
      "35:\tlearn: 1799.0665658\ttotal: 2s\tremaining: 14.7s\n",
      "36:\tlearn: 1796.6473556\ttotal: 2.05s\tremaining: 14.6s\n",
      "37:\tlearn: 1793.9706338\ttotal: 2.1s\tremaining: 14.5s\n",
      "38:\tlearn: 1792.9540131\ttotal: 2.15s\tremaining: 14.4s\n",
      "39:\tlearn: 1790.0043941\ttotal: 2.21s\tremaining: 14.3s\n",
      "40:\tlearn: 1785.4072522\ttotal: 2.27s\tremaining: 14.4s\n",
      "41:\tlearn: 1781.2834231\ttotal: 2.32s\tremaining: 14.3s\n",
      "42:\tlearn: 1777.1010764\ttotal: 2.37s\tremaining: 14.2s\n",
      "43:\tlearn: 1774.2538940\ttotal: 2.42s\tremaining: 14.1s\n",
      "44:\tlearn: 1771.5613726\ttotal: 2.48s\tremaining: 14.1s\n",
      "45:\tlearn: 1769.1219294\ttotal: 2.55s\tremaining: 14.1s\n",
      "46:\tlearn: 1768.2371848\ttotal: 2.6s\tremaining: 14s\n",
      "47:\tlearn: 1767.0918238\ttotal: 2.66s\tremaining: 14s\n",
      "48:\tlearn: 1763.6945731\ttotal: 2.71s\tremaining: 13.9s\n",
      "49:\tlearn: 1762.4807877\ttotal: 2.76s\tremaining: 13.8s\n",
      "50:\tlearn: 1759.7971837\ttotal: 2.8s\tremaining: 13.7s\n",
      "51:\tlearn: 1757.5040043\ttotal: 2.85s\tremaining: 13.6s\n",
      "52:\tlearn: 1755.1863874\ttotal: 2.9s\tremaining: 13.5s\n",
      "53:\tlearn: 1754.4003355\ttotal: 2.95s\tremaining: 13.4s\n",
      "54:\tlearn: 1753.0540802\ttotal: 3s\tremaining: 13.4s\n",
      "55:\tlearn: 1750.3990573\ttotal: 3.05s\tremaining: 13.3s\n",
      "56:\tlearn: 1748.9235972\ttotal: 3.09s\tremaining: 13.2s\n",
      "57:\tlearn: 1747.3484840\ttotal: 3.15s\tremaining: 13.1s\n",
      "58:\tlearn: 1745.8678099\ttotal: 3.19s\tremaining: 13.1s\n",
      "59:\tlearn: 1744.4492050\ttotal: 3.25s\tremaining: 13s\n",
      "60:\tlearn: 1742.9332444\ttotal: 3.29s\tremaining: 12.9s\n",
      "61:\tlearn: 1741.4901966\ttotal: 3.34s\tremaining: 12.8s\n",
      "62:\tlearn: 1740.2548004\ttotal: 3.4s\tremaining: 12.8s\n",
      "63:\tlearn: 1738.1441844\ttotal: 3.44s\tremaining: 12.7s\n",
      "64:\tlearn: 1735.4684703\ttotal: 3.5s\tremaining: 12.7s\n",
      "65:\tlearn: 1735.0537651\ttotal: 3.56s\tremaining: 12.6s\n",
      "66:\tlearn: 1734.1852607\ttotal: 3.6s\tremaining: 12.5s\n",
      "67:\tlearn: 1732.6267846\ttotal: 3.67s\tremaining: 12.5s\n",
      "68:\tlearn: 1731.3253882\ttotal: 3.72s\tremaining: 12.4s\n",
      "69:\tlearn: 1729.8244759\ttotal: 3.77s\tremaining: 12.4s\n",
      "70:\tlearn: 1729.0412284\ttotal: 3.83s\tremaining: 12.3s\n",
      "71:\tlearn: 1727.5731747\ttotal: 3.89s\tremaining: 12.3s\n",
      "72:\tlearn: 1726.5453386\ttotal: 3.94s\tremaining: 12.2s\n",
      "73:\tlearn: 1723.9761139\ttotal: 3.99s\tremaining: 12.2s\n",
      "74:\tlearn: 1723.4458954\ttotal: 4.05s\tremaining: 12.2s\n",
      "75:\tlearn: 1722.0413014\ttotal: 4.11s\tremaining: 12.1s\n",
      "76:\tlearn: 1719.7270104\ttotal: 4.17s\tremaining: 12.1s\n",
      "77:\tlearn: 1718.7203675\ttotal: 4.22s\tremaining: 12s\n",
      "78:\tlearn: 1716.7143635\ttotal: 4.28s\tremaining: 12s\n",
      "79:\tlearn: 1715.9510309\ttotal: 4.34s\tremaining: 11.9s\n",
      "80:\tlearn: 1715.6796715\ttotal: 4.37s\tremaining: 11.8s\n",
      "81:\tlearn: 1713.4072618\ttotal: 4.42s\tremaining: 11.8s\n",
      "82:\tlearn: 1712.4049892\ttotal: 4.47s\tremaining: 11.7s\n",
      "83:\tlearn: 1711.0619305\ttotal: 4.53s\tremaining: 11.6s\n",
      "84:\tlearn: 1710.1207336\ttotal: 4.58s\tremaining: 11.6s\n",
      "85:\tlearn: 1708.4764868\ttotal: 4.63s\tremaining: 11.5s\n",
      "86:\tlearn: 1707.1701689\ttotal: 4.68s\tremaining: 11.5s\n",
      "87:\tlearn: 1705.9280801\ttotal: 4.73s\tremaining: 11.4s\n",
      "88:\tlearn: 1705.0205024\ttotal: 4.79s\tremaining: 11.4s\n",
      "89:\tlearn: 1703.5372296\ttotal: 4.84s\tremaining: 11.3s\n",
      "90:\tlearn: 1703.1024038\ttotal: 4.89s\tremaining: 11.2s\n",
      "91:\tlearn: 1702.4750903\ttotal: 4.94s\tremaining: 11.2s\n",
      "92:\tlearn: 1701.1446480\ttotal: 5s\tremaining: 11.1s\n",
      "93:\tlearn: 1700.1366088\ttotal: 5.06s\tremaining: 11.1s\n",
      "94:\tlearn: 1699.4190336\ttotal: 5.1s\tremaining: 11s\n",
      "95:\tlearn: 1698.9878029\ttotal: 5.16s\tremaining: 11s\n",
      "96:\tlearn: 1697.6232440\ttotal: 5.22s\tremaining: 10.9s\n",
      "97:\tlearn: 1696.9236243\ttotal: 5.27s\tremaining: 10.9s\n",
      "98:\tlearn: 1696.1815298\ttotal: 5.32s\tremaining: 10.8s\n",
      "99:\tlearn: 1694.5746312\ttotal: 5.38s\tremaining: 10.8s\n",
      "100:\tlearn: 1693.7235298\ttotal: 5.43s\tremaining: 10.7s\n",
      "101:\tlearn: 1693.2823310\ttotal: 5.49s\tremaining: 10.7s\n",
      "102:\tlearn: 1692.5863656\ttotal: 5.54s\tremaining: 10.6s\n",
      "103:\tlearn: 1692.1897783\ttotal: 5.59s\tremaining: 10.5s\n",
      "104:\tlearn: 1690.8221308\ttotal: 5.65s\tremaining: 10.5s\n",
      "105:\tlearn: 1689.7993426\ttotal: 5.7s\tremaining: 10.4s\n",
      "106:\tlearn: 1688.6289817\ttotal: 5.76s\tremaining: 10.4s\n",
      "107:\tlearn: 1688.3181409\ttotal: 5.82s\tremaining: 10.3s\n",
      "108:\tlearn: 1687.1073871\ttotal: 5.88s\tremaining: 10.3s\n",
      "109:\tlearn: 1685.6375379\ttotal: 5.94s\tremaining: 10.3s\n",
      "110:\tlearn: 1684.8437453\ttotal: 5.99s\tremaining: 10.2s\n",
      "111:\tlearn: 1684.4190294\ttotal: 6.05s\tremaining: 10.2s\n",
      "112:\tlearn: 1683.3045244\ttotal: 6.1s\tremaining: 10.1s\n",
      "113:\tlearn: 1682.4400041\ttotal: 6.15s\tremaining: 10s\n",
      "114:\tlearn: 1681.5970218\ttotal: 6.19s\tremaining: 9.96s\n",
      "115:\tlearn: 1680.2548130\ttotal: 6.25s\tremaining: 9.91s\n",
      "116:\tlearn: 1679.0395467\ttotal: 6.3s\tremaining: 9.86s\n",
      "117:\tlearn: 1678.2462744\ttotal: 6.36s\tremaining: 9.81s\n",
      "118:\tlearn: 1677.3553305\ttotal: 6.41s\tremaining: 9.75s\n",
      "119:\tlearn: 1676.3216990\ttotal: 6.46s\tremaining: 9.69s\n",
      "120:\tlearn: 1675.6993504\ttotal: 6.51s\tremaining: 9.63s\n",
      "121:\tlearn: 1675.2002683\ttotal: 6.56s\tremaining: 9.57s\n",
      "122:\tlearn: 1674.1906047\ttotal: 6.61s\tremaining: 9.51s\n",
      "123:\tlearn: 1672.7580157\ttotal: 6.66s\tremaining: 9.45s\n",
      "124:\tlearn: 1672.1348906\ttotal: 6.71s\tremaining: 9.4s\n",
      "125:\tlearn: 1671.1434784\ttotal: 6.77s\tremaining: 9.35s\n",
      "126:\tlearn: 1669.6768423\ttotal: 6.82s\tremaining: 9.29s\n",
      "127:\tlearn: 1668.9249830\ttotal: 6.88s\tremaining: 9.24s\n",
      "128:\tlearn: 1667.9609858\ttotal: 6.93s\tremaining: 9.19s\n",
      "129:\tlearn: 1667.1658537\ttotal: 6.99s\tremaining: 9.14s\n",
      "130:\tlearn: 1666.5292970\ttotal: 7.05s\tremaining: 9.09s\n",
      "131:\tlearn: 1666.1187024\ttotal: 7.1s\tremaining: 9.03s\n",
      "132:\tlearn: 1665.1470356\ttotal: 7.16s\tremaining: 8.99s\n",
      "133:\tlearn: 1664.6128312\ttotal: 7.22s\tremaining: 8.94s\n",
      "134:\tlearn: 1663.8643689\ttotal: 7.26s\tremaining: 8.88s\n",
      "135:\tlearn: 1663.1410132\ttotal: 7.32s\tremaining: 8.83s\n",
      "136:\tlearn: 1662.7590040\ttotal: 7.37s\tremaining: 8.77s\n",
      "137:\tlearn: 1662.0181040\ttotal: 7.42s\tremaining: 8.71s\n",
      "138:\tlearn: 1661.0915135\ttotal: 7.48s\tremaining: 8.66s\n",
      "139:\tlearn: 1660.8052445\ttotal: 7.52s\tremaining: 8.6s\n",
      "140:\tlearn: 1660.7019403\ttotal: 7.58s\tremaining: 8.54s\n",
      "141:\tlearn: 1660.3171761\ttotal: 7.63s\tremaining: 8.49s\n",
      "142:\tlearn: 1660.0583246\ttotal: 7.69s\tremaining: 8.44s\n",
      "143:\tlearn: 1659.7541517\ttotal: 7.74s\tremaining: 8.39s\n",
      "144:\tlearn: 1659.1967232\ttotal: 7.79s\tremaining: 8.33s\n",
      "145:\tlearn: 1658.3030936\ttotal: 7.84s\tremaining: 8.27s\n",
      "146:\tlearn: 1657.8926444\ttotal: 7.9s\tremaining: 8.22s\n",
      "147:\tlearn: 1657.6019813\ttotal: 7.97s\tremaining: 8.18s\n",
      "148:\tlearn: 1656.8033215\ttotal: 8.04s\tremaining: 8.14s\n",
      "149:\tlearn: 1656.3151432\ttotal: 8.1s\tremaining: 8.1s\n",
      "150:\tlearn: 1655.9539567\ttotal: 8.18s\tremaining: 8.07s\n",
      "151:\tlearn: 1655.5972997\ttotal: 8.25s\tremaining: 8.03s\n",
      "152:\tlearn: 1655.0470399\ttotal: 8.32s\tremaining: 8s\n",
      "153:\tlearn: 1654.5333873\ttotal: 8.38s\tremaining: 7.94s\n",
      "154:\tlearn: 1654.0838972\ttotal: 8.44s\tremaining: 7.9s\n",
      "155:\tlearn: 1653.4762724\ttotal: 8.52s\tremaining: 7.87s\n",
      "156:\tlearn: 1653.2650093\ttotal: 8.56s\tremaining: 7.8s\n",
      "157:\tlearn: 1653.0940761\ttotal: 8.62s\tremaining: 7.75s\n",
      "158:\tlearn: 1652.7826269\ttotal: 8.69s\tremaining: 7.71s\n",
      "159:\tlearn: 1652.0906143\ttotal: 8.76s\tremaining: 7.66s\n",
      "160:\tlearn: 1651.7318349\ttotal: 8.81s\tremaining: 7.61s\n",
      "161:\tlearn: 1650.4214950\ttotal: 8.88s\tremaining: 7.56s\n",
      "162:\tlearn: 1649.9754035\ttotal: 8.93s\tremaining: 7.51s\n",
      "163:\tlearn: 1649.6089658\ttotal: 9s\tremaining: 7.46s\n",
      "164:\tlearn: 1649.5679337\ttotal: 9.04s\tremaining: 7.4s\n",
      "165:\tlearn: 1649.4390598\ttotal: 9.09s\tremaining: 7.33s\n",
      "166:\tlearn: 1648.8858932\ttotal: 9.12s\tremaining: 7.27s\n",
      "167:\tlearn: 1648.7676718\ttotal: 9.18s\tremaining: 7.21s\n",
      "168:\tlearn: 1648.5591161\ttotal: 9.22s\tremaining: 7.15s\n",
      "169:\tlearn: 1647.8643539\ttotal: 9.28s\tremaining: 7.09s\n",
      "170:\tlearn: 1647.4706437\ttotal: 9.32s\tremaining: 7.03s\n",
      "171:\tlearn: 1646.6688280\ttotal: 9.37s\tremaining: 6.97s\n",
      "172:\tlearn: 1646.3938084\ttotal: 9.42s\tremaining: 6.92s\n",
      "173:\tlearn: 1646.3362235\ttotal: 9.47s\tremaining: 6.86s\n",
      "174:\tlearn: 1646.0402537\ttotal: 9.52s\tremaining: 6.8s\n",
      "175:\tlearn: 1645.9491167\ttotal: 9.57s\tremaining: 6.74s\n",
      "176:\tlearn: 1645.7728389\ttotal: 9.62s\tremaining: 6.68s\n",
      "177:\tlearn: 1645.0798973\ttotal: 9.67s\tremaining: 6.63s\n",
      "178:\tlearn: 1644.5363002\ttotal: 9.72s\tremaining: 6.57s\n",
      "179:\tlearn: 1643.6681368\ttotal: 9.77s\tremaining: 6.51s\n",
      "180:\tlearn: 1643.2171669\ttotal: 9.82s\tremaining: 6.46s\n",
      "181:\tlearn: 1642.3154737\ttotal: 9.88s\tremaining: 6.41s\n",
      "182:\tlearn: 1641.8596293\ttotal: 9.93s\tremaining: 6.35s\n",
      "183:\tlearn: 1641.4903040\ttotal: 9.99s\tremaining: 6.3s\n",
      "184:\tlearn: 1640.7339510\ttotal: 10s\tremaining: 6.24s\n",
      "185:\tlearn: 1640.0340934\ttotal: 10.1s\tremaining: 6.18s\n",
      "186:\tlearn: 1639.7491421\ttotal: 10.1s\tremaining: 6.13s\n",
      "187:\tlearn: 1639.5285480\ttotal: 10.2s\tremaining: 6.08s\n",
      "188:\tlearn: 1638.8880090\ttotal: 10.3s\tremaining: 6.02s\n",
      "189:\tlearn: 1638.0907806\ttotal: 10.3s\tremaining: 5.97s\n",
      "190:\tlearn: 1637.3636909\ttotal: 10.4s\tremaining: 5.92s\n",
      "191:\tlearn: 1637.0040488\ttotal: 10.4s\tremaining: 5.86s\n",
      "192:\tlearn: 1636.9153582\ttotal: 10.5s\tremaining: 5.8s\n",
      "193:\tlearn: 1636.2170149\ttotal: 10.5s\tremaining: 5.74s\n",
      "194:\tlearn: 1635.8895964\ttotal: 10.6s\tremaining: 5.69s\n",
      "195:\tlearn: 1635.5975541\ttotal: 10.6s\tremaining: 5.64s\n",
      "196:\tlearn: 1634.5903824\ttotal: 10.7s\tremaining: 5.58s\n",
      "197:\tlearn: 1634.1750145\ttotal: 10.7s\tremaining: 5.53s\n",
      "198:\tlearn: 1633.5948255\ttotal: 10.8s\tremaining: 5.47s\n",
      "199:\tlearn: 1632.6831348\ttotal: 10.8s\tremaining: 5.42s\n",
      "200:\tlearn: 1632.3658338\ttotal: 10.9s\tremaining: 5.37s\n",
      "201:\tlearn: 1631.9287681\ttotal: 10.9s\tremaining: 5.3s\n",
      "202:\tlearn: 1631.8246694\ttotal: 11s\tremaining: 5.25s\n",
      "203:\tlearn: 1631.3215443\ttotal: 11s\tremaining: 5.2s\n",
      "204:\tlearn: 1630.8576674\ttotal: 11.1s\tremaining: 5.14s\n",
      "205:\tlearn: 1630.3097096\ttotal: 11.1s\tremaining: 5.09s\n",
      "206:\tlearn: 1630.0970882\ttotal: 11.2s\tremaining: 5.03s\n",
      "207:\tlearn: 1629.6312177\ttotal: 11.2s\tremaining: 4.97s\n",
      "208:\tlearn: 1629.2185278\ttotal: 11.3s\tremaining: 4.92s\n",
      "209:\tlearn: 1628.7873583\ttotal: 11.4s\tremaining: 4.87s\n",
      "210:\tlearn: 1628.2829369\ttotal: 11.4s\tremaining: 4.81s\n",
      "211:\tlearn: 1628.2538360\ttotal: 11.5s\tremaining: 4.75s\n",
      "212:\tlearn: 1627.7592463\ttotal: 11.5s\tremaining: 4.69s\n",
      "213:\tlearn: 1627.7184692\ttotal: 11.6s\tremaining: 4.64s\n",
      "214:\tlearn: 1627.2002738\ttotal: 11.6s\tremaining: 4.59s\n",
      "215:\tlearn: 1626.9828748\ttotal: 11.7s\tremaining: 4.53s\n",
      "216:\tlearn: 1626.3770982\ttotal: 11.7s\tremaining: 4.47s\n",
      "217:\tlearn: 1625.9195207\ttotal: 11.7s\tremaining: 4.42s\n",
      "218:\tlearn: 1625.6294033\ttotal: 11.8s\tremaining: 4.37s\n",
      "219:\tlearn: 1624.8039101\ttotal: 11.8s\tremaining: 4.31s\n",
      "220:\tlearn: 1624.3456606\ttotal: 11.9s\tremaining: 4.25s\n",
      "221:\tlearn: 1623.7508768\ttotal: 12s\tremaining: 4.2s\n",
      "222:\tlearn: 1623.4278516\ttotal: 12s\tremaining: 4.14s\n",
      "223:\tlearn: 1623.1425715\ttotal: 12.1s\tremaining: 4.09s\n",
      "224:\tlearn: 1622.6820683\ttotal: 12.1s\tremaining: 4.03s\n",
      "225:\tlearn: 1621.8527575\ttotal: 12.2s\tremaining: 3.98s\n",
      "226:\tlearn: 1621.1536722\ttotal: 12.2s\tremaining: 3.92s\n",
      "227:\tlearn: 1620.9679441\ttotal: 12.3s\tremaining: 3.87s\n",
      "228:\tlearn: 1620.7829626\ttotal: 12.3s\tremaining: 3.81s\n",
      "229:\tlearn: 1620.5425788\ttotal: 12.4s\tremaining: 3.76s\n",
      "230:\tlearn: 1620.3054382\ttotal: 12.4s\tremaining: 3.71s\n",
      "231:\tlearn: 1619.8812125\ttotal: 12.5s\tremaining: 3.66s\n",
      "232:\tlearn: 1619.0985177\ttotal: 12.5s\tremaining: 3.6s\n",
      "233:\tlearn: 1618.9316086\ttotal: 12.6s\tremaining: 3.56s\n",
      "234:\tlearn: 1618.2849433\ttotal: 12.7s\tremaining: 3.51s\n",
      "235:\tlearn: 1617.1092202\ttotal: 12.7s\tremaining: 3.45s\n",
      "236:\tlearn: 1616.1995295\ttotal: 12.8s\tremaining: 3.4s\n",
      "237:\tlearn: 1616.1885517\ttotal: 12.8s\tremaining: 3.35s\n",
      "238:\tlearn: 1615.9108745\ttotal: 12.9s\tremaining: 3.29s\n",
      "239:\tlearn: 1615.1538612\ttotal: 13s\tremaining: 3.24s\n",
      "240:\tlearn: 1615.0529527\ttotal: 13s\tremaining: 3.19s\n",
      "241:\tlearn: 1614.9864268\ttotal: 13.1s\tremaining: 3.13s\n",
      "242:\tlearn: 1614.6117005\ttotal: 13.1s\tremaining: 3.08s\n",
      "243:\tlearn: 1614.4887032\ttotal: 13.2s\tremaining: 3.03s\n",
      "244:\tlearn: 1613.5255355\ttotal: 13.3s\tremaining: 2.97s\n",
      "245:\tlearn: 1612.6145051\ttotal: 13.3s\tremaining: 2.92s\n",
      "246:\tlearn: 1612.0681622\ttotal: 13.4s\tremaining: 2.87s\n",
      "247:\tlearn: 1612.0434806\ttotal: 13.5s\tremaining: 2.82s\n",
      "248:\tlearn: 1611.3783702\ttotal: 13.5s\tremaining: 2.77s\n",
      "249:\tlearn: 1611.2299620\ttotal: 13.6s\tremaining: 2.72s\n",
      "250:\tlearn: 1611.1489228\ttotal: 13.7s\tremaining: 2.66s\n",
      "251:\tlearn: 1610.5967748\ttotal: 13.7s\tremaining: 2.61s\n",
      "252:\tlearn: 1610.2667719\ttotal: 13.8s\tremaining: 2.56s\n",
      "253:\tlearn: 1609.7751814\ttotal: 13.9s\tremaining: 2.51s\n",
      "254:\tlearn: 1609.5104858\ttotal: 13.9s\tremaining: 2.46s\n",
      "255:\tlearn: 1609.3729052\ttotal: 14s\tremaining: 2.41s\n",
      "256:\tlearn: 1608.9390703\ttotal: 14.1s\tremaining: 2.36s\n",
      "257:\tlearn: 1608.9205210\ttotal: 14.1s\tremaining: 2.3s\n",
      "258:\tlearn: 1608.4693460\ttotal: 14.2s\tremaining: 2.25s\n",
      "259:\tlearn: 1608.4038583\ttotal: 14.3s\tremaining: 2.19s\n",
      "260:\tlearn: 1607.8829906\ttotal: 14.3s\tremaining: 2.14s\n",
      "261:\tlearn: 1606.9476488\ttotal: 14.4s\tremaining: 2.09s\n",
      "262:\tlearn: 1606.8995737\ttotal: 14.5s\tremaining: 2.03s\n",
      "263:\tlearn: 1606.5207724\ttotal: 14.5s\tremaining: 1.98s\n",
      "264:\tlearn: 1606.4295836\ttotal: 14.6s\tremaining: 1.93s\n",
      "265:\tlearn: 1605.9288804\ttotal: 14.6s\tremaining: 1.87s\n",
      "266:\tlearn: 1605.7782271\ttotal: 14.7s\tremaining: 1.81s\n",
      "267:\tlearn: 1605.5386494\ttotal: 14.7s\tremaining: 1.76s\n",
      "268:\tlearn: 1604.9381287\ttotal: 14.8s\tremaining: 1.7s\n",
      "269:\tlearn: 1604.7133450\ttotal: 14.9s\tremaining: 1.65s\n",
      "270:\tlearn: 1604.1369833\ttotal: 14.9s\tremaining: 1.59s\n",
      "271:\tlearn: 1603.7386531\ttotal: 15s\tremaining: 1.54s\n",
      "272:\tlearn: 1603.2723745\ttotal: 15s\tremaining: 1.49s\n",
      "273:\tlearn: 1602.9435250\ttotal: 15.1s\tremaining: 1.43s\n",
      "274:\tlearn: 1602.6682902\ttotal: 15.2s\tremaining: 1.38s\n",
      "275:\tlearn: 1602.5101751\ttotal: 15.2s\tremaining: 1.32s\n",
      "276:\tlearn: 1602.1944622\ttotal: 15.3s\tremaining: 1.27s\n",
      "277:\tlearn: 1602.1596315\ttotal: 15.3s\tremaining: 1.21s\n",
      "278:\tlearn: 1602.0742008\ttotal: 15.4s\tremaining: 1.16s\n",
      "279:\tlearn: 1601.7994526\ttotal: 15.4s\tremaining: 1.1s\n",
      "280:\tlearn: 1601.4744705\ttotal: 15.5s\tremaining: 1.05s\n",
      "281:\tlearn: 1600.5738778\ttotal: 15.6s\tremaining: 994ms\n",
      "282:\tlearn: 1599.8759677\ttotal: 15.6s\tremaining: 940ms\n",
      "283:\tlearn: 1599.4969389\ttotal: 15.7s\tremaining: 885ms\n",
      "284:\tlearn: 1598.2789421\ttotal: 15.8s\tremaining: 831ms\n",
      "285:\tlearn: 1598.0694377\ttotal: 15.9s\tremaining: 777ms\n",
      "286:\tlearn: 1597.5355155\ttotal: 16s\tremaining: 723ms\n",
      "287:\tlearn: 1596.9338758\ttotal: 16s\tremaining: 668ms\n",
      "288:\tlearn: 1596.1466046\ttotal: 16.2s\tremaining: 615ms\n",
      "289:\tlearn: 1595.6716511\ttotal: 16.2s\tremaining: 560ms\n",
      "290:\tlearn: 1595.5854447\ttotal: 16.3s\tremaining: 505ms\n",
      "291:\tlearn: 1594.9842437\ttotal: 16.4s\tremaining: 449ms\n",
      "292:\tlearn: 1594.2492986\ttotal: 16.5s\tremaining: 394ms\n",
      "293:\tlearn: 1593.7229835\ttotal: 16.5s\tremaining: 337ms\n",
      "294:\tlearn: 1593.1936738\ttotal: 16.6s\tremaining: 281ms\n",
      "295:\tlearn: 1593.1429867\ttotal: 16.7s\tremaining: 225ms\n",
      "296:\tlearn: 1592.8417678\ttotal: 16.7s\tremaining: 169ms\n",
      "297:\tlearn: 1592.8123383\ttotal: 16.8s\tremaining: 113ms\n",
      "298:\tlearn: 1592.4428855\ttotal: 16.9s\tremaining: 56.4ms\n",
      "299:\tlearn: 1592.3045743\ttotal: 17s\tremaining: 0us\n",
      "CPU times: user 2min 44s, sys: 2.63 s, total: 2min 46s\n",
      "Wall time: 17.6 s\n"
     ]
    },
    {
     "data": {
      "text/plain": [
       "<catboost.core.CatBoostRegressor at 0x7fce86c5e730>"
      ]
     },
     "execution_count": 116,
     "metadata": {},
     "output_type": "execute_result"
    }
   ],
   "source": [
    "%%time\n",
    "\n",
    "\n",
    "model.fit(features_train_scaled, target_train)"
   ]
  },
  {
   "cell_type": "code",
   "execution_count": 117,
   "metadata": {},
   "outputs": [
    {
     "name": "stdout",
     "output_type": "stream",
     "text": [
      "CPU times: user 586 ms, sys: 21 ms, total: 607 ms\n",
      "Wall time: 150 ms\n"
     ]
    }
   ],
   "source": [
    "%%time\n",
    "\n",
    "\n",
    "predicted_valid = model.predict(features_valid_scaled)"
   ]
  },
  {
   "cell_type": "code",
   "execution_count": 118,
   "metadata": {},
   "outputs": [],
   "source": [
    "rmse = mean_squared_error(target_valid, predicted_valid, squared=False)"
   ]
  },
  {
   "cell_type": "code",
   "execution_count": 119,
   "metadata": {},
   "outputs": [
    {
     "name": "stdout",
     "output_type": "stream",
     "text": [
      "RMSE: 1724.135 \n"
     ]
    }
   ],
   "source": [
    "print('RMSE: %.3f ' % (rmse))"
   ]
  },
  {
   "cell_type": "code",
   "execution_count": 120,
   "metadata": {},
   "outputs": [],
   "source": [
    "model = CatBoostRegressor(cat_features=cat_features, random_state=42, learning_rate=0.9, iterations=100)"
   ]
  },
  {
   "cell_type": "code",
   "execution_count": 121,
   "metadata": {
    "scrolled": true
   },
   "outputs": [
    {
     "name": "stdout",
     "output_type": "stream",
     "text": [
      "0:\tlearn: 2722.2831440\ttotal: 25.3ms\tremaining: 2.5s\n",
      "1:\tlearn: 2367.8910227\ttotal: 53.6ms\tremaining: 2.62s\n",
      "2:\tlearn: 2241.0250133\ttotal: 72.7ms\tremaining: 2.35s\n",
      "3:\tlearn: 2148.3506507\ttotal: 90.8ms\tremaining: 2.18s\n",
      "4:\tlearn: 2090.9763136\ttotal: 108ms\tremaining: 2.06s\n",
      "5:\tlearn: 2053.9986649\ttotal: 125ms\tremaining: 1.96s\n",
      "6:\tlearn: 2028.0397289\ttotal: 144ms\tremaining: 1.92s\n",
      "7:\tlearn: 1983.2955175\ttotal: 165ms\tremaining: 1.9s\n",
      "8:\tlearn: 1961.1755304\ttotal: 183ms\tremaining: 1.85s\n",
      "9:\tlearn: 1947.0258087\ttotal: 203ms\tremaining: 1.82s\n",
      "10:\tlearn: 1929.4830155\ttotal: 224ms\tremaining: 1.81s\n",
      "11:\tlearn: 1916.4696802\ttotal: 245ms\tremaining: 1.8s\n",
      "12:\tlearn: 1909.8001509\ttotal: 270ms\tremaining: 1.81s\n",
      "13:\tlearn: 1901.4037282\ttotal: 293ms\tremaining: 1.8s\n",
      "14:\tlearn: 1894.1522685\ttotal: 315ms\tremaining: 1.78s\n",
      "15:\tlearn: 1882.7239801\ttotal: 334ms\tremaining: 1.75s\n",
      "16:\tlearn: 1876.0817855\ttotal: 357ms\tremaining: 1.74s\n",
      "17:\tlearn: 1863.5714072\ttotal: 379ms\tremaining: 1.72s\n",
      "18:\tlearn: 1856.3379483\ttotal: 399ms\tremaining: 1.7s\n",
      "19:\tlearn: 1848.8959941\ttotal: 418ms\tremaining: 1.67s\n",
      "20:\tlearn: 1845.5242048\ttotal: 438ms\tremaining: 1.65s\n",
      "21:\tlearn: 1839.2306397\ttotal: 460ms\tremaining: 1.63s\n",
      "22:\tlearn: 1835.6839767\ttotal: 483ms\tremaining: 1.62s\n",
      "23:\tlearn: 1830.6329049\ttotal: 505ms\tremaining: 1.6s\n",
      "24:\tlearn: 1825.1778034\ttotal: 528ms\tremaining: 1.58s\n",
      "25:\tlearn: 1819.8844267\ttotal: 549ms\tremaining: 1.56s\n",
      "26:\tlearn: 1816.4888438\ttotal: 568ms\tremaining: 1.54s\n",
      "27:\tlearn: 1813.1051773\ttotal: 588ms\tremaining: 1.51s\n",
      "28:\tlearn: 1810.3562068\ttotal: 608ms\tremaining: 1.49s\n",
      "29:\tlearn: 1806.6501022\ttotal: 627ms\tremaining: 1.46s\n",
      "30:\tlearn: 1804.5372718\ttotal: 648ms\tremaining: 1.44s\n",
      "31:\tlearn: 1802.5611144\ttotal: 669ms\tremaining: 1.42s\n",
      "32:\tlearn: 1798.6851624\ttotal: 691ms\tremaining: 1.4s\n",
      "33:\tlearn: 1793.6900657\ttotal: 714ms\tremaining: 1.39s\n",
      "34:\tlearn: 1791.5619934\ttotal: 736ms\tremaining: 1.37s\n",
      "35:\tlearn: 1788.8387013\ttotal: 758ms\tremaining: 1.35s\n",
      "36:\tlearn: 1786.1730016\ttotal: 779ms\tremaining: 1.32s\n",
      "37:\tlearn: 1783.6975071\ttotal: 798ms\tremaining: 1.3s\n",
      "38:\tlearn: 1780.6144726\ttotal: 818ms\tremaining: 1.28s\n",
      "39:\tlearn: 1778.7488412\ttotal: 839ms\tremaining: 1.26s\n",
      "40:\tlearn: 1777.4586547\ttotal: 858ms\tremaining: 1.23s\n",
      "41:\tlearn: 1775.1406720\ttotal: 878ms\tremaining: 1.21s\n",
      "42:\tlearn: 1772.8364490\ttotal: 900ms\tremaining: 1.19s\n",
      "43:\tlearn: 1771.3143654\ttotal: 921ms\tremaining: 1.17s\n",
      "44:\tlearn: 1769.1996976\ttotal: 943ms\tremaining: 1.15s\n",
      "45:\tlearn: 1767.0816621\ttotal: 964ms\tremaining: 1.13s\n",
      "46:\tlearn: 1765.9283607\ttotal: 986ms\tremaining: 1.11s\n",
      "47:\tlearn: 1765.3008873\ttotal: 1.01s\tremaining: 1.09s\n",
      "48:\tlearn: 1763.1084663\ttotal: 1.02s\tremaining: 1.07s\n",
      "49:\tlearn: 1760.0081490\ttotal: 1.04s\tremaining: 1.04s\n",
      "50:\tlearn: 1758.5463767\ttotal: 1.06s\tremaining: 1.02s\n",
      "51:\tlearn: 1755.9718713\ttotal: 1.08s\tremaining: 1s\n",
      "52:\tlearn: 1754.3328584\ttotal: 1.11s\tremaining: 981ms\n",
      "53:\tlearn: 1752.2465297\ttotal: 1.13s\tremaining: 961ms\n",
      "54:\tlearn: 1749.0724921\ttotal: 1.15s\tremaining: 939ms\n",
      "55:\tlearn: 1745.6792162\ttotal: 1.17s\tremaining: 919ms\n",
      "56:\tlearn: 1743.3387934\ttotal: 1.19s\tremaining: 900ms\n",
      "57:\tlearn: 1741.3582970\ttotal: 1.21s\tremaining: 879ms\n",
      "58:\tlearn: 1738.4031913\ttotal: 1.24s\tremaining: 859ms\n",
      "59:\tlearn: 1736.6960450\ttotal: 1.25s\tremaining: 837ms\n",
      "60:\tlearn: 1734.2889646\ttotal: 1.27s\tremaining: 814ms\n",
      "61:\tlearn: 1732.2494814\ttotal: 1.29s\tremaining: 794ms\n",
      "62:\tlearn: 1731.0947196\ttotal: 1.32s\tremaining: 773ms\n",
      "63:\tlearn: 1728.4083174\ttotal: 1.34s\tremaining: 754ms\n",
      "64:\tlearn: 1726.5147408\ttotal: 1.36s\tremaining: 732ms\n",
      "65:\tlearn: 1725.6361749\ttotal: 1.38s\tremaining: 712ms\n",
      "66:\tlearn: 1724.2843980\ttotal: 1.4s\tremaining: 691ms\n",
      "67:\tlearn: 1722.8810178\ttotal: 1.42s\tremaining: 670ms\n",
      "68:\tlearn: 1722.5576729\ttotal: 1.44s\tremaining: 648ms\n",
      "69:\tlearn: 1721.1575895\ttotal: 1.46s\tremaining: 627ms\n",
      "70:\tlearn: 1719.8408553\ttotal: 1.49s\tremaining: 607ms\n",
      "71:\tlearn: 1719.2600415\ttotal: 1.5s\tremaining: 585ms\n",
      "72:\tlearn: 1717.9241119\ttotal: 1.53s\tremaining: 565ms\n",
      "73:\tlearn: 1716.3488489\ttotal: 1.55s\tremaining: 544ms\n",
      "74:\tlearn: 1715.4837763\ttotal: 1.57s\tremaining: 523ms\n",
      "75:\tlearn: 1714.1689645\ttotal: 1.59s\tremaining: 502ms\n",
      "76:\tlearn: 1712.9813595\ttotal: 1.61s\tremaining: 480ms\n",
      "77:\tlearn: 1711.3063690\ttotal: 1.62s\tremaining: 458ms\n",
      "78:\tlearn: 1710.6715736\ttotal: 1.64s\tremaining: 436ms\n",
      "79:\tlearn: 1709.0642210\ttotal: 1.66s\tremaining: 414ms\n",
      "80:\tlearn: 1706.6104614\ttotal: 1.68s\tremaining: 393ms\n",
      "81:\tlearn: 1705.6206873\ttotal: 1.69s\tremaining: 371ms\n",
      "82:\tlearn: 1705.5263884\ttotal: 1.71s\tremaining: 350ms\n",
      "83:\tlearn: 1704.2814944\ttotal: 1.73s\tremaining: 330ms\n",
      "84:\tlearn: 1702.8998734\ttotal: 1.75s\tremaining: 310ms\n",
      "85:\tlearn: 1700.7358607\ttotal: 1.77s\tremaining: 289ms\n",
      "86:\tlearn: 1699.4937189\ttotal: 1.8s\tremaining: 268ms\n",
      "87:\tlearn: 1697.9757310\ttotal: 1.82s\tremaining: 248ms\n",
      "88:\tlearn: 1696.9312622\ttotal: 1.84s\tremaining: 228ms\n",
      "89:\tlearn: 1694.4888102\ttotal: 1.86s\tremaining: 207ms\n",
      "90:\tlearn: 1693.2278716\ttotal: 1.89s\tremaining: 187ms\n",
      "91:\tlearn: 1692.1059856\ttotal: 1.91s\tremaining: 166ms\n",
      "92:\tlearn: 1691.2446742\ttotal: 1.93s\tremaining: 145ms\n",
      "93:\tlearn: 1689.5593107\ttotal: 1.95s\tremaining: 125ms\n",
      "94:\tlearn: 1688.1682759\ttotal: 1.98s\tremaining: 104ms\n",
      "95:\tlearn: 1687.3030449\ttotal: 2s\tremaining: 83.3ms\n",
      "96:\tlearn: 1685.9537525\ttotal: 2.02s\tremaining: 62.5ms\n",
      "97:\tlearn: 1685.0459100\ttotal: 2.04s\tremaining: 41.7ms\n",
      "98:\tlearn: 1683.5829226\ttotal: 2.06s\tremaining: 20.8ms\n",
      "99:\tlearn: 1682.8592756\ttotal: 2.08s\tremaining: 0us\n",
      "CPU times: user 20.2 s, sys: 464 ms, total: 20.7 s\n",
      "Wall time: 2.4 s\n"
     ]
    },
    {
     "data": {
      "text/plain": [
       "<catboost.core.CatBoostRegressor at 0x7fce4a970ac0>"
      ]
     },
     "execution_count": 121,
     "metadata": {},
     "output_type": "execute_result"
    }
   ],
   "source": [
    "%%time\n",
    "\n",
    "\n",
    "model.fit(features_train_scaled, target_train)"
   ]
  },
  {
   "cell_type": "code",
   "execution_count": 122,
   "metadata": {
    "scrolled": true
   },
   "outputs": [
    {
     "name": "stdout",
     "output_type": "stream",
     "text": [
      "CPU times: user 140 ms, sys: 5.58 ms, total: 145 ms\n",
      "Wall time: 87.9 ms\n"
     ]
    }
   ],
   "source": [
    "%%time\n",
    "\n",
    "\n",
    "predicted_valid = model.predict(features_valid_scaled)"
   ]
  },
  {
   "cell_type": "code",
   "execution_count": 124,
   "metadata": {},
   "outputs": [],
   "source": [
    "rmse = mean_squared_error(target_valid, predicted_valid, squared=False)"
   ]
  },
  {
   "cell_type": "code",
   "execution_count": 125,
   "metadata": {},
   "outputs": [
    {
     "name": "stdout",
     "output_type": "stream",
     "text": [
      "RMSE: 1780.286 \n"
     ]
    }
   ],
   "source": [
    "print('RMSE: %.3f ' % (rmse))"
   ]
  },
  {
   "cell_type": "markdown",
   "metadata": {},
   "source": [
    "1. Время обучения и предсказания модели меньше 1 минуты\n",
    "1. RMSE 1695.06"
   ]
  },
  {
   "cell_type": "markdown",
   "metadata": {},
   "source": [
    "**Модель LGBMRegressor**"
   ]
  },
  {
   "cell_type": "code",
   "execution_count": 126,
   "metadata": {
    "scrolled": true
   },
   "outputs": [
    {
     "data": {
      "text/html": [
       "<style>#sk-container-id-6 {color: black;background-color: white;}#sk-container-id-6 pre{padding: 0;}#sk-container-id-6 div.sk-toggleable {background-color: white;}#sk-container-id-6 label.sk-toggleable__label {cursor: pointer;display: block;width: 100%;margin-bottom: 0;padding: 0.3em;box-sizing: border-box;text-align: center;}#sk-container-id-6 label.sk-toggleable__label-arrow:before {content: \"▸\";float: left;margin-right: 0.25em;color: #696969;}#sk-container-id-6 label.sk-toggleable__label-arrow:hover:before {color: black;}#sk-container-id-6 div.sk-estimator:hover label.sk-toggleable__label-arrow:before {color: black;}#sk-container-id-6 div.sk-toggleable__content {max-height: 0;max-width: 0;overflow: hidden;text-align: left;background-color: #f0f8ff;}#sk-container-id-6 div.sk-toggleable__content pre {margin: 0.2em;color: black;border-radius: 0.25em;background-color: #f0f8ff;}#sk-container-id-6 input.sk-toggleable__control:checked~div.sk-toggleable__content {max-height: 200px;max-width: 100%;overflow: auto;}#sk-container-id-6 input.sk-toggleable__control:checked~label.sk-toggleable__label-arrow:before {content: \"▾\";}#sk-container-id-6 div.sk-estimator input.sk-toggleable__control:checked~label.sk-toggleable__label {background-color: #d4ebff;}#sk-container-id-6 div.sk-label input.sk-toggleable__control:checked~label.sk-toggleable__label {background-color: #d4ebff;}#sk-container-id-6 input.sk-hidden--visually {border: 0;clip: rect(1px 1px 1px 1px);clip: rect(1px, 1px, 1px, 1px);height: 1px;margin: -1px;overflow: hidden;padding: 0;position: absolute;width: 1px;}#sk-container-id-6 div.sk-estimator {font-family: monospace;background-color: #f0f8ff;border: 1px dotted black;border-radius: 0.25em;box-sizing: border-box;margin-bottom: 0.5em;}#sk-container-id-6 div.sk-estimator:hover {background-color: #d4ebff;}#sk-container-id-6 div.sk-parallel-item::after {content: \"\";width: 100%;border-bottom: 1px solid gray;flex-grow: 1;}#sk-container-id-6 div.sk-label:hover label.sk-toggleable__label {background-color: #d4ebff;}#sk-container-id-6 div.sk-serial::before {content: \"\";position: absolute;border-left: 1px solid gray;box-sizing: border-box;top: 0;bottom: 0;left: 50%;z-index: 0;}#sk-container-id-6 div.sk-serial {display: flex;flex-direction: column;align-items: center;background-color: white;padding-right: 0.2em;padding-left: 0.2em;position: relative;}#sk-container-id-6 div.sk-item {position: relative;z-index: 1;}#sk-container-id-6 div.sk-parallel {display: flex;align-items: stretch;justify-content: center;background-color: white;position: relative;}#sk-container-id-6 div.sk-item::before, #sk-container-id-6 div.sk-parallel-item::before {content: \"\";position: absolute;border-left: 1px solid gray;box-sizing: border-box;top: 0;bottom: 0;left: 50%;z-index: -1;}#sk-container-id-6 div.sk-parallel-item {display: flex;flex-direction: column;z-index: 1;position: relative;background-color: white;}#sk-container-id-6 div.sk-parallel-item:first-child::after {align-self: flex-end;width: 50%;}#sk-container-id-6 div.sk-parallel-item:last-child::after {align-self: flex-start;width: 50%;}#sk-container-id-6 div.sk-parallel-item:only-child::after {width: 0;}#sk-container-id-6 div.sk-dashed-wrapped {border: 1px dashed gray;margin: 0 0.4em 0.5em 0.4em;box-sizing: border-box;padding-bottom: 0.4em;background-color: white;}#sk-container-id-6 div.sk-label label {font-family: monospace;font-weight: bold;display: inline-block;line-height: 1.2em;}#sk-container-id-6 div.sk-label-container {text-align: center;}#sk-container-id-6 div.sk-container {/* jupyter's `normalize.less` sets `[hidden] { display: none; }` but bootstrap.min.css set `[hidden] { display: none !important; }` so we also need the `!important` here to be able to override the default hidden behavior on the sphinx rendered scikit-learn.org. See: https://github.com/scikit-learn/scikit-learn/issues/21755 */display: inline-block !important;position: relative;}#sk-container-id-6 div.sk-text-repr-fallback {display: none;}</style><div id=\"sk-container-id-6\" class=\"sk-top-container\"><div class=\"sk-text-repr-fallback\"><pre>OrdinalEncoder()</pre><b>In a Jupyter environment, please rerun this cell to show the HTML representation or trust the notebook. <br />On GitHub, the HTML representation is unable to render, please try loading this page with nbviewer.org.</b></div><div class=\"sk-container\" hidden><div class=\"sk-item\"><div class=\"sk-estimator sk-toggleable\"><input class=\"sk-toggleable__control sk-hidden--visually\" id=\"sk-estimator-id-6\" type=\"checkbox\" checked><label for=\"sk-estimator-id-6\" class=\"sk-toggleable__label sk-toggleable__label-arrow\">OrdinalEncoder</label><div class=\"sk-toggleable__content\"><pre>OrdinalEncoder()</pre></div></div></div></div></div>"
      ],
      "text/plain": [
       "OrdinalEncoder()"
      ]
     },
     "execution_count": 126,
     "metadata": {},
     "output_type": "execute_result"
    }
   ],
   "source": [
    "encoder = OrdinalEncoder()\n",
    "encoder.fit(features_train[cat_features])"
   ]
  },
  {
   "cell_type": "markdown",
   "metadata": {},
   "source": [
    "1. Для обучения LGBMRegressor преобразуем категориальные признаки в целочисленные с помощью OrdinalEncoder"
   ]
  },
  {
   "cell_type": "code",
   "execution_count": 128,
   "metadata": {},
   "outputs": [],
   "source": [
    "model = LGBMRegressor(random_state=42, learning_rate=0.5, num_iterations=300)"
   ]
  },
  {
   "cell_type": "code",
   "execution_count": 129,
   "metadata": {},
   "outputs": [
    {
     "name": "stderr",
     "output_type": "stream",
     "text": [
      "/Users/admin/opt/anaconda3/lib/python3.9/site-packages/lightgbm/engine.py:177: UserWarning: Found `num_iterations` in params. Will use it instead of argument\n",
      "  _log_warning(f\"Found `{alias}` in params. Will use it instead of argument\")\n"
     ]
    },
    {
     "name": "stdout",
     "output_type": "stream",
     "text": [
      "CPU times: user 7.96 s, sys: 2.13 s, total: 10.1 s\n",
      "Wall time: 1.96 s\n"
     ]
    },
    {
     "data": {
      "text/html": [
       "<style>#sk-container-id-7 {color: black;background-color: white;}#sk-container-id-7 pre{padding: 0;}#sk-container-id-7 div.sk-toggleable {background-color: white;}#sk-container-id-7 label.sk-toggleable__label {cursor: pointer;display: block;width: 100%;margin-bottom: 0;padding: 0.3em;box-sizing: border-box;text-align: center;}#sk-container-id-7 label.sk-toggleable__label-arrow:before {content: \"▸\";float: left;margin-right: 0.25em;color: #696969;}#sk-container-id-7 label.sk-toggleable__label-arrow:hover:before {color: black;}#sk-container-id-7 div.sk-estimator:hover label.sk-toggleable__label-arrow:before {color: black;}#sk-container-id-7 div.sk-toggleable__content {max-height: 0;max-width: 0;overflow: hidden;text-align: left;background-color: #f0f8ff;}#sk-container-id-7 div.sk-toggleable__content pre {margin: 0.2em;color: black;border-radius: 0.25em;background-color: #f0f8ff;}#sk-container-id-7 input.sk-toggleable__control:checked~div.sk-toggleable__content {max-height: 200px;max-width: 100%;overflow: auto;}#sk-container-id-7 input.sk-toggleable__control:checked~label.sk-toggleable__label-arrow:before {content: \"▾\";}#sk-container-id-7 div.sk-estimator input.sk-toggleable__control:checked~label.sk-toggleable__label {background-color: #d4ebff;}#sk-container-id-7 div.sk-label input.sk-toggleable__control:checked~label.sk-toggleable__label {background-color: #d4ebff;}#sk-container-id-7 input.sk-hidden--visually {border: 0;clip: rect(1px 1px 1px 1px);clip: rect(1px, 1px, 1px, 1px);height: 1px;margin: -1px;overflow: hidden;padding: 0;position: absolute;width: 1px;}#sk-container-id-7 div.sk-estimator {font-family: monospace;background-color: #f0f8ff;border: 1px dotted black;border-radius: 0.25em;box-sizing: border-box;margin-bottom: 0.5em;}#sk-container-id-7 div.sk-estimator:hover {background-color: #d4ebff;}#sk-container-id-7 div.sk-parallel-item::after {content: \"\";width: 100%;border-bottom: 1px solid gray;flex-grow: 1;}#sk-container-id-7 div.sk-label:hover label.sk-toggleable__label {background-color: #d4ebff;}#sk-container-id-7 div.sk-serial::before {content: \"\";position: absolute;border-left: 1px solid gray;box-sizing: border-box;top: 0;bottom: 0;left: 50%;z-index: 0;}#sk-container-id-7 div.sk-serial {display: flex;flex-direction: column;align-items: center;background-color: white;padding-right: 0.2em;padding-left: 0.2em;position: relative;}#sk-container-id-7 div.sk-item {position: relative;z-index: 1;}#sk-container-id-7 div.sk-parallel {display: flex;align-items: stretch;justify-content: center;background-color: white;position: relative;}#sk-container-id-7 div.sk-item::before, #sk-container-id-7 div.sk-parallel-item::before {content: \"\";position: absolute;border-left: 1px solid gray;box-sizing: border-box;top: 0;bottom: 0;left: 50%;z-index: -1;}#sk-container-id-7 div.sk-parallel-item {display: flex;flex-direction: column;z-index: 1;position: relative;background-color: white;}#sk-container-id-7 div.sk-parallel-item:first-child::after {align-self: flex-end;width: 50%;}#sk-container-id-7 div.sk-parallel-item:last-child::after {align-self: flex-start;width: 50%;}#sk-container-id-7 div.sk-parallel-item:only-child::after {width: 0;}#sk-container-id-7 div.sk-dashed-wrapped {border: 1px dashed gray;margin: 0 0.4em 0.5em 0.4em;box-sizing: border-box;padding-bottom: 0.4em;background-color: white;}#sk-container-id-7 div.sk-label label {font-family: monospace;font-weight: bold;display: inline-block;line-height: 1.2em;}#sk-container-id-7 div.sk-label-container {text-align: center;}#sk-container-id-7 div.sk-container {/* jupyter's `normalize.less` sets `[hidden] { display: none; }` but bootstrap.min.css set `[hidden] { display: none !important; }` so we also need the `!important` here to be able to override the default hidden behavior on the sphinx rendered scikit-learn.org. See: https://github.com/scikit-learn/scikit-learn/issues/21755 */display: inline-block !important;position: relative;}#sk-container-id-7 div.sk-text-repr-fallback {display: none;}</style><div id=\"sk-container-id-7\" class=\"sk-top-container\"><div class=\"sk-text-repr-fallback\"><pre>LGBMRegressor(learning_rate=0.5, num_iterations=300, random_state=42)</pre><b>In a Jupyter environment, please rerun this cell to show the HTML representation or trust the notebook. <br />On GitHub, the HTML representation is unable to render, please try loading this page with nbviewer.org.</b></div><div class=\"sk-container\" hidden><div class=\"sk-item\"><div class=\"sk-estimator sk-toggleable\"><input class=\"sk-toggleable__control sk-hidden--visually\" id=\"sk-estimator-id-7\" type=\"checkbox\" checked><label for=\"sk-estimator-id-7\" class=\"sk-toggleable__label sk-toggleable__label-arrow\">LGBMRegressor</label><div class=\"sk-toggleable__content\"><pre>LGBMRegressor(learning_rate=0.5, num_iterations=300, random_state=42)</pre></div></div></div></div></div>"
      ],
      "text/plain": [
       "LGBMRegressor(learning_rate=0.5, num_iterations=300, random_state=42)"
      ]
     },
     "execution_count": 129,
     "metadata": {},
     "output_type": "execute_result"
    }
   ],
   "source": [
    "%%time\n",
    "\n",
    "\n",
    "model.fit(features_train_transform, target_train)"
   ]
  },
  {
   "cell_type": "code",
   "execution_count": 130,
   "metadata": {},
   "outputs": [
    {
     "name": "stdout",
     "output_type": "stream",
     "text": [
      "CPU times: user 1.78 s, sys: 191 ms, total: 1.98 s\n",
      "Wall time: 396 ms\n"
     ]
    }
   ],
   "source": [
    "%%time\n",
    "\n",
    "\n",
    "predicted_valid = model.predict(features_valid_transform)"
   ]
  },
  {
   "cell_type": "code",
   "execution_count": 131,
   "metadata": {},
   "outputs": [],
   "source": [
    "rmse = mean_squared_error(target_valid, predicted_valid, squared=False)"
   ]
  },
  {
   "cell_type": "code",
   "execution_count": 132,
   "metadata": {},
   "outputs": [
    {
     "name": "stdout",
     "output_type": "stream",
     "text": [
      "RMSE: 1704.652 \n"
     ]
    }
   ],
   "source": [
    "print('RMSE: %.3f ' % (rmse))"
   ]
  },
  {
   "cell_type": "code",
   "execution_count": null,
   "metadata": {},
   "outputs": [],
   "source": []
  },
  {
   "cell_type": "code",
   "execution_count": 133,
   "metadata": {},
   "outputs": [],
   "source": [
    "model = LGBMRegressor(random_state=42, learning_rate=0.9, num_iterations=500)"
   ]
  },
  {
   "cell_type": "code",
   "execution_count": 134,
   "metadata": {},
   "outputs": [
    {
     "name": "stderr",
     "output_type": "stream",
     "text": [
      "/Users/admin/opt/anaconda3/lib/python3.9/site-packages/lightgbm/engine.py:177: UserWarning: Found `num_iterations` in params. Will use it instead of argument\n",
      "  _log_warning(f\"Found `{alias}` in params. Will use it instead of argument\")\n"
     ]
    },
    {
     "name": "stdout",
     "output_type": "stream",
     "text": [
      "CPU times: user 10.3 s, sys: 3.57 s, total: 13.9 s\n",
      "Wall time: 2.09 s\n"
     ]
    },
    {
     "data": {
      "text/html": [
       "<style>#sk-container-id-8 {color: black;background-color: white;}#sk-container-id-8 pre{padding: 0;}#sk-container-id-8 div.sk-toggleable {background-color: white;}#sk-container-id-8 label.sk-toggleable__label {cursor: pointer;display: block;width: 100%;margin-bottom: 0;padding: 0.3em;box-sizing: border-box;text-align: center;}#sk-container-id-8 label.sk-toggleable__label-arrow:before {content: \"▸\";float: left;margin-right: 0.25em;color: #696969;}#sk-container-id-8 label.sk-toggleable__label-arrow:hover:before {color: black;}#sk-container-id-8 div.sk-estimator:hover label.sk-toggleable__label-arrow:before {color: black;}#sk-container-id-8 div.sk-toggleable__content {max-height: 0;max-width: 0;overflow: hidden;text-align: left;background-color: #f0f8ff;}#sk-container-id-8 div.sk-toggleable__content pre {margin: 0.2em;color: black;border-radius: 0.25em;background-color: #f0f8ff;}#sk-container-id-8 input.sk-toggleable__control:checked~div.sk-toggleable__content {max-height: 200px;max-width: 100%;overflow: auto;}#sk-container-id-8 input.sk-toggleable__control:checked~label.sk-toggleable__label-arrow:before {content: \"▾\";}#sk-container-id-8 div.sk-estimator input.sk-toggleable__control:checked~label.sk-toggleable__label {background-color: #d4ebff;}#sk-container-id-8 div.sk-label input.sk-toggleable__control:checked~label.sk-toggleable__label {background-color: #d4ebff;}#sk-container-id-8 input.sk-hidden--visually {border: 0;clip: rect(1px 1px 1px 1px);clip: rect(1px, 1px, 1px, 1px);height: 1px;margin: -1px;overflow: hidden;padding: 0;position: absolute;width: 1px;}#sk-container-id-8 div.sk-estimator {font-family: monospace;background-color: #f0f8ff;border: 1px dotted black;border-radius: 0.25em;box-sizing: border-box;margin-bottom: 0.5em;}#sk-container-id-8 div.sk-estimator:hover {background-color: #d4ebff;}#sk-container-id-8 div.sk-parallel-item::after {content: \"\";width: 100%;border-bottom: 1px solid gray;flex-grow: 1;}#sk-container-id-8 div.sk-label:hover label.sk-toggleable__label {background-color: #d4ebff;}#sk-container-id-8 div.sk-serial::before {content: \"\";position: absolute;border-left: 1px solid gray;box-sizing: border-box;top: 0;bottom: 0;left: 50%;z-index: 0;}#sk-container-id-8 div.sk-serial {display: flex;flex-direction: column;align-items: center;background-color: white;padding-right: 0.2em;padding-left: 0.2em;position: relative;}#sk-container-id-8 div.sk-item {position: relative;z-index: 1;}#sk-container-id-8 div.sk-parallel {display: flex;align-items: stretch;justify-content: center;background-color: white;position: relative;}#sk-container-id-8 div.sk-item::before, #sk-container-id-8 div.sk-parallel-item::before {content: \"\";position: absolute;border-left: 1px solid gray;box-sizing: border-box;top: 0;bottom: 0;left: 50%;z-index: -1;}#sk-container-id-8 div.sk-parallel-item {display: flex;flex-direction: column;z-index: 1;position: relative;background-color: white;}#sk-container-id-8 div.sk-parallel-item:first-child::after {align-self: flex-end;width: 50%;}#sk-container-id-8 div.sk-parallel-item:last-child::after {align-self: flex-start;width: 50%;}#sk-container-id-8 div.sk-parallel-item:only-child::after {width: 0;}#sk-container-id-8 div.sk-dashed-wrapped {border: 1px dashed gray;margin: 0 0.4em 0.5em 0.4em;box-sizing: border-box;padding-bottom: 0.4em;background-color: white;}#sk-container-id-8 div.sk-label label {font-family: monospace;font-weight: bold;display: inline-block;line-height: 1.2em;}#sk-container-id-8 div.sk-label-container {text-align: center;}#sk-container-id-8 div.sk-container {/* jupyter's `normalize.less` sets `[hidden] { display: none; }` but bootstrap.min.css set `[hidden] { display: none !important; }` so we also need the `!important` here to be able to override the default hidden behavior on the sphinx rendered scikit-learn.org. See: https://github.com/scikit-learn/scikit-learn/issues/21755 */display: inline-block !important;position: relative;}#sk-container-id-8 div.sk-text-repr-fallback {display: none;}</style><div id=\"sk-container-id-8\" class=\"sk-top-container\"><div class=\"sk-text-repr-fallback\"><pre>LGBMRegressor(learning_rate=0.9, num_iterations=500, random_state=42)</pre><b>In a Jupyter environment, please rerun this cell to show the HTML representation or trust the notebook. <br />On GitHub, the HTML representation is unable to render, please try loading this page with nbviewer.org.</b></div><div class=\"sk-container\" hidden><div class=\"sk-item\"><div class=\"sk-estimator sk-toggleable\"><input class=\"sk-toggleable__control sk-hidden--visually\" id=\"sk-estimator-id-8\" type=\"checkbox\" checked><label for=\"sk-estimator-id-8\" class=\"sk-toggleable__label sk-toggleable__label-arrow\">LGBMRegressor</label><div class=\"sk-toggleable__content\"><pre>LGBMRegressor(learning_rate=0.9, num_iterations=500, random_state=42)</pre></div></div></div></div></div>"
      ],
      "text/plain": [
       "LGBMRegressor(learning_rate=0.9, num_iterations=500, random_state=42)"
      ]
     },
     "execution_count": 134,
     "metadata": {},
     "output_type": "execute_result"
    }
   ],
   "source": [
    "%%time\n",
    "\n",
    "\n",
    "model.fit(features_train_transform, target_train)"
   ]
  },
  {
   "cell_type": "code",
   "execution_count": 135,
   "metadata": {},
   "outputs": [
    {
     "name": "stdout",
     "output_type": "stream",
     "text": [
      "CPU times: user 3.19 s, sys: 1.32 s, total: 4.51 s\n",
      "Wall time: 476 ms\n"
     ]
    }
   ],
   "source": [
    "%%time\n",
    "\n",
    "\n",
    "predicted_valid = model.predict(features_valid_transform)"
   ]
  },
  {
   "cell_type": "code",
   "execution_count": 136,
   "metadata": {},
   "outputs": [],
   "source": [
    "rmse = mean_squared_error(target_valid, predicted_valid, squared=False)"
   ]
  },
  {
   "cell_type": "code",
   "execution_count": 137,
   "metadata": {},
   "outputs": [
    {
     "name": "stdout",
     "output_type": "stream",
     "text": [
      "RMSE: 1795.007 \n"
     ]
    }
   ],
   "source": [
    "print('RMSE: %.3f ' % (rmse))"
   ]
  },
  {
   "cell_type": "markdown",
   "metadata": {},
   "source": [
    "1. Время обучения и предсказания модели меньше 1 минуты\n",
    "1. RMSE 1704.06"
   ]
  },
  {
   "cell_type": "markdown",
   "metadata": {},
   "source": [
    "## Анализ моделей"
   ]
  },
  {
   "cell_type": "markdown",
   "metadata": {},
   "source": [
    "1. KNeighborsRegressor работала медленно из-за того что модель запоминает все признаки на train и потому что мы сильно увеличили признаковое пространство преобразованием категориальных признаков OHE, но модель на кросс-валидации выдает результат RMSE 2062.359 что удовлетворяет требованию поставленной задачи\n",
    "1. Результаты времени и значения ошибки у моделей CatBoostRegressor и LGBMRegressor примерно равные RMSE 1700 \n",
    "1. Поскольку полученный результат выше требуемого по заданию, для сокращения времени и ресурсов модем понизить увеличить learning rate и понизить число итераций\n",
    "1. Для обучения и предсказания выберем модель CatBoostRegressor"
   ]
  },
  {
   "cell_type": "code",
   "execution_count": 144,
   "metadata": {},
   "outputs": [],
   "source": [
    "features_train_scaled_full = pd.concat([features_train_scaled, features_valid_scaled])\n",
    "target_train_full = pd.concat([target_train, target_valid])"
   ]
  },
  {
   "cell_type": "code",
   "execution_count": 157,
   "metadata": {},
   "outputs": [],
   "source": [
    "model = CatBoostRegressor(cat_features=cat_features, random_state=42, learning_rate=1, iterations=10)"
   ]
  },
  {
   "cell_type": "code",
   "execution_count": 158,
   "metadata": {
    "scrolled": true
   },
   "outputs": [
    {
     "name": "stdout",
     "output_type": "stream",
     "text": [
      "0:\tlearn: 2706.7159682\ttotal: 31.5ms\tremaining: 284ms\n",
      "1:\tlearn: 2410.7549821\ttotal: 64.4ms\tremaining: 258ms\n",
      "2:\tlearn: 2286.8581678\ttotal: 86.9ms\tremaining: 203ms\n",
      "3:\tlearn: 2195.6274068\ttotal: 109ms\tremaining: 164ms\n",
      "4:\tlearn: 2143.0348180\ttotal: 131ms\tremaining: 131ms\n",
      "5:\tlearn: 2095.5695529\ttotal: 158ms\tremaining: 105ms\n",
      "6:\tlearn: 2051.0727667\ttotal: 181ms\tremaining: 77.6ms\n",
      "7:\tlearn: 2015.6213674\ttotal: 203ms\tremaining: 50.8ms\n",
      "8:\tlearn: 1992.1068438\ttotal: 226ms\tremaining: 25.1ms\n",
      "9:\tlearn: 1973.6941320\ttotal: 251ms\tremaining: 0us\n",
      "CPU times: user 3.09 s, sys: 124 ms, total: 3.22 s\n",
      "Wall time: 596 ms\n"
     ]
    },
    {
     "data": {
      "text/plain": [
       "<catboost.core.CatBoostRegressor at 0x7fcd37eee280>"
      ]
     },
     "execution_count": 158,
     "metadata": {},
     "output_type": "execute_result"
    }
   ],
   "source": [
    "%%time\n",
    "\n",
    "model.fit(features_train_scaled_full, target_train_full)"
   ]
  },
  {
   "cell_type": "code",
   "execution_count": 159,
   "metadata": {},
   "outputs": [
    {
     "name": "stdout",
     "output_type": "stream",
     "text": [
      "CPU times: user 126 ms, sys: 7.15 ms, total: 133 ms\n",
      "Wall time: 82.7 ms\n"
     ]
    }
   ],
   "source": [
    "%%time\n",
    "\n",
    "predicted_test = model.predict(features_test_scaled)"
   ]
  },
  {
   "cell_type": "code",
   "execution_count": 160,
   "metadata": {},
   "outputs": [
    {
     "name": "stdout",
     "output_type": "stream",
     "text": [
      "RMSE: 1972.71\n"
     ]
    }
   ],
   "source": [
    "rmse = mean_squared_error(target_test, predicted_test, squared=False)\n",
    "print('RMSE: %.2f' % (rmse))"
   ]
  },
  {
   "cell_type": "markdown",
   "metadata": {},
   "source": [
    "1. Полученный результат на тестовой выборке удовлетворяет требованиям задачи"
   ]
  },
  {
   "cell_type": "markdown",
   "metadata": {},
   "source": [
    "**Вывод**\n",
    "\n",
    "1. Задача:\n",
    "\n",
    "    1. В данной работе была построена модель и получены предсказания стоимости авто в объявлении на основании и данные о технических характеристиках, комплектации и ценах других автомобилей.\n",
    "    1. Основными критериями для модели были: качество предсказания, время обучения модели, время предсказания модели\n",
    "\n",
    "\n",
    "2. Данные:\n",
    "    1. Для выполнения задачи были предоставленны данные объявлений о продажи авто\n",
    "    1. В данных содержат 354369 объектов с 15 признаками\n",
    "    1. Некоторые признаки (дата размещения, дата изьятия объявления, месяц размещения и др) для предсказания стоимости не понадобились и были исключены, но использовались на этапе предобработки, так с помощью даты размещения объявления была определена верхняя граница признака дата регистрации авто в которой содержались ошибочные значения\n",
    "    1. Так же ошибочные значения (выбросы) содержались во всех числовых признаках, кроме километража пробега авто,\n",
    "    1. Были проанализированы зависимости между признками и реальные данные и на их основе неверные значения были заменены для сохранения данных\n",
    "    1. Аномальные значения были обнаружены и в целевом признак стоимости авто - были объявления с 0 или ценой до 50 евро в т.ч. на авто с пробегом до 5000 км без ремонта. Был сделан вывод что таким образом продавцы привлекают внимание и трафик на свои объявления и цена таких объявлений не соответствует реальной. Эти объявления были удалены\n",
    "    1. После предобработки данных был создан итоговый датасет из которого были удалены повторы объявлений\n",
    "    1. В признаки был добавлен признка означающий что машина зарегестрирована в текущем году\n",
    "    \n",
    "    \n",
    "3. Обучение моделей и предсказания:\n",
    "    1. Основными критериями были время обучения, время предсказания, точность результата\n",
    "    1. Для выполенения задания было выбрано три модели: KNeighborsRegressor, CatBoostRegressor и LGBMRegressor\n",
    "    1. Численные признаки были отмаштабированы с помощью StandartScaler, категориальные признаки преобразованы в численные или переданны модели с указанием на категорий\n",
    "    1. Самой быстрое обучение показада модель KNeighborsRegressor поскольку она не обучается, а запоминает обучающую выброку, но время предсказания оказалось большое, больше 2 минут, RMSE = 2000 предсказания  удовлетворяющая условию.\n",
    "    1. Модели CatBoostRegressor и LGBMRegressor показали почти одинаковые результаты RMSE, времени обучения и предсказания. RMSE предсказаний = 1700, время меньше минуты.\n",
    "    1. Итоговой моделью для проверки на тестовой выборке была выбрана модель CatBoostRegressor. Поскольку полученный RMSE был выше требуемого, для сокращения времени обучения и предсказания гиперпараметры learning rate и число итераций были изменены.\n",
    "    1. Для обучения конечной модели тестовая и валидационная выбори были объеденины, для увеличения объема обучающих данных\n",
    "    1. Результатом работы удалось достигунить значения меньше требуемого RMSE при этом с сократив время обучения и предсказания\n"
   ]
  }
 ],
 "metadata": {
  "ExecuteTimeLog": [
   {
    "duration": 4,
    "start_time": "2023-04-26T12:59:46.500Z"
   },
   {
    "duration": 5,
    "start_time": "2023-04-26T12:59:46.505Z"
   },
   {
    "duration": 7910,
    "start_time": "2023-04-26T12:59:46.512Z"
   },
   {
    "duration": 1847,
    "start_time": "2023-04-26T12:59:54.424Z"
   },
   {
    "duration": 1512,
    "start_time": "2023-04-26T12:59:56.273Z"
   },
   {
    "duration": 149,
    "start_time": "2023-04-26T12:59:57.792Z"
   },
   {
    "duration": 172,
    "start_time": "2023-04-26T12:59:57.944Z"
   },
   {
    "duration": 18,
    "start_time": "2023-04-26T12:59:58.118Z"
   },
   {
    "duration": 63,
    "start_time": "2023-04-26T12:59:58.137Z"
   },
   {
    "duration": 33,
    "start_time": "2023-04-26T12:59:58.201Z"
   },
   {
    "duration": 365,
    "start_time": "2023-04-26T12:59:58.237Z"
   },
   {
    "duration": 1108,
    "start_time": "2023-04-26T12:59:58.604Z"
   },
   {
    "duration": 2200,
    "start_time": "2023-04-26T12:59:59.714Z"
   },
   {
    "duration": 59,
    "start_time": "2023-04-26T13:00:01.916Z"
   },
   {
    "duration": 59,
    "start_time": "2023-04-26T13:00:01.984Z"
   },
   {
    "duration": 321,
    "start_time": "2023-04-26T13:00:02.044Z"
   },
   {
    "duration": 270,
    "start_time": "2023-04-26T13:00:02.372Z"
   },
   {
    "duration": 255,
    "start_time": "2023-04-26T13:00:02.644Z"
   },
   {
    "duration": 40,
    "start_time": "2023-04-26T13:00:02.900Z"
   },
   {
    "duration": 322,
    "start_time": "2023-04-26T13:00:02.941Z"
   },
   {
    "duration": 61,
    "start_time": "2023-04-26T13:00:03.265Z"
   },
   {
    "duration": 365,
    "start_time": "2023-04-26T13:00:03.328Z"
   },
   {
    "duration": 91,
    "start_time": "2023-04-26T13:00:03.696Z"
   },
   {
    "duration": 184,
    "start_time": "2023-04-26T13:00:03.790Z"
   },
   {
    "duration": 13,
    "start_time": "2023-04-26T13:00:03.984Z"
   },
   {
    "duration": 294,
    "start_time": "2023-04-26T13:00:04.000Z"
   },
   {
    "duration": 32,
    "start_time": "2023-04-26T13:00:04.298Z"
   },
   {
    "duration": 155,
    "start_time": "2023-04-26T13:00:04.332Z"
   },
   {
    "duration": 26,
    "start_time": "2023-04-26T13:00:04.499Z"
   },
   {
    "duration": 67,
    "start_time": "2023-04-26T13:00:04.527Z"
   },
   {
    "duration": 23,
    "start_time": "2023-04-26T13:00:04.596Z"
   },
   {
    "duration": 1952,
    "start_time": "2023-04-26T13:00:04.621Z"
   },
   {
    "duration": 10,
    "start_time": "2023-04-26T13:00:06.585Z"
   },
   {
    "duration": 407,
    "start_time": "2023-04-26T13:00:06.596Z"
   },
   {
    "duration": 18,
    "start_time": "2023-04-26T13:00:07.005Z"
   },
   {
    "duration": 12,
    "start_time": "2023-04-26T13:00:07.025Z"
   },
   {
    "duration": 2107,
    "start_time": "2023-04-26T13:00:07.040Z"
   },
   {
    "duration": 46,
    "start_time": "2023-04-26T13:00:09.148Z"
   },
   {
    "duration": 440,
    "start_time": "2023-04-26T13:00:09.197Z"
   },
   {
    "duration": 33,
    "start_time": "2023-04-26T13:00:09.638Z"
   },
   {
    "duration": 38,
    "start_time": "2023-04-26T13:00:09.684Z"
   },
   {
    "duration": 1291,
    "start_time": "2023-04-26T13:00:09.724Z"
   },
   {
    "duration": 210,
    "start_time": "2023-04-26T13:00:11.018Z"
   },
   {
    "duration": 2,
    "start_time": "2023-04-26T13:00:11.230Z"
   },
   {
    "duration": 105,
    "start_time": "2023-04-26T13:00:11.234Z"
   },
   {
    "duration": 30,
    "start_time": "2023-04-26T13:00:11.341Z"
   },
   {
    "duration": 229,
    "start_time": "2023-04-26T13:00:11.387Z"
   },
   {
    "duration": 4,
    "start_time": "2023-04-26T13:00:11.618Z"
   },
   {
    "duration": 6896,
    "start_time": "2023-04-26T13:00:11.624Z"
   },
   {
    "duration": 41,
    "start_time": "2023-04-26T13:00:18.521Z"
   },
   {
    "duration": 28341,
    "start_time": "2023-04-26T13:00:18.580Z"
   },
   {
    "duration": 56,
    "start_time": "2023-04-26T13:00:46.923Z"
   },
   {
    "duration": 23,
    "start_time": "2023-04-26T13:00:46.988Z"
   },
   {
    "duration": 30,
    "start_time": "2023-04-26T13:00:47.012Z"
   },
   {
    "duration": 21451,
    "start_time": "2023-04-26T13:00:47.044Z"
   },
   {
    "duration": 94,
    "start_time": "2023-04-26T13:01:08.500Z"
   },
   {
    "duration": 112,
    "start_time": "2023-04-26T13:01:08.596Z"
   },
   {
    "duration": 4,
    "start_time": "2023-04-26T13:01:08.710Z"
   },
   {
    "duration": 37,
    "start_time": "2023-04-26T13:01:08.715Z"
   },
   {
    "duration": 47,
    "start_time": "2023-04-26T13:01:08.753Z"
   },
   {
    "duration": 473,
    "start_time": "2023-04-26T13:01:08.802Z"
   },
   {
    "duration": 17,
    "start_time": "2023-04-26T13:12:15.417Z"
   },
   {
    "duration": 151,
    "start_time": "2023-04-26T13:12:16.185Z"
   },
   {
    "duration": 144,
    "start_time": "2023-04-26T13:12:31.626Z"
   },
   {
    "duration": 31,
    "start_time": "2023-04-26T13:12:33.272Z"
   },
   {
    "duration": 20,
    "start_time": "2023-04-26T13:13:23.218Z"
   },
   {
    "duration": 9,
    "start_time": "2023-04-26T13:14:24.017Z"
   },
   {
    "duration": 4,
    "start_time": "2023-04-26T13:14:28.791Z"
   },
   {
    "duration": 25,
    "start_time": "2023-04-26T13:14:29.801Z"
   },
   {
    "duration": 10,
    "start_time": "2023-04-26T13:14:31.050Z"
   },
   {
    "duration": 27,
    "start_time": "2023-04-26T13:14:31.774Z"
   },
   {
    "duration": 2818,
    "start_time": "2023-04-26T13:15:02.977Z"
   },
   {
    "duration": 5,
    "start_time": "2023-04-26T13:15:22.795Z"
   },
   {
    "duration": 28,
    "start_time": "2023-04-26T13:15:23.384Z"
   },
   {
    "duration": 3,
    "start_time": "2023-04-26T13:17:01.736Z"
   },
   {
    "duration": 8,
    "start_time": "2023-04-26T13:17:29.258Z"
   },
   {
    "duration": 39,
    "start_time": "2023-04-26T13:17:29.268Z"
   },
   {
    "duration": 4,
    "start_time": "2023-04-26T13:17:29.309Z"
   },
   {
    "duration": 1408,
    "start_time": "2023-04-26T13:17:29.316Z"
   },
   {
    "duration": 1893,
    "start_time": "2023-04-26T13:17:30.726Z"
   },
   {
    "duration": 163,
    "start_time": "2023-04-26T13:17:32.620Z"
   },
   {
    "duration": 183,
    "start_time": "2023-04-26T13:17:32.796Z"
   },
   {
    "duration": 18,
    "start_time": "2023-04-26T13:17:32.990Z"
   },
   {
    "duration": 4,
    "start_time": "2023-04-26T13:17:33.012Z"
   },
   {
    "duration": 20,
    "start_time": "2023-04-26T13:17:33.018Z"
   },
   {
    "duration": 463,
    "start_time": "2023-04-26T13:17:33.039Z"
   },
   {
    "duration": 1131,
    "start_time": "2023-04-26T13:17:33.511Z"
   },
   {
    "duration": 2143,
    "start_time": "2023-04-26T13:17:34.655Z"
   },
   {
    "duration": 33,
    "start_time": "2023-04-26T13:17:36.800Z"
   },
   {
    "duration": 254,
    "start_time": "2023-04-26T13:17:36.835Z"
   },
   {
    "duration": 213,
    "start_time": "2023-04-26T13:17:37.101Z"
   },
   {
    "duration": 249,
    "start_time": "2023-04-26T13:17:37.316Z"
   },
   {
    "duration": 240,
    "start_time": "2023-04-26T13:17:37.567Z"
   },
   {
    "duration": 55,
    "start_time": "2023-04-26T13:17:37.808Z"
   },
   {
    "duration": 224,
    "start_time": "2023-04-26T13:17:37.864Z"
   },
   {
    "duration": 30,
    "start_time": "2023-04-26T13:17:38.090Z"
   },
   {
    "duration": 87,
    "start_time": "2023-04-26T13:17:38.122Z"
   },
   {
    "duration": 31,
    "start_time": "2023-04-26T13:17:38.210Z"
   },
   {
    "duration": 153,
    "start_time": "2023-04-26T13:17:38.251Z"
   },
   {
    "duration": 8,
    "start_time": "2023-04-26T13:17:38.406Z"
   },
   {
    "duration": 265,
    "start_time": "2023-04-26T13:17:38.416Z"
   },
   {
    "duration": 44,
    "start_time": "2023-04-26T13:17:38.682Z"
   },
   {
    "duration": 165,
    "start_time": "2023-04-26T13:17:38.728Z"
   },
   {
    "duration": 19,
    "start_time": "2023-04-26T13:17:38.895Z"
   },
   {
    "duration": 23,
    "start_time": "2023-04-26T13:17:38.916Z"
   },
   {
    "duration": 38,
    "start_time": "2023-04-26T13:17:38.941Z"
   },
   {
    "duration": 2007,
    "start_time": "2023-04-26T13:17:38.980Z"
   },
   {
    "duration": 11,
    "start_time": "2023-04-26T13:17:40.988Z"
   },
   {
    "duration": 320,
    "start_time": "2023-04-26T13:17:41.000Z"
   },
   {
    "duration": 15,
    "start_time": "2023-04-26T13:17:41.322Z"
   },
   {
    "duration": 42,
    "start_time": "2023-04-26T13:17:41.339Z"
   },
   {
    "duration": 1910,
    "start_time": "2023-04-26T13:17:41.388Z"
   },
   {
    "duration": 11,
    "start_time": "2023-04-26T13:17:43.299Z"
   },
   {
    "duration": 384,
    "start_time": "2023-04-26T13:17:43.311Z"
   },
   {
    "duration": 10,
    "start_time": "2023-04-26T13:17:43.696Z"
   },
   {
    "duration": 31,
    "start_time": "2023-04-26T13:17:43.708Z"
   },
   {
    "duration": 1352,
    "start_time": "2023-04-26T13:17:43.741Z"
   },
   {
    "duration": 196,
    "start_time": "2023-04-26T13:17:45.095Z"
   },
   {
    "duration": 3,
    "start_time": "2023-04-26T13:17:45.297Z"
   },
   {
    "duration": 106,
    "start_time": "2023-04-26T13:17:45.301Z"
   },
   {
    "duration": 8,
    "start_time": "2023-04-26T13:17:45.408Z"
   },
   {
    "duration": 248,
    "start_time": "2023-04-26T13:17:45.417Z"
   },
   {
    "duration": 3,
    "start_time": "2023-04-26T13:17:45.666Z"
   },
   {
    "duration": 7041,
    "start_time": "2023-04-26T13:17:45.670Z"
   },
   {
    "duration": 18,
    "start_time": "2023-04-26T13:17:52.713Z"
   },
   {
    "duration": 26862,
    "start_time": "2023-04-26T13:17:52.733Z"
   },
   {
    "duration": 20,
    "start_time": "2023-04-26T13:18:19.600Z"
   },
   {
    "duration": 20,
    "start_time": "2023-04-26T13:18:19.622Z"
   },
   {
    "duration": 61,
    "start_time": "2023-04-26T13:18:19.644Z"
   },
   {
    "duration": 21811,
    "start_time": "2023-04-26T13:18:19.707Z"
   },
   {
    "duration": 92,
    "start_time": "2023-04-26T13:18:41.520Z"
   },
   {
    "duration": 122,
    "start_time": "2023-04-26T13:18:41.614Z"
   },
   {
    "duration": 4,
    "start_time": "2023-04-26T13:18:41.737Z"
   },
   {
    "duration": 55,
    "start_time": "2023-04-26T13:18:41.742Z"
   },
   {
    "duration": 30,
    "start_time": "2023-04-26T13:18:41.799Z"
   },
   {
    "duration": 359,
    "start_time": "2023-04-26T13:18:41.832Z"
   },
   {
    "duration": 18,
    "start_time": "2023-04-26T13:18:42.196Z"
   },
   {
    "duration": 143,
    "start_time": "2023-04-26T13:18:42.216Z"
   },
   {
    "duration": 19,
    "start_time": "2023-04-26T13:18:42.360Z"
   },
   {
    "duration": 20,
    "start_time": "2023-04-26T13:18:42.380Z"
   },
   {
    "duration": 32,
    "start_time": "2023-04-26T13:18:42.401Z"
   },
   {
    "duration": 3,
    "start_time": "2023-04-26T13:18:42.434Z"
   },
   {
    "duration": 118,
    "start_time": "2023-04-26T13:18:42.439Z"
   },
   {
    "duration": 3,
    "start_time": "2023-04-26T13:23:47.585Z"
   },
   {
    "duration": 89,
    "start_time": "2023-04-26T13:23:51.515Z"
   },
   {
    "duration": 3,
    "start_time": "2023-04-26T13:23:56.194Z"
   },
   {
    "duration": 3069,
    "start_time": "2023-04-26T13:24:00.768Z"
   },
   {
    "duration": 3,
    "start_time": "2023-04-26T13:24:04.822Z"
   },
   {
    "duration": 805,
    "start_time": "2023-04-26T13:24:05.190Z"
   },
   {
    "duration": 311691,
    "start_time": "2023-04-26T13:24:05.996Z"
   },
   {
    "duration": 5,
    "start_time": "2023-04-26T13:29:17.690Z"
   },
   {
    "duration": 15,
    "start_time": "2023-04-26T13:29:17.700Z"
   },
   {
    "duration": 15,
    "start_time": "2023-04-26T13:29:17.718Z"
   },
   {
    "duration": 489,
    "start_time": "2023-04-26T13:29:17.734Z"
   },
   {
    "duration": 309758,
    "start_time": "2023-04-26T13:29:18.225Z"
   },
   {
    "duration": 8,
    "start_time": "2023-04-26T13:34:27.991Z"
   },
   {
    "duration": 5,
    "start_time": "2023-04-26T13:34:28.001Z"
   },
   {
    "duration": 9,
    "start_time": "2023-04-26T13:34:28.008Z"
   },
   {
    "duration": 100349,
    "start_time": "2023-04-26T13:34:28.019Z"
   },
   {
    "duration": 528,
    "start_time": "2023-04-26T13:36:08.382Z"
   },
   {
    "duration": 3,
    "start_time": "2023-04-26T13:36:08.912Z"
   },
   {
    "duration": 16,
    "start_time": "2023-04-26T13:36:08.917Z"
   },
   {
    "duration": 3,
    "start_time": "2023-04-26T13:36:08.935Z"
   },
   {
    "duration": 12339,
    "start_time": "2023-04-26T13:36:08.940Z"
   },
   {
    "duration": 153,
    "start_time": "2023-04-26T13:36:21.288Z"
   },
   {
    "duration": 4,
    "start_time": "2023-04-26T13:36:21.442Z"
   },
   {
    "duration": 116,
    "start_time": "2023-04-26T13:36:21.459Z"
   },
   {
    "duration": 479,
    "start_time": "2023-04-26T13:36:21.576Z"
   },
   {
    "duration": 5,
    "start_time": "2023-04-26T13:36:22.062Z"
   },
   {
    "duration": 354,
    "start_time": "2023-04-26T13:36:22.069Z"
   },
   {
    "duration": 91,
    "start_time": "2023-04-26T13:36:22.425Z"
   },
   {
    "duration": 4,
    "start_time": "2023-04-26T13:36:22.517Z"
   },
   {
    "duration": 14,
    "start_time": "2023-04-26T13:36:22.523Z"
   },
   {
    "duration": 61,
    "start_time": "2023-04-26T13:36:22.539Z"
   },
   {
    "duration": 120,
    "start_time": "2023-04-26T13:36:22.602Z"
   },
   {
    "duration": 88,
    "start_time": "2023-04-26T13:36:22.724Z"
   },
   {
    "duration": 4,
    "start_time": "2023-04-26T13:36:22.815Z"
   },
   {
    "duration": 7,
    "start_time": "2023-04-26T13:36:22.820Z"
   },
   {
    "duration": 729403,
    "start_time": "2023-04-26T13:39:27.209Z"
   },
   {
    "duration": 88,
    "start_time": "2023-04-26T13:51:36.614Z"
   },
   {
    "duration": 3,
    "start_time": "2023-04-26T13:51:36.704Z"
   },
   {
    "duration": 13,
    "start_time": "2023-04-26T13:51:36.710Z"
   },
   {
    "duration": 35,
    "start_time": "2023-04-26T13:51:36.724Z"
   },
   {
    "duration": 6,
    "start_time": "2023-04-26T13:53:12.635Z"
   },
   {
    "duration": 14217,
    "start_time": "2023-04-26T13:53:12.642Z"
   },
   {
    "duration": 69,
    "start_time": "2023-04-26T13:53:26.860Z"
   },
   {
    "duration": 3,
    "start_time": "2023-04-26T13:53:26.931Z"
   },
   {
    "duration": 8,
    "start_time": "2023-04-26T13:53:26.936Z"
   },
   {
    "duration": 35,
    "start_time": "2023-04-26T13:53:26.945Z"
   },
   {
    "duration": 13798,
    "start_time": "2023-04-26T13:53:26.982Z"
   },
   {
    "duration": 99,
    "start_time": "2023-04-26T13:53:40.782Z"
   },
   {
    "duration": 3,
    "start_time": "2023-04-26T13:53:40.883Z"
   },
   {
    "duration": 17,
    "start_time": "2023-04-26T13:53:40.888Z"
   },
   {
    "duration": 2,
    "start_time": "2023-04-26T13:54:09.942Z"
   },
   {
    "duration": 10,
    "start_time": "2023-04-26T13:54:10.276Z"
   },
   {
    "duration": 118,
    "start_time": "2023-04-26T13:54:10.982Z"
   },
   {
    "duration": 168,
    "start_time": "2023-04-26T13:54:11.373Z"
   },
   {
    "duration": 3,
    "start_time": "2023-04-26T15:33:50.183Z"
   },
   {
    "duration": 17,
    "start_time": "2023-04-26T15:33:50.188Z"
   },
   {
    "duration": 24,
    "start_time": "2023-04-26T15:33:50.206Z"
   },
   {
    "duration": 4353,
    "start_time": "2023-04-26T15:33:50.233Z"
   },
   {
    "duration": 1993,
    "start_time": "2023-04-26T15:33:54.588Z"
   },
   {
    "duration": 129,
    "start_time": "2023-04-26T15:33:56.584Z"
   },
   {
    "duration": 152,
    "start_time": "2023-04-26T15:33:56.715Z"
   },
   {
    "duration": 13,
    "start_time": "2023-04-26T15:33:56.876Z"
   },
   {
    "duration": 11,
    "start_time": "2023-04-26T15:33:56.892Z"
   },
   {
    "duration": 17,
    "start_time": "2023-04-26T15:33:56.905Z"
   },
   {
    "duration": 383,
    "start_time": "2023-04-26T15:33:56.924Z"
   },
   {
    "duration": 1044,
    "start_time": "2023-04-26T15:33:57.308Z"
   },
   {
    "duration": 1925,
    "start_time": "2023-04-26T15:33:58.354Z"
   },
   {
    "duration": 38,
    "start_time": "2023-04-26T15:34:00.280Z"
   },
   {
    "duration": 91,
    "start_time": "2023-04-26T15:34:00.320Z"
   },
   {
    "duration": 228,
    "start_time": "2023-04-26T15:34:00.413Z"
   },
   {
    "duration": 265,
    "start_time": "2023-04-26T15:34:00.643Z"
   },
   {
    "duration": 229,
    "start_time": "2023-04-26T15:34:00.910Z"
   },
   {
    "duration": 52,
    "start_time": "2023-04-26T15:34:01.141Z"
   },
   {
    "duration": 216,
    "start_time": "2023-04-26T15:34:01.195Z"
   },
   {
    "duration": 56,
    "start_time": "2023-04-26T15:34:01.413Z"
   },
   {
    "duration": 125,
    "start_time": "2023-04-26T15:34:01.472Z"
   },
   {
    "duration": 82,
    "start_time": "2023-04-26T15:34:01.599Z"
   },
   {
    "duration": 147,
    "start_time": "2023-04-26T15:34:01.687Z"
   },
   {
    "duration": 8,
    "start_time": "2023-04-26T15:34:01.836Z"
   },
   {
    "duration": 294,
    "start_time": "2023-04-26T15:34:01.845Z"
   },
   {
    "duration": 51,
    "start_time": "2023-04-26T15:34:02.141Z"
   },
   {
    "duration": 101,
    "start_time": "2023-04-26T15:34:02.194Z"
   },
   {
    "duration": 19,
    "start_time": "2023-04-26T15:34:02.296Z"
   },
   {
    "duration": 58,
    "start_time": "2023-04-26T15:34:02.317Z"
   },
   {
    "duration": 25,
    "start_time": "2023-04-26T15:34:02.380Z"
   },
   {
    "duration": 1799,
    "start_time": "2023-04-26T15:34:02.407Z"
   },
   {
    "duration": 5,
    "start_time": "2023-04-26T15:34:04.208Z"
   },
   {
    "duration": 308,
    "start_time": "2023-04-26T15:34:04.215Z"
   },
   {
    "duration": 19,
    "start_time": "2023-04-26T15:34:04.524Z"
   },
   {
    "duration": 22,
    "start_time": "2023-04-26T15:34:04.549Z"
   },
   {
    "duration": 1850,
    "start_time": "2023-04-26T15:34:04.579Z"
   },
   {
    "duration": 25,
    "start_time": "2023-04-26T15:34:06.431Z"
   },
   {
    "duration": 375,
    "start_time": "2023-04-26T15:34:06.458Z"
   },
   {
    "duration": 28,
    "start_time": "2023-04-26T15:34:06.835Z"
   },
   {
    "duration": 12,
    "start_time": "2023-04-26T15:34:06.871Z"
   },
   {
    "duration": 1199,
    "start_time": "2023-04-26T15:34:06.885Z"
   },
   {
    "duration": 180,
    "start_time": "2023-04-26T15:34:08.086Z"
   },
   {
    "duration": 5,
    "start_time": "2023-04-26T15:34:08.277Z"
   },
   {
    "duration": 91,
    "start_time": "2023-04-26T15:34:08.284Z"
   },
   {
    "duration": 8,
    "start_time": "2023-04-26T15:34:08.377Z"
   },
   {
    "duration": 216,
    "start_time": "2023-04-26T15:34:08.386Z"
   },
   {
    "duration": 3,
    "start_time": "2023-04-26T15:34:08.604Z"
   },
   {
    "duration": 6591,
    "start_time": "2023-04-26T15:34:08.609Z"
   },
   {
    "duration": 24,
    "start_time": "2023-04-26T15:34:15.202Z"
   },
   {
    "duration": 24556,
    "start_time": "2023-04-26T15:34:15.228Z"
   },
   {
    "duration": 24,
    "start_time": "2023-04-26T15:34:39.786Z"
   },
   {
    "duration": 25,
    "start_time": "2023-04-26T15:34:39.812Z"
   },
   {
    "duration": 51,
    "start_time": "2023-04-26T15:34:39.849Z"
   },
   {
    "duration": 20223,
    "start_time": "2023-04-26T15:34:39.901Z"
   },
   {
    "duration": 96,
    "start_time": "2023-04-26T15:35:00.126Z"
   },
   {
    "duration": 115,
    "start_time": "2023-04-26T15:35:00.223Z"
   },
   {
    "duration": 3,
    "start_time": "2023-04-26T15:35:00.340Z"
   },
   {
    "duration": 92,
    "start_time": "2023-04-26T15:35:00.345Z"
   },
   {
    "duration": 83,
    "start_time": "2023-04-26T15:35:00.439Z"
   },
   {
    "duration": 473,
    "start_time": "2023-04-26T15:35:00.523Z"
   },
   {
    "duration": 17,
    "start_time": "2023-04-26T15:35:00.998Z"
   },
   {
    "duration": 177,
    "start_time": "2023-04-26T15:35:01.017Z"
   },
   {
    "duration": 11,
    "start_time": "2023-04-26T15:35:01.196Z"
   },
   {
    "duration": 85,
    "start_time": "2023-04-26T15:35:01.208Z"
   },
   {
    "duration": 68,
    "start_time": "2023-04-26T15:35:01.295Z"
   },
   {
    "duration": 36,
    "start_time": "2023-04-26T15:35:01.364Z"
   },
   {
    "duration": 218,
    "start_time": "2023-04-26T15:35:01.401Z"
   },
   {
    "duration": 0,
    "start_time": "2023-04-26T15:35:01.620Z"
   },
   {
    "duration": 0,
    "start_time": "2023-04-26T15:35:01.621Z"
   },
   {
    "duration": 0,
    "start_time": "2023-04-26T15:35:01.622Z"
   },
   {
    "duration": 0,
    "start_time": "2023-04-26T15:35:01.623Z"
   },
   {
    "duration": 9,
    "start_time": "2023-04-26T15:37:16.491Z"
   },
   {
    "duration": 4,
    "start_time": "2023-04-26T15:37:46.580Z"
   },
   {
    "duration": 4,
    "start_time": "2023-04-26T15:41:48.237Z"
   },
   {
    "duration": 185,
    "start_time": "2023-04-26T15:41:48.703Z"
   },
   {
    "duration": 4,
    "start_time": "2023-04-26T15:42:00.044Z"
   },
   {
    "duration": 80,
    "start_time": "2023-04-26T15:42:01.179Z"
   },
   {
    "duration": 3,
    "start_time": "2023-04-26T15:42:01.781Z"
   },
   {
    "duration": 107,
    "start_time": "2023-04-26T15:42:03.237Z"
   },
   {
    "duration": 5,
    "start_time": "2023-04-26T15:42:25.662Z"
   },
   {
    "duration": 19,
    "start_time": "2023-04-26T15:42:26.118Z"
   },
   {
    "duration": 17,
    "start_time": "2023-04-26T15:49:02.746Z"
   },
   {
    "duration": 76,
    "start_time": "2023-04-26T15:50:14.918Z"
   },
   {
    "duration": 37,
    "start_time": "2023-04-26T15:50:18.271Z"
   },
   {
    "duration": 8,
    "start_time": "2023-04-26T15:52:05.818Z"
   },
   {
    "duration": 65,
    "start_time": "2023-04-26T15:52:25.874Z"
   },
   {
    "duration": 3,
    "start_time": "2023-04-26T15:54:12.018Z"
   },
   {
    "duration": 18,
    "start_time": "2023-04-26T15:54:13.315Z"
   },
   {
    "duration": 6007,
    "start_time": "2023-04-27T15:57:58.719Z"
   },
   {
    "duration": 2523,
    "start_time": "2023-04-27T15:58:04.729Z"
   },
   {
    "duration": 2345,
    "start_time": "2023-04-27T15:58:07.254Z"
   },
   {
    "duration": 114,
    "start_time": "2023-04-27T15:58:09.601Z"
   },
   {
    "duration": 105,
    "start_time": "2023-04-27T15:58:09.717Z"
   },
   {
    "duration": 12,
    "start_time": "2023-04-27T15:58:09.823Z"
   },
   {
    "duration": 7,
    "start_time": "2023-04-27T15:58:09.836Z"
   },
   {
    "duration": 12,
    "start_time": "2023-04-27T15:58:09.845Z"
   },
   {
    "duration": 292,
    "start_time": "2023-04-27T15:58:09.859Z"
   },
   {
    "duration": 966,
    "start_time": "2023-04-27T15:58:10.155Z"
   },
   {
    "duration": 1701,
    "start_time": "2023-04-27T15:58:11.122Z"
   },
   {
    "duration": 33,
    "start_time": "2023-04-27T15:58:12.825Z"
   },
   {
    "duration": 44,
    "start_time": "2023-04-27T15:58:12.860Z"
   },
   {
    "duration": 196,
    "start_time": "2023-04-27T15:58:12.906Z"
   },
   {
    "duration": 199,
    "start_time": "2023-04-27T15:58:13.103Z"
   },
   {
    "duration": 212,
    "start_time": "2023-04-27T15:58:13.303Z"
   },
   {
    "duration": 28,
    "start_time": "2023-04-27T15:58:13.516Z"
   },
   {
    "duration": 160,
    "start_time": "2023-04-27T15:58:13.545Z"
   },
   {
    "duration": 26,
    "start_time": "2023-04-27T15:58:13.706Z"
   },
   {
    "duration": 83,
    "start_time": "2023-04-27T15:58:13.734Z"
   },
   {
    "duration": 39,
    "start_time": "2023-04-27T15:58:13.818Z"
   },
   {
    "duration": 143,
    "start_time": "2023-04-27T15:58:13.859Z"
   },
   {
    "duration": 9,
    "start_time": "2023-04-27T15:58:14.005Z"
   },
   {
    "duration": 273,
    "start_time": "2023-04-27T15:58:14.016Z"
   },
   {
    "duration": 31,
    "start_time": "2023-04-27T15:58:14.290Z"
   },
   {
    "duration": 87,
    "start_time": "2023-04-27T15:58:14.323Z"
   },
   {
    "duration": 16,
    "start_time": "2023-04-27T15:58:14.412Z"
   },
   {
    "duration": 32,
    "start_time": "2023-04-27T15:58:14.432Z"
   },
   {
    "duration": 8,
    "start_time": "2023-04-27T15:58:14.465Z"
   },
   {
    "duration": 1579,
    "start_time": "2023-04-27T15:58:14.475Z"
   },
   {
    "duration": 5,
    "start_time": "2023-04-27T15:58:16.056Z"
   },
   {
    "duration": 336,
    "start_time": "2023-04-27T15:58:16.063Z"
   },
   {
    "duration": 19,
    "start_time": "2023-04-27T15:58:16.400Z"
   },
   {
    "duration": 9,
    "start_time": "2023-04-27T15:58:16.420Z"
   },
   {
    "duration": 1665,
    "start_time": "2023-04-27T15:58:16.431Z"
   },
   {
    "duration": 10,
    "start_time": "2023-04-27T15:58:18.098Z"
   },
   {
    "duration": 341,
    "start_time": "2023-04-27T15:58:18.110Z"
   },
   {
    "duration": 9,
    "start_time": "2023-04-27T15:58:18.453Z"
   },
   {
    "duration": 20,
    "start_time": "2023-04-27T15:58:18.464Z"
   },
   {
    "duration": 1234,
    "start_time": "2023-04-27T15:58:18.486Z"
   },
   {
    "duration": 161,
    "start_time": "2023-04-27T15:58:19.722Z"
   },
   {
    "duration": 2,
    "start_time": "2023-04-27T15:58:19.885Z"
   },
   {
    "duration": 85,
    "start_time": "2023-04-27T15:58:19.889Z"
   },
   {
    "duration": 8,
    "start_time": "2023-04-27T15:58:19.975Z"
   },
   {
    "duration": 220,
    "start_time": "2023-04-27T15:58:19.984Z"
   },
   {
    "duration": 2,
    "start_time": "2023-04-27T15:58:20.206Z"
   },
   {
    "duration": 5982,
    "start_time": "2023-04-27T15:58:20.209Z"
   },
   {
    "duration": 16,
    "start_time": "2023-04-27T15:58:26.193Z"
   },
   {
    "duration": 20438,
    "start_time": "2023-04-27T15:58:26.211Z"
   },
   {
    "duration": 22,
    "start_time": "2023-04-27T15:58:46.651Z"
   },
   {
    "duration": 20,
    "start_time": "2023-04-27T15:58:46.675Z"
   },
   {
    "duration": 24,
    "start_time": "2023-04-27T15:58:46.697Z"
   },
   {
    "duration": 15320,
    "start_time": "2023-04-27T15:58:46.723Z"
   },
   {
    "duration": 72,
    "start_time": "2023-04-27T15:59:02.044Z"
   },
   {
    "duration": 141,
    "start_time": "2023-04-27T15:59:02.118Z"
   },
   {
    "duration": 6,
    "start_time": "2023-04-27T15:59:02.261Z"
   },
   {
    "duration": 70,
    "start_time": "2023-04-27T15:59:02.268Z"
   },
   {
    "duration": 35,
    "start_time": "2023-04-27T15:59:02.339Z"
   },
   {
    "duration": 191,
    "start_time": "2023-04-27T15:59:02.376Z"
   },
   {
    "duration": 183,
    "start_time": "2023-04-27T15:59:02.569Z"
   },
   {
    "duration": 396,
    "start_time": "2023-04-27T15:59:02.756Z"
   },
   {
    "duration": 19,
    "start_time": "2023-04-27T15:59:03.155Z"
   },
   {
    "duration": 162,
    "start_time": "2023-04-27T15:59:03.176Z"
   },
   {
    "duration": 24,
    "start_time": "2023-04-27T15:59:03.340Z"
   },
   {
    "duration": 3,
    "start_time": "2023-04-27T15:59:03.366Z"
   },
   {
    "duration": 25,
    "start_time": "2023-04-27T15:59:03.370Z"
   },
   {
    "duration": 4,
    "start_time": "2023-04-27T15:59:03.397Z"
   },
   {
    "duration": 154,
    "start_time": "2023-04-27T15:59:03.403Z"
   },
   {
    "duration": 3,
    "start_time": "2023-04-27T16:02:04.295Z"
   },
   {
    "duration": 19,
    "start_time": "2023-04-27T16:02:04.919Z"
   },
   {
    "duration": 10,
    "start_time": "2023-04-27T16:03:05.325Z"
   },
   {
    "duration": 4,
    "start_time": "2023-04-27T16:03:20.359Z"
   },
   {
    "duration": 2298,
    "start_time": "2023-04-27T16:06:04.210Z"
   },
   {
    "duration": 5,
    "start_time": "2023-04-27T16:06:07.354Z"
   },
   {
    "duration": 6,
    "start_time": "2023-04-27T16:06:22.834Z"
   },
   {
    "duration": 6670,
    "start_time": "2023-04-27T16:06:59.097Z"
   },
   {
    "duration": 8,
    "start_time": "2023-04-27T16:07:11.353Z"
   },
   {
    "duration": 16,
    "start_time": "2023-04-27T16:07:33.594Z"
   },
   {
    "duration": 3,
    "start_time": "2023-04-27T16:12:41.594Z"
   },
   {
    "duration": 32,
    "start_time": "2023-04-27T16:12:43.166Z"
   },
   {
    "duration": 4155,
    "start_time": "2023-04-27T16:17:40.911Z"
   },
   {
    "duration": 4999,
    "start_time": "2023-04-27T16:17:45.069Z"
   },
   {
    "duration": 5,
    "start_time": "2023-04-27T16:17:50.070Z"
   },
   {
    "duration": 1443,
    "start_time": "2023-04-27T16:17:50.077Z"
   },
   {
    "duration": 105,
    "start_time": "2023-04-27T16:17:51.523Z"
   },
   {
    "duration": 95,
    "start_time": "2023-04-27T16:17:51.630Z"
   },
   {
    "duration": 13,
    "start_time": "2023-04-27T16:17:51.726Z"
   },
   {
    "duration": 16,
    "start_time": "2023-04-27T16:17:51.741Z"
   },
   {
    "duration": 5,
    "start_time": "2023-04-27T16:17:51.759Z"
   },
   {
    "duration": 255,
    "start_time": "2023-04-27T16:17:51.765Z"
   },
   {
    "duration": 870,
    "start_time": "2023-04-27T16:17:52.022Z"
   },
   {
    "duration": 1657,
    "start_time": "2023-04-27T16:17:52.893Z"
   },
   {
    "duration": 29,
    "start_time": "2023-04-27T16:17:54.555Z"
   },
   {
    "duration": 26,
    "start_time": "2023-04-27T16:17:54.588Z"
   },
   {
    "duration": 197,
    "start_time": "2023-04-27T16:17:54.616Z"
   },
   {
    "duration": 185,
    "start_time": "2023-04-27T16:17:54.815Z"
   },
   {
    "duration": 196,
    "start_time": "2023-04-27T16:17:55.002Z"
   },
   {
    "duration": 31,
    "start_time": "2023-04-27T16:17:55.199Z"
   },
   {
    "duration": 181,
    "start_time": "2023-04-27T16:17:55.231Z"
   },
   {
    "duration": 33,
    "start_time": "2023-04-27T16:17:55.413Z"
   },
   {
    "duration": 93,
    "start_time": "2023-04-27T16:17:55.448Z"
   },
   {
    "duration": 29,
    "start_time": "2023-04-27T16:17:55.543Z"
   },
   {
    "duration": 113,
    "start_time": "2023-04-27T16:17:55.573Z"
   },
   {
    "duration": 8,
    "start_time": "2023-04-27T16:17:55.687Z"
   },
   {
    "duration": 394,
    "start_time": "2023-04-27T16:17:55.697Z"
   },
   {
    "duration": 29,
    "start_time": "2023-04-27T16:17:56.093Z"
   },
   {
    "duration": 85,
    "start_time": "2023-04-27T16:17:56.124Z"
   },
   {
    "duration": 17,
    "start_time": "2023-04-27T16:17:56.210Z"
   },
   {
    "duration": 37,
    "start_time": "2023-04-27T16:17:56.228Z"
   },
   {
    "duration": 10,
    "start_time": "2023-04-27T16:17:56.267Z"
   },
   {
    "duration": 1483,
    "start_time": "2023-04-27T16:17:56.279Z"
   },
   {
    "duration": 5,
    "start_time": "2023-04-27T16:17:57.764Z"
   },
   {
    "duration": 225,
    "start_time": "2023-04-27T16:17:57.771Z"
   },
   {
    "duration": 17,
    "start_time": "2023-04-27T16:17:57.998Z"
   },
   {
    "duration": 8,
    "start_time": "2023-04-27T16:17:58.016Z"
   },
   {
    "duration": 1695,
    "start_time": "2023-04-27T16:17:58.026Z"
   },
   {
    "duration": 12,
    "start_time": "2023-04-27T16:17:59.723Z"
   },
   {
    "duration": 399,
    "start_time": "2023-04-27T16:17:59.737Z"
   },
   {
    "duration": 21,
    "start_time": "2023-04-27T16:18:00.139Z"
   },
   {
    "duration": 10,
    "start_time": "2023-04-27T16:18:00.164Z"
   },
   {
    "duration": 1496,
    "start_time": "2023-04-27T16:18:00.181Z"
   },
   {
    "duration": 190,
    "start_time": "2023-04-27T16:18:01.678Z"
   },
   {
    "duration": 4,
    "start_time": "2023-04-27T16:18:01.870Z"
   },
   {
    "duration": 189,
    "start_time": "2023-04-27T16:18:01.875Z"
   },
   {
    "duration": 9,
    "start_time": "2023-04-27T16:18:02.065Z"
   },
   {
    "duration": 364,
    "start_time": "2023-04-27T16:18:02.076Z"
   },
   {
    "duration": 3,
    "start_time": "2023-04-27T16:18:02.442Z"
   },
   {
    "duration": 5616,
    "start_time": "2023-04-27T16:18:02.446Z"
   },
   {
    "duration": 16,
    "start_time": "2023-04-27T16:18:08.064Z"
   },
   {
    "duration": 15063,
    "start_time": "2023-04-27T16:18:28.066Z"
   },
   {
    "duration": 62,
    "start_time": "2023-04-27T16:18:43.130Z"
   },
   {
    "duration": 105,
    "start_time": "2023-04-27T16:18:43.194Z"
   },
   {
    "duration": 4,
    "start_time": "2023-04-27T16:18:43.301Z"
   },
   {
    "duration": 38,
    "start_time": "2023-04-27T16:18:43.307Z"
   },
   {
    "duration": 23,
    "start_time": "2023-04-27T16:18:43.347Z"
   },
   {
    "duration": 163,
    "start_time": "2023-04-27T16:18:43.372Z"
   },
   {
    "duration": 156,
    "start_time": "2023-04-27T16:18:43.537Z"
   },
   {
    "duration": 427,
    "start_time": "2023-04-27T16:18:43.695Z"
   },
   {
    "duration": 17,
    "start_time": "2023-04-27T16:18:44.123Z"
   },
   {
    "duration": 122,
    "start_time": "2023-04-27T16:18:44.142Z"
   },
   {
    "duration": 10,
    "start_time": "2023-04-27T16:18:44.265Z"
   },
   {
    "duration": 2,
    "start_time": "2023-04-27T16:18:44.277Z"
   },
   {
    "duration": 21,
    "start_time": "2023-04-27T16:18:44.281Z"
   },
   {
    "duration": 3,
    "start_time": "2023-04-27T16:18:44.304Z"
   },
   {
    "duration": 55,
    "start_time": "2023-04-27T16:18:44.308Z"
   },
   {
    "duration": 4259,
    "start_time": "2023-04-27T16:25:46.243Z"
   },
   {
    "duration": 1212,
    "start_time": "2023-04-27T16:25:50.504Z"
   },
   {
    "duration": 1362,
    "start_time": "2023-04-27T16:25:51.718Z"
   },
   {
    "duration": 129,
    "start_time": "2023-04-27T16:25:53.083Z"
   },
   {
    "duration": 112,
    "start_time": "2023-04-27T16:25:53.214Z"
   },
   {
    "duration": 13,
    "start_time": "2023-04-27T16:25:53.328Z"
   },
   {
    "duration": 14,
    "start_time": "2023-04-27T16:25:53.342Z"
   },
   {
    "duration": 4,
    "start_time": "2023-04-27T16:25:53.357Z"
   },
   {
    "duration": 277,
    "start_time": "2023-04-27T16:25:53.363Z"
   },
   {
    "duration": 1013,
    "start_time": "2023-04-27T16:25:53.642Z"
   },
   {
    "duration": 1719,
    "start_time": "2023-04-27T16:25:54.657Z"
   },
   {
    "duration": 30,
    "start_time": "2023-04-27T16:25:56.377Z"
   },
   {
    "duration": 39,
    "start_time": "2023-04-27T16:25:56.408Z"
   },
   {
    "duration": 206,
    "start_time": "2023-04-27T16:25:56.449Z"
   },
   {
    "duration": 200,
    "start_time": "2023-04-27T16:25:56.657Z"
   },
   {
    "duration": 197,
    "start_time": "2023-04-27T16:25:56.859Z"
   },
   {
    "duration": 28,
    "start_time": "2023-04-27T16:25:57.057Z"
   },
   {
    "duration": 183,
    "start_time": "2023-04-27T16:25:57.087Z"
   },
   {
    "duration": 30,
    "start_time": "2023-04-27T16:25:57.272Z"
   },
   {
    "duration": 92,
    "start_time": "2023-04-27T16:25:57.303Z"
   },
   {
    "duration": 35,
    "start_time": "2023-04-27T16:25:57.396Z"
   },
   {
    "duration": 125,
    "start_time": "2023-04-27T16:25:57.434Z"
   },
   {
    "duration": 8,
    "start_time": "2023-04-27T16:25:57.561Z"
   },
   {
    "duration": 235,
    "start_time": "2023-04-27T16:25:57.571Z"
   },
   {
    "duration": 32,
    "start_time": "2023-04-27T16:25:57.808Z"
   },
   {
    "duration": 73,
    "start_time": "2023-04-27T16:25:57.856Z"
   },
   {
    "duration": 37,
    "start_time": "2023-04-27T16:25:57.931Z"
   },
   {
    "duration": 21,
    "start_time": "2023-04-27T16:25:57.972Z"
   },
   {
    "duration": 10,
    "start_time": "2023-04-27T16:25:57.994Z"
   },
   {
    "duration": 1531,
    "start_time": "2023-04-27T16:25:58.006Z"
   },
   {
    "duration": 6,
    "start_time": "2023-04-27T16:25:59.539Z"
   },
   {
    "duration": 350,
    "start_time": "2023-04-27T16:25:59.547Z"
   },
   {
    "duration": 19,
    "start_time": "2023-04-27T16:25:59.899Z"
   },
   {
    "duration": 9,
    "start_time": "2023-04-27T16:25:59.919Z"
   },
   {
    "duration": 1754,
    "start_time": "2023-04-27T16:25:59.930Z"
   },
   {
    "duration": 12,
    "start_time": "2023-04-27T16:26:01.686Z"
   },
   {
    "duration": 392,
    "start_time": "2023-04-27T16:26:01.700Z"
   },
   {
    "duration": 12,
    "start_time": "2023-04-27T16:26:02.094Z"
   },
   {
    "duration": 60,
    "start_time": "2023-04-27T16:26:02.108Z"
   },
   {
    "duration": 1371,
    "start_time": "2023-04-27T16:26:02.170Z"
   },
   {
    "duration": 180,
    "start_time": "2023-04-27T16:26:03.542Z"
   },
   {
    "duration": 3,
    "start_time": "2023-04-27T16:26:03.723Z"
   },
   {
    "duration": 90,
    "start_time": "2023-04-27T16:26:03.727Z"
   },
   {
    "duration": 8,
    "start_time": "2023-04-27T16:26:03.819Z"
   },
   {
    "duration": 271,
    "start_time": "2023-04-27T16:26:03.828Z"
   },
   {
    "duration": 3,
    "start_time": "2023-04-27T16:26:04.102Z"
   },
   {
    "duration": 5429,
    "start_time": "2023-04-27T16:26:04.107Z"
   },
   {
    "duration": 24,
    "start_time": "2023-04-27T16:26:09.538Z"
   },
   {
    "duration": 20169,
    "start_time": "2023-04-27T16:26:09.564Z"
   },
   {
    "duration": 27,
    "start_time": "2023-04-27T16:26:29.734Z"
   },
   {
    "duration": 21,
    "start_time": "2023-04-27T16:26:29.763Z"
   },
   {
    "duration": 25,
    "start_time": "2023-04-27T16:26:29.786Z"
   },
   {
    "duration": 15185,
    "start_time": "2023-04-27T16:26:29.813Z"
   },
   {
    "duration": 68,
    "start_time": "2023-04-27T16:26:45.000Z"
   },
   {
    "duration": 117,
    "start_time": "2023-04-27T16:26:45.069Z"
   },
   {
    "duration": 14,
    "start_time": "2023-04-27T16:26:45.188Z"
   },
   {
    "duration": 29,
    "start_time": "2023-04-27T16:26:45.204Z"
   },
   {
    "duration": 28,
    "start_time": "2023-04-27T16:26:45.235Z"
   },
   {
    "duration": 165,
    "start_time": "2023-04-27T16:26:45.264Z"
   },
   {
    "duration": 162,
    "start_time": "2023-04-27T16:26:45.431Z"
   },
   {
    "duration": 390,
    "start_time": "2023-04-27T16:26:45.594Z"
   },
   {
    "duration": 18,
    "start_time": "2023-04-27T16:26:45.986Z"
   },
   {
    "duration": 134,
    "start_time": "2023-04-27T16:26:46.005Z"
   },
   {
    "duration": 20,
    "start_time": "2023-04-27T16:26:46.141Z"
   },
   {
    "duration": 3,
    "start_time": "2023-04-27T16:26:46.163Z"
   },
   {
    "duration": 48,
    "start_time": "2023-04-27T16:26:46.167Z"
   },
   {
    "duration": 3,
    "start_time": "2023-04-27T16:26:46.217Z"
   },
   {
    "duration": 65,
    "start_time": "2023-04-27T16:26:46.221Z"
   },
   {
    "duration": 2,
    "start_time": "2023-04-27T16:26:46.288Z"
   },
   {
    "duration": 64,
    "start_time": "2023-04-27T16:26:46.292Z"
   },
   {
    "duration": 3,
    "start_time": "2023-04-27T16:26:46.358Z"
   },
   {
    "duration": 4642,
    "start_time": "2023-04-27T16:26:46.362Z"
   },
   {
    "duration": 3,
    "start_time": "2023-04-27T16:27:33.322Z"
   }
  ],
  "kernelspec": {
   "display_name": "Python 3 (ipykernel)",
   "language": "python",
   "name": "python3"
  },
  "language_info": {
   "codemirror_mode": {
    "name": "ipython",
    "version": 3
   },
   "file_extension": ".py",
   "mimetype": "text/x-python",
   "name": "python",
   "nbconvert_exporter": "python",
   "pygments_lexer": "ipython3",
   "version": "3.9.13"
  },
  "toc": {
   "base_numbering": 1,
   "nav_menu": {},
   "number_sections": true,
   "sideBar": true,
   "skip_h1_title": true,
   "title_cell": "Table of Contents",
   "title_sidebar": "Contents",
   "toc_cell": false,
   "toc_position": {},
   "toc_section_display": true,
   "toc_window_display": true
  }
 },
 "nbformat": 4,
 "nbformat_minor": 2
}
